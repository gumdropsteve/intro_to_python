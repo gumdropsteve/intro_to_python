{
 "cells": [
  {
   "cell_type": "code",
   "execution_count": 2,
   "metadata": {},
   "outputs": [
    {
     "data": {
      "text/plain": [
       "'https://airbnb.com/rooms/17048600'"
      ]
     },
     "execution_count": 2,
     "metadata": {},
     "output_type": "execute_result"
    }
   ],
   "source": [
    "import pandas as pd\n",
    "\n",
    "df = pd.read_csv('anchorage_entire_homes_2021-01-04.csv')\n",
    "\n",
    "# give me a link\n",
    "df['a'][0]"
   ]
  },
  {
   "cell_type": "code",
   "execution_count": 7,
   "metadata": {},
   "outputs": [
    {
     "data": {
      "text/html": [
       "<div>\n",
       "<style scoped>\n",
       "    .dataframe tbody tr th:only-of-type {\n",
       "        vertical-align: middle;\n",
       "    }\n",
       "\n",
       "    .dataframe tbody tr th {\n",
       "        vertical-align: top;\n",
       "    }\n",
       "\n",
       "    .dataframe thead th {\n",
       "        text-align: right;\n",
       "    }\n",
       "</style>\n",
       "<table border=\"1\" class=\"dataframe\">\n",
       "  <thead>\n",
       "    <tr style=\"text-align: right;\">\n",
       "      <th></th>\n",
       "      <th>a</th>\n",
       "      <th>b</th>\n",
       "      <th>c</th>\n",
       "      <th>d</th>\n",
       "      <th>e</th>\n",
       "      <th>f</th>\n",
       "      <th>g</th>\n",
       "      <th>h</th>\n",
       "    </tr>\n",
       "  </thead>\n",
       "  <tbody>\n",
       "    <tr>\n",
       "      <th>0</th>\n",
       "      <td>https://airbnb.com/rooms/17048600</td>\n",
       "      <td>Snow City Hideaway // DOWNTOWN with Ocean View...</td>\n",
       "      <td>Entire apartment in Anchorage</td>\n",
       "      <td>4 guests · 1 bedroom · 2 beds · 1 bath</td>\n",
       "      <td>$60 / night</td>\n",
       "      <td>Wifi·Waterfront·Selfcheck-in·Petsallowed</td>\n",
       "      <td>Rating 4.67 out of 5;4.67333 reviews (333)</td>\n",
       "      <td>333 reviews</td>\n",
       "    </tr>\n",
       "    <tr>\n",
       "      <th>1</th>\n",
       "      <td>https://airbnb.com/rooms/33995587</td>\n",
       "      <td>Umed room 4 - null - Anchorage</td>\n",
       "      <td>Private room in Anchorage</td>\n",
       "      <td>2 guests · 1 bedroom · 1 bed · 1 shared bath</td>\n",
       "      <td>$20 / night</td>\n",
       "      <td>Wifi·Selfcheck-in·Kitchen·Indoorfireplace</td>\n",
       "      <td>Rating 5.0 out of 5;5.09 reviews (9)</td>\n",
       "      <td>9 reviews</td>\n",
       "    </tr>\n",
       "    <tr>\n",
       "      <th>2</th>\n",
       "      <td>https://airbnb.com/rooms/47354632</td>\n",
       "      <td>South Anchorage Studio Suite- Fox Den - null -...</td>\n",
       "      <td>Entire apartment in Anchorage</td>\n",
       "      <td>2 guests · Studio · 1 bed · 1 bath</td>\n",
       "      <td>$76 / night</td>\n",
       "      <td>Wifi·Kitchen·Dryer·Washer</td>\n",
       "      <td>NaN</td>\n",
       "      <td>NaN</td>\n",
       "    </tr>\n",
       "    <tr>\n",
       "      <th>3</th>\n",
       "      <td>https://airbnb.com/rooms/33072454</td>\n",
       "      <td>&gt; UPSCALE Cottage / Central to DOWNTOWN &amp; Trai...</td>\n",
       "      <td>Entire house in Anchorage</td>\n",
       "      <td>4 guests · 1 bedroom · 2 beds · 1 bath</td>\n",
       "      <td>$65 / night</td>\n",
       "      <td>Wifi·Selfcheck-in·Kitchen·Dryer</td>\n",
       "      <td>Rating 4.90 out of 5;4.90150 reviews (150)</td>\n",
       "      <td>150 reviews</td>\n",
       "    </tr>\n",
       "    <tr>\n",
       "      <th>4</th>\n",
       "      <td>https://airbnb.com/rooms/36774364</td>\n",
       "      <td>Midtown - Cozy Studio!  Travel Nurse Housing! ...</td>\n",
       "      <td>Entire guest suite in Anchorage</td>\n",
       "      <td>2 guests · Studio · 1 bed · 1 bath</td>\n",
       "      <td>$55 / night</td>\n",
       "      <td>Wifi·Breakfast·Ski-in/Ski-out·Selfcheck-in</td>\n",
       "      <td>Rating 5.0 out of 5;5.025 reviews (25)</td>\n",
       "      <td>25 reviews</td>\n",
       "    </tr>\n",
       "  </tbody>\n",
       "</table>\n",
       "</div>"
      ],
      "text/plain": [
       "                                   a  \\\n",
       "0  https://airbnb.com/rooms/17048600   \n",
       "1  https://airbnb.com/rooms/33995587   \n",
       "2  https://airbnb.com/rooms/47354632   \n",
       "3  https://airbnb.com/rooms/33072454   \n",
       "4  https://airbnb.com/rooms/36774364   \n",
       "\n",
       "                                                   b  \\\n",
       "0  Snow City Hideaway // DOWNTOWN with Ocean View...   \n",
       "1                     Umed room 4 - null - Anchorage   \n",
       "2  South Anchorage Studio Suite- Fox Den - null -...   \n",
       "3  > UPSCALE Cottage / Central to DOWNTOWN & Trai...   \n",
       "4  Midtown - Cozy Studio!  Travel Nurse Housing! ...   \n",
       "\n",
       "                                 c  \\\n",
       "0    Entire apartment in Anchorage   \n",
       "1        Private room in Anchorage   \n",
       "2    Entire apartment in Anchorage   \n",
       "3        Entire house in Anchorage   \n",
       "4  Entire guest suite in Anchorage   \n",
       "\n",
       "                                              d            e  \\\n",
       "0        4 guests · 1 bedroom · 2 beds · 1 bath  $60 / night   \n",
       "1  2 guests · 1 bedroom · 1 bed · 1 shared bath  $20 / night   \n",
       "2            2 guests · Studio · 1 bed · 1 bath  $76 / night   \n",
       "3        4 guests · 1 bedroom · 2 beds · 1 bath  $65 / night   \n",
       "4            2 guests · Studio · 1 bed · 1 bath  $55 / night   \n",
       "\n",
       "                                            f  \\\n",
       "0    Wifi·Waterfront·Selfcheck-in·Petsallowed   \n",
       "1   Wifi·Selfcheck-in·Kitchen·Indoorfireplace   \n",
       "2                   Wifi·Kitchen·Dryer·Washer   \n",
       "3             Wifi·Selfcheck-in·Kitchen·Dryer   \n",
       "4  Wifi·Breakfast·Ski-in/Ski-out·Selfcheck-in   \n",
       "\n",
       "                                            g            h  \n",
       "0  Rating 4.67 out of 5;4.67333 reviews (333)  333 reviews  \n",
       "1        Rating 5.0 out of 5;5.09 reviews (9)    9 reviews  \n",
       "2                                         NaN          NaN  \n",
       "3  Rating 4.90 out of 5;4.90150 reviews (150)  150 reviews  \n",
       "4      Rating 5.0 out of 5;5.025 reviews (25)   25 reviews  "
      ]
     },
     "execution_count": 7,
     "metadata": {},
     "output_type": "execute_result"
    }
   ],
   "source": [
    "# look for similar columns (we want to extract data)\n",
    "df.head()"
   ]
  },
  {
   "cell_type": "code",
   "execution_count": 8,
   "metadata": {},
   "outputs": [
    {
     "data": {
      "text/plain": [
       "0    $60 / night\n",
       "1    $20 / night\n",
       "2    $76 / night\n",
       "3    $65 / night\n",
       "4    $55 / night\n",
       "Name: e, dtype: object"
      ]
     },
     "execution_count": 8,
     "metadata": {},
     "output_type": "execute_result"
    }
   ],
   "source": [
    "# the price column looks like it follows a similar format \n",
    "df['e'].head()"
   ]
  },
  {
   "cell_type": "code",
   "execution_count": 10,
   "metadata": {},
   "outputs": [
    {
     "data": {
      "text/plain": [
       "str"
      ]
     },
     "execution_count": 10,
     "metadata": {},
     "output_type": "execute_result"
    }
   ],
   "source": [
    "# ${what we want} / night\n",
    "type(df['e'][0])"
   ]
  },
  {
   "cell_type": "code",
   "execution_count": 11,
   "metadata": {},
   "outputs": [
    {
     "data": {
      "text/plain": [
       "'$60 / night'"
      ]
     },
     "execution_count": 11,
     "metadata": {},
     "output_type": "execute_result"
    }
   ],
   "source": [
    "df['e'][0]"
   ]
  },
  {
   "cell_type": "code",
   "execution_count": 25,
   "metadata": {},
   "outputs": [
    {
     "data": {
      "text/plain": [
       "60.0"
      ]
     },
     "execution_count": 25,
     "metadata": {},
     "output_type": "execute_result"
    }
   ],
   "source": [
    "first_value = df['e'][0]\n",
    "\n",
    "# first_value.split(\" \")[0]\n",
    "\n",
    "float(first_value.split(\" \")[0][1:])  # took this and added it to base code"
   ]
  },
  {
   "cell_type": "code",
   "execution_count": null,
   "metadata": {},
   "outputs": [],
   "source": [
    "# old\n",
    "def get_room_price(listing):\n",
    "    \"\"\"\n",
    "    returns the nightly rate (price) of given listing\n",
    "    \"\"\"\n",
    "    price_text = listing.find('div', {'class':'_ls0e43'}).text\n",
    "    price = price_text.split('Price:')\n",
    "    return price[1]"
   ]
  },
  {
   "cell_type": "code",
   "execution_count": 18,
   "metadata": {},
   "outputs": [
    {
     "data": {
      "text/plain": [
       "'$60 / night'"
      ]
     },
     "execution_count": 18,
     "metadata": {},
     "output_type": "execute_result"
    }
   ],
   "source": [
    "# new (now returns float value of price per night)\n",
    "def get_room_price(listing):\n",
    "    \"\"\"\n",
    "    returns the nightly rate (price) of given listing\n",
    "    \"\"\"\n",
    "    price_text = listing.find('div', {'class':'_ls0e43'}).text\n",
    "    price = price_text.split('Price:')\n",
    "    price = price[1]\n",
    "    price = price.split(\" \")[0][1:]  # skip the $\n",
    "    return price"
   ]
  },
  {
   "cell_type": "markdown",
   "metadata": {},
   "source": [
    "## Extracting Reviews\n",
    "```\n",
    "Rating 4.67 out of 5;4.67333 reviews (333)\n",
    "```"
   ]
  },
  {
   "cell_type": "code",
   "execution_count": 28,
   "metadata": {},
   "outputs": [
    {
     "data": {
      "text/plain": [
       "'Rating 4.67 out of 5;4.67333 reviews\\xa0(333)'"
      ]
     },
     "execution_count": 28,
     "metadata": {},
     "output_type": "execute_result"
    }
   ],
   "source": [
    "df['g'][0]"
   ]
  },
  {
   "cell_type": "code",
   "execution_count": 29,
   "metadata": {},
   "outputs": [
    {
     "data": {
      "text/plain": [
       "str"
      ]
     },
     "execution_count": 29,
     "metadata": {},
     "output_type": "execute_result"
    }
   ],
   "source": [
    "type(df['g'][0])"
   ]
  },
  {
   "cell_type": "code",
   "execution_count": 30,
   "metadata": {},
   "outputs": [
    {
     "data": {
      "text/plain": [
       "0    Rating 4.67 out of 5;4.67333 reviews (333)\n",
       "1          Rating 5.0 out of 5;5.09 reviews (9)\n",
       "2                                           NaN\n",
       "3    Rating 4.90 out of 5;4.90150 reviews (150)\n",
       "4        Rating 5.0 out of 5;5.025 reviews (25)\n",
       "Name: g, dtype: object"
      ]
     },
     "execution_count": 30,
     "metadata": {},
     "output_type": "execute_result"
    }
   ],
   "source": [
    "df['g'].head()"
   ]
  },
  {
   "cell_type": "code",
   "execution_count": 31,
   "metadata": {},
   "outputs": [
    {
     "data": {
      "text/plain": [
       "295    Rating 4.94 out of 5;4.9435 reviews (35)\n",
       "296    Rating 4.76 out of 5;4.7634 reviews (34)\n",
       "297    Rating 4.96 out of 5;4.9624 reviews (24)\n",
       "298      Rating 5.0 out of 5;5.020 reviews (20)\n",
       "299        Rating 5.0 out of 5;5.04 reviews (4)\n",
       "Name: g, dtype: object"
      ]
     },
     "execution_count": 31,
     "metadata": {},
     "output_type": "execute_result"
    }
   ],
   "source": [
    "df['g'].tail()"
   ]
  },
  {
   "cell_type": "code",
   "execution_count": 33,
   "metadata": {},
   "outputs": [
    {
     "data": {
      "text/plain": [
       "['Rating 4.67 out of 5', '4.67333 reviews\\xa0(333)']"
      ]
     },
     "execution_count": 33,
     "metadata": {},
     "output_type": "execute_result"
    }
   ],
   "source": [
    "df['g'][0].split(';')"
   ]
  },
  {
   "cell_type": "code",
   "execution_count": 35,
   "metadata": {},
   "outputs": [
    {
     "data": {
      "text/plain": [
       "True"
      ]
     },
     "execution_count": 35,
     "metadata": {},
     "output_type": "execute_result"
    }
   ],
   "source": [
    "# check string logic (to make sure it looks how you wanted)\n",
    "'out of 5' in df['g'][0].split(';')[0]  # not going to do this now, just something to think about"
   ]
  },
  {
   "cell_type": "code",
   "execution_count": 36,
   "metadata": {},
   "outputs": [
    {
     "data": {
      "text/plain": [
       "'4.67333 reviews\\xa0(333)'"
      ]
     },
     "execution_count": 36,
     "metadata": {},
     "output_type": "execute_result"
    }
   ],
   "source": [
    "df['g'][0].split(';')[1]"
   ]
  },
  {
   "cell_type": "code",
   "execution_count": 39,
   "metadata": {},
   "outputs": [
    {
     "data": {
      "text/plain": [
       "['4.67333', 'reviews\\xa0(333)']"
      ]
     },
     "execution_count": 39,
     "metadata": {},
     "output_type": "execute_result"
    }
   ],
   "source": [
    "right_side = df['g'][0].split(';')[1]\n",
    "\n",
    "right_split = right_side.split(' ')\n",
    "\n",
    "right_split"
   ]
  },
  {
   "cell_type": "code",
   "execution_count": 42,
   "metadata": {},
   "outputs": [
    {
     "data": {
      "text/plain": [
       "4.67333"
      ]
     },
     "execution_count": 42,
     "metadata": {},
     "output_type": "execute_result"
    }
   ],
   "source": [
    "detailed_score = right_split[0]\n",
    "\n",
    "detailed_score = float(detailed_score)\n",
    "\n",
    "detailed_score"
   ]
  },
  {
   "cell_type": "code",
   "execution_count": 48,
   "metadata": {},
   "outputs": [
    {
     "data": {
      "text/plain": [
       "['reviews\\xa0', '333']"
      ]
     },
     "execution_count": 48,
     "metadata": {},
     "output_type": "execute_result"
    }
   ],
   "source": [
    "number_of_reviews = right_split[1]\n",
    "\n",
    "# just a precaution\n",
    "number_of_reviews = number_of_reviews.strip()\n",
    "\n",
    "number_of_reviews = number_of_reviews[:-1]\n",
    "\n",
    "number_of_reviews = number_of_reviews.split('(')\n",
    "\n",
    "number_of_reviews"
   ]
  },
  {
   "cell_type": "code",
   "execution_count": 49,
   "metadata": {},
   "outputs": [
    {
     "data": {
      "text/plain": [
       "333"
      ]
     },
     "execution_count": 49,
     "metadata": {},
     "output_type": "execute_result"
    }
   ],
   "source": [
    "number_of_reviews = number_of_reviews[1]\n",
    "\n",
    "number_of_reviews = int(number_of_reviews)\n",
    "\n",
    "number_of_reviews"
   ]
  },
  {
   "cell_type": "markdown",
   "metadata": {},
   "source": [
    "All together"
   ]
  },
  {
   "cell_type": "code",
   "execution_count": 52,
   "metadata": {},
   "outputs": [
    {
     "data": {
      "text/plain": [
       "'Rating 4.67 out of 5;4.67333 reviews\\xa0(333)'"
      ]
     },
     "execution_count": 52,
     "metadata": {},
     "output_type": "execute_result"
    }
   ],
   "source": [
    "df['g'][0]"
   ]
  },
  {
   "cell_type": "code",
   "execution_count": 53,
   "metadata": {},
   "outputs": [
    {
     "data": {
      "text/plain": [
       "(4.67333, 333)"
      ]
     },
     "execution_count": 53,
     "metadata": {},
     "output_type": "execute_result"
    }
   ],
   "source": [
    "data = df['g'][0]\n",
    "\n",
    "right_side = data.split(';')[1]\n",
    "\n",
    "right_split = right_side.split(' ')\n",
    "\n",
    "# find the detailed average review score (x.xxxxx)\n",
    "detailed_score = right_split[0]\n",
    "detailed_score = float(detailed_score)\n",
    "\n",
    "# find the number of reviews\n",
    "number_of_reviews = right_split[1]\n",
    "number_of_reviews = number_of_reviews.strip()  # just a precaution\n",
    "number_of_reviews = number_of_reviews[:-1]\n",
    "number_of_reviews = number_of_reviews.split('(')\n",
    "number_of_reviews = number_of_reviews[1]\n",
    "number_of_reviews = int(number_of_reviews)\n",
    "\n",
    "\n",
    "# did it work?\n",
    "detailed_score, number_of_reviews"
   ]
  },
  {
   "cell_type": "code",
   "execution_count": null,
   "metadata": {},
   "outputs": [],
   "source": [
    "# before\n",
    "def get_n_reviews(listing):\n",
    "    '''\n",
    "    Returns the number of reviews\n",
    "    '''\n",
    "    try:  # Not all listings have reviews // extraction failed\n",
    "        output = listing.findAll(\"span\", {\"class\":\"_krjbj\"})[1].text\n",
    "    except:\n",
    "        output = None   # Indicate that the extraction failed -> can indicate no reviews or a mistake in scraping\n",
    "    return output"
   ]
  },
  {
   "cell_type": "code",
   "execution_count": null,
   "metadata": {},
   "outputs": [],
   "source": [
    "# after\n",
    "def get_n_reviews(listing):\n",
    "    '''\n",
    "    Returns the number of reviews\n",
    "    '''\n",
    "    try:\n",
    "        output = listing.findAll(\"span\", {\"class\":\"_krjbj\"})[1].text\n",
    "        \n",
    "        # focus the right side of the data\n",
    "        right_side = output.split(';')[1]\n",
    "        right_split = right_side.split(' ')\n",
    "\n",
    "        # find the detailed average review score (x.xxxxx)\n",
    "        detailed_score = right_split[0]\n",
    "        detailed_score = float(detailed_score)\n",
    "\n",
    "        # find the number of reviews\n",
    "        number_of_reviews = right_split[1]\n",
    "        number_of_reviews = number_of_reviews.strip()  # just a precaution\n",
    "        number_of_reviews = number_of_reviews[:-1]\n",
    "        number_of_reviews = number_of_reviews.split('(')\n",
    "        number_of_reviews = number_of_reviews[1]\n",
    "        number_of_reviews = int(number_of_reviews)\n",
    "        \n",
    "        output = (detailed_score, number_of_reviews)\n",
    "        \n",
    "    # Not all listings have reviews // extraction failed\n",
    "    except:\n",
    "        output = None   # Indicate that the extraction failed -> can indicate no reviews or a mistake in scraping\n",
    "    return output"
   ]
  }
 ],
 "metadata": {
  "kernelspec": {
   "display_name": "Python 3",
   "language": "python",
   "name": "python3"
  },
  "language_info": {
   "codemirror_mode": {
    "name": "ipython",
    "version": 3
   },
   "file_extension": ".py",
   "mimetype": "text/x-python",
   "name": "python",
   "nbconvert_exporter": "python",
   "pygments_lexer": "ipython3",
   "version": "3.7.9"
  }
 },
 "nbformat": 4,
 "nbformat_minor": 4
}
