{
  "nbformat": 4,
  "nbformat_minor": 0,
  "metadata": {
    "colab": {
      "name": "00_intro_to_oop.ipynb",
      "provenance": [],
      "authorship_tag": "ABX9TyOLPWuRN1S/9DTSJA6ZUTeo",
      "include_colab_link": true
    },
    "kernelspec": {
      "name": "python3",
      "display_name": "Python 3"
    }
  },
  "cells": [
    {
      "cell_type": "markdown",
      "metadata": {
        "id": "view-in-github",
        "colab_type": "text"
      },
      "source": [
        "<a href=\"https://colab.research.google.com/github/gumdropsteve/intro_to_python/blob/main/day_07/00_intro_to_oop.ipynb\" target=\"_parent\"><img src=\"https://colab.research.google.com/assets/colab-badge.svg\" alt=\"Open In Colab\"/></a>"
      ]
    },
    {
      "cell_type": "markdown",
      "metadata": {
        "id": "vp2hNT7AjojG"
      },
      "source": [
        "#### Pandas Objects are Self Aware because of OOP"
      ]
    },
    {
      "cell_type": "code",
      "metadata": {
        "colab": {
          "base_uri": "https://localhost:8080/"
        },
        "id": "IcNhxnLqijlq",
        "outputId": "d78968e1-a750-43e6-f5f0-a483a91c3db0"
      },
      "source": [
        "import pandas as pd\r\n",
        "\r\n",
        "df = pd.DataFrame()\r\n",
        "\r\n",
        "df.shape"
      ],
      "execution_count": null,
      "outputs": [
        {
          "output_type": "execute_result",
          "data": {
            "text/plain": [
              "(0, 0)"
            ]
          },
          "metadata": {
            "tags": []
          },
          "execution_count": 5
        }
      ]
    },
    {
      "cell_type": "markdown",
      "metadata": {
        "id": "PMP0SNxUjyL0"
      },
      "source": [
        "# Let's Start Coding"
      ]
    },
    {
      "cell_type": "code",
      "metadata": {
        "id": "JOUhbLN6gcDX"
      },
      "source": [
        "# define a class\r\n",
        "class Human:\r\n",
        "\r\n",
        "    # create this instance\r\n",
        "    def __init__(self):\r\n",
        "        pass\r\n"
      ],
      "execution_count": null,
      "outputs": []
    },
    {
      "cell_type": "code",
      "metadata": {
        "id": "dd-1CgRSiguo"
      },
      "source": [
        "winston = Human()"
      ],
      "execution_count": null,
      "outputs": []
    },
    {
      "cell_type": "code",
      "metadata": {
        "colab": {
          "base_uri": "https://localhost:8080/"
        },
        "id": "AvCiMtH3ijDQ",
        "outputId": "1cb6716c-6a3d-4e92-f57a-445b0671ca03"
      },
      "source": [
        "winston"
      ],
      "execution_count": null,
      "outputs": [
        {
          "output_type": "execute_result",
          "data": {
            "text/plain": [
              "<__main__.Human at 0x7f4e693b9550>"
            ]
          },
          "metadata": {
            "tags": []
          },
          "execution_count": 8
        }
      ]
    },
    {
      "cell_type": "code",
      "metadata": {
        "id": "HHLKcyMHjJ8-"
      },
      "source": [
        "# define a class\r\n",
        "class Human:\r\n",
        "\r\n",
        "    # create this instance\r\n",
        "    def __init__(self, name):\r\n",
        "        self.name = name\r\n"
      ],
      "execution_count": null,
      "outputs": []
    },
    {
      "cell_type": "code",
      "metadata": {
        "colab": {
          "base_uri": "https://localhost:8080/"
        },
        "id": "gET_eC44kKN1",
        "outputId": "4fc4851b-0d0e-4f71-ebc1-341a28d61a83"
      },
      "source": [
        "winston = Human('winston')\r\n",
        "\r\n",
        "winston"
      ],
      "execution_count": null,
      "outputs": [
        {
          "output_type": "execute_result",
          "data": {
            "text/plain": [
              "<__main__.Human at 0x7f4e69319d68>"
            ]
          },
          "metadata": {
            "tags": []
          },
          "execution_count": 10
        }
      ]
    },
    {
      "cell_type": "code",
      "metadata": {
        "colab": {
          "base_uri": "https://localhost:8080/",
          "height": 35
        },
        "id": "mvq7CM9skQFe",
        "outputId": "f996ab40-e3a8-4263-c601-46dc81a3b6cc"
      },
      "source": [
        "winston.name"
      ],
      "execution_count": null,
      "outputs": [
        {
          "output_type": "execute_result",
          "data": {
            "application/vnd.google.colaboratory.intrinsic+json": {
              "type": "string"
            },
            "text/plain": [
              "'winston'"
            ]
          },
          "metadata": {
            "tags": []
          },
          "execution_count": 11
        }
      ]
    },
    {
      "cell_type": "code",
      "metadata": {
        "id": "qJyHKUgdkZQG"
      },
      "source": [
        "# define a class\r\n",
        "class Human:\r\n",
        "\r\n",
        "    # create this instance\r\n",
        "    def __init__(self, name, location, position):\r\n",
        "        self.name = name\r\n",
        "        self.location = location\r\n",
        "        self.position = position"
      ],
      "execution_count": null,
      "outputs": []
    },
    {
      "cell_type": "code",
      "metadata": {
        "colab": {
          "base_uri": "https://localhost:8080/"
        },
        "id": "19yMsnHskig_",
        "outputId": "ee08c6ed-aa5d-446a-f14a-f7d423e6c006"
      },
      "source": [
        "winston = Human('winston', 'las vegas', 'data science instuctor')\r\n",
        "\r\n",
        "winston "
      ],
      "execution_count": null,
      "outputs": [
        {
          "output_type": "execute_result",
          "data": {
            "text/plain": [
              "<__main__.Human at 0x7f4e692cb320>"
            ]
          },
          "metadata": {
            "tags": []
          },
          "execution_count": 13
        }
      ]
    },
    {
      "cell_type": "code",
      "metadata": {
        "colab": {
          "base_uri": "https://localhost:8080/"
        },
        "id": "ojPVqKS7koYS",
        "outputId": "ea0e3793-ffd4-4996-bdfe-94c624a04882"
      },
      "source": [
        "winston.name, winston.location, winston.position"
      ],
      "execution_count": null,
      "outputs": [
        {
          "output_type": "execute_result",
          "data": {
            "text/plain": [
              "('winston', 'las vegas', 'data science instuctor')"
            ]
          },
          "metadata": {
            "tags": []
          },
          "execution_count": 14
        }
      ]
    },
    {
      "cell_type": "code",
      "metadata": {
        "id": "lg2aengTku6B"
      },
      "source": [
        "# define a class\r\n",
        "class Human:\r\n",
        "\r\n",
        "    # create this instance\r\n",
        "    def __init__(self, name, location, position):\r\n",
        "        self.name = name\r\n",
        "        self.location = location\r\n",
        "        self.position = position\r\n",
        "        # you could add a print to the __init__(), but not a return\r\n",
        "        print(self.name, self.location)\r\n"
      ],
      "execution_count": null,
      "outputs": []
    },
    {
      "cell_type": "code",
      "metadata": {
        "colab": {
          "base_uri": "https://localhost:8080/"
        },
        "id": "FMpNhilIk58F",
        "outputId": "ed40fd0d-cd95-48e0-918b-c2ff30e37663"
      },
      "source": [
        "winston = Human('winston', 'las vegas', 'data science instuctor')"
      ],
      "execution_count": null,
      "outputs": [
        {
          "output_type": "stream",
          "text": [
            "winston las vegas\n"
          ],
          "name": "stdout"
        }
      ]
    },
    {
      "cell_type": "markdown",
      "metadata": {
        "id": "xcX-62VzlOWi"
      },
      "source": [
        "### Start Adding Methods (functions)"
      ]
    },
    {
      "cell_type": "code",
      "metadata": {
        "id": "lL9cSegCk7i-"
      },
      "source": [
        "# define a class\r\n",
        "class Human:\r\n",
        "\r\n",
        "    # create this instance\r\n",
        "    def __init__(self, name='winston', location='las vegas', position='data science instructor'):\r\n",
        "        self.name = name\r\n",
        "        self.location = location\r\n",
        "        self.position = position\r\n",
        "\r\n",
        "    # add a method\r\n",
        "    def good_morning(self):\r\n",
        "        print(f'Good morning, {self.name}')"
      ],
      "execution_count": null,
      "outputs": []
    },
    {
      "cell_type": "code",
      "metadata": {
        "colab": {
          "base_uri": "https://localhost:8080/"
        },
        "id": "p0A_XzYqliqT",
        "outputId": "099ffac4-4755-4616-deeb-0b3a55b33549"
      },
      "source": [
        "winston = Human()\r\n",
        "\r\n",
        "winston.good_morning()"
      ],
      "execution_count": null,
      "outputs": [
        {
          "output_type": "stream",
          "text": [
            "Good morning, winston\n"
          ],
          "name": "stdout"
        }
      ]
    },
    {
      "cell_type": "markdown",
      "metadata": {
        "id": "Kw7EuHUNmkyL"
      },
      "source": [
        "### Maipulating the Data Object"
      ]
    },
    {
      "cell_type": "code",
      "metadata": {
        "colab": {
          "base_uri": "https://localhost:8080/",
          "height": 35
        },
        "id": "m_I8h33Clrz-",
        "outputId": "d0fc89ad-dae9-44fb-d604-56e7867a0d1f"
      },
      "source": [
        "winston.name"
      ],
      "execution_count": null,
      "outputs": [
        {
          "output_type": "execute_result",
          "data": {
            "application/vnd.google.colaboratory.intrinsic+json": {
              "type": "string"
            },
            "text/plain": [
              "'winston'"
            ]
          },
          "metadata": {
            "tags": []
          },
          "execution_count": 40
        }
      ]
    },
    {
      "cell_type": "code",
      "metadata": {
        "id": "_SXc5RMpmp3m"
      },
      "source": [
        "winston.name = 'mikio'"
      ],
      "execution_count": null,
      "outputs": []
    },
    {
      "cell_type": "code",
      "metadata": {
        "colab": {
          "base_uri": "https://localhost:8080/",
          "height": 35
        },
        "id": "0UlBggh-mtzv",
        "outputId": "225db24e-fe30-4737-dc54-66c63fb3286f"
      },
      "source": [
        "winston.name"
      ],
      "execution_count": null,
      "outputs": [
        {
          "output_type": "execute_result",
          "data": {
            "application/vnd.google.colaboratory.intrinsic+json": {
              "type": "string"
            },
            "text/plain": [
              "'mikio'"
            ]
          },
          "metadata": {
            "tags": []
          },
          "execution_count": 42
        }
      ]
    },
    {
      "cell_type": "code",
      "metadata": {
        "colab": {
          "base_uri": "https://localhost:8080/",
          "height": 35
        },
        "id": "CpEebp5emuu3",
        "outputId": "3b589765-8ead-4a50-87c5-b3a3a30d89a3"
      },
      "source": [
        "winston.name = 'ty'\r\n",
        "\r\n",
        "winston.name"
      ],
      "execution_count": null,
      "outputs": [
        {
          "output_type": "execute_result",
          "data": {
            "application/vnd.google.colaboratory.intrinsic+json": {
              "type": "string"
            },
            "text/plain": [
              "'ty'"
            ]
          },
          "metadata": {
            "tags": []
          },
          "execution_count": 43
        }
      ]
    },
    {
      "cell_type": "code",
      "metadata": {
        "colab": {
          "base_uri": "https://localhost:8080/",
          "height": 35
        },
        "id": "PTlMRCTzm2V5",
        "outputId": "37aaba31-4254-4c62-df9f-9f535a788eb9"
      },
      "source": [
        "winston.name = '0123'\r\n",
        "\r\n",
        "winston.name"
      ],
      "execution_count": null,
      "outputs": [
        {
          "output_type": "execute_result",
          "data": {
            "application/vnd.google.colaboratory.intrinsic+json": {
              "type": "string"
            },
            "text/plain": [
              "'0123'"
            ]
          },
          "metadata": {
            "tags": []
          },
          "execution_count": 54
        }
      ]
    },
    {
      "cell_type": "code",
      "metadata": {
        "colab": {
          "base_uri": "https://localhost:8080/"
        },
        "id": "xDztxBZLnW7d",
        "outputId": "75bd1937-f1fd-4cb8-fb8e-e73740aca491"
      },
      "source": [
        "winston.name = 123\r\n",
        "\r\n",
        "winston.name"
      ],
      "execution_count": null,
      "outputs": [
        {
          "output_type": "execute_result",
          "data": {
            "text/plain": [
              "123"
            ]
          },
          "metadata": {
            "tags": []
          },
          "execution_count": 55
        }
      ]
    },
    {
      "cell_type": "code",
      "metadata": {
        "colab": {
          "base_uri": "https://localhost:8080/",
          "height": 35
        },
        "id": "iIbaQ08sm4O2",
        "outputId": "8155bec0-cca9-4580-be48-c070055630f6"
      },
      "source": [
        "winston.name = 'winston'\r\n",
        "\r\n",
        "winston.name"
      ],
      "execution_count": null,
      "outputs": [
        {
          "output_type": "execute_result",
          "data": {
            "application/vnd.google.colaboratory.intrinsic+json": {
              "type": "string"
            },
            "text/plain": [
              "'winston'"
            ]
          },
          "metadata": {
            "tags": []
          },
          "execution_count": 56
        }
      ]
    },
    {
      "cell_type": "code",
      "metadata": {
        "id": "62TTbq3ynC6m"
      },
      "source": [
        "# make new attributes\r\n",
        "winston.last_name = 'robson'"
      ],
      "execution_count": null,
      "outputs": []
    },
    {
      "cell_type": "code",
      "metadata": {
        "id": "rPsT3tQzm_RR"
      },
      "source": [
        "# define a class\r\n",
        "class Human:\r\n",
        "\r\n",
        "    # create this instance\r\n",
        "    def __init__(self, location='las vegas', position='data science instructor'):\r\n",
        "        self.name = 'winston'\r\n",
        "        self.location = location\r\n",
        "        self.position = position\r\n",
        "\r\n",
        "    # add a method\r\n",
        "    def good_morning(self):\r\n",
        "        # create a attribute gm\r\n",
        "        self.gm = f'Good morning, {self.name}'\r\n",
        "        print(self.gm)\r\n",
        "\r\n"
      ],
      "execution_count": null,
      "outputs": []
    },
    {
      "cell_type": "code",
      "metadata": {
        "colab": {
          "base_uri": "https://localhost:8080/",
          "height": 35
        },
        "id": "XEaxrobNnEay",
        "outputId": "e70fe30c-49c9-4f2f-f29e-27d3ce843071"
      },
      "source": [
        "winston = Human()\r\n",
        "\r\n",
        "winston.name\r\n"
      ],
      "execution_count": null,
      "outputs": [
        {
          "output_type": "execute_result",
          "data": {
            "application/vnd.google.colaboratory.intrinsic+json": {
              "type": "string"
            },
            "text/plain": [
              "'winston'"
            ]
          },
          "metadata": {
            "tags": []
          },
          "execution_count": 73
        }
      ]
    },
    {
      "cell_type": "code",
      "metadata": {
        "colab": {
          "base_uri": "https://localhost:8080/",
          "height": 164
        },
        "id": "71FG20Okno5u",
        "outputId": "907861ec-2a2a-4e60-ce9c-eef241f58d38"
      },
      "source": [
        "winston.gm"
      ],
      "execution_count": null,
      "outputs": [
        {
          "output_type": "error",
          "ename": "AttributeError",
          "evalue": "ignored",
          "traceback": [
            "\u001b[0;31m---------------------------------------------------------------------------\u001b[0m",
            "\u001b[0;31mAttributeError\u001b[0m                            Traceback (most recent call last)",
            "\u001b[0;32m<ipython-input-74-6b37ad9ceb9a>\u001b[0m in \u001b[0;36m<module>\u001b[0;34m()\u001b[0m\n\u001b[0;32m----> 1\u001b[0;31m \u001b[0mwinston\u001b[0m\u001b[0;34m.\u001b[0m\u001b[0mgm\u001b[0m\u001b[0;34m\u001b[0m\u001b[0;34m\u001b[0m\u001b[0m\n\u001b[0m",
            "\u001b[0;31mAttributeError\u001b[0m: 'Human' object has no attribute 'gm'"
          ]
        }
      ]
    },
    {
      "cell_type": "code",
      "metadata": {
        "colab": {
          "base_uri": "https://localhost:8080/"
        },
        "id": "7cqGHSAHnqZV",
        "outputId": "054671de-a7ba-435c-d2fa-b69861fe862f"
      },
      "source": [
        "winston.good_morning()"
      ],
      "execution_count": null,
      "outputs": [
        {
          "output_type": "stream",
          "text": [
            "Good morning, winston\n"
          ],
          "name": "stdout"
        }
      ]
    },
    {
      "cell_type": "code",
      "metadata": {
        "colab": {
          "base_uri": "https://localhost:8080/",
          "height": 35
        },
        "id": "lTywNzEUnwi1",
        "outputId": "0dd26d39-7019-46cc-93fa-08fa8c494921"
      },
      "source": [
        "winston.gm"
      ],
      "execution_count": null,
      "outputs": [
        {
          "output_type": "execute_result",
          "data": {
            "application/vnd.google.colaboratory.intrinsic+json": {
              "type": "string"
            },
            "text/plain": [
              "'Good morning, winston'"
            ]
          },
          "metadata": {
            "tags": []
          },
          "execution_count": 76
        }
      ]
    },
    {
      "cell_type": "code",
      "metadata": {
        "colab": {
          "base_uri": "https://localhost:8080/",
          "height": 35
        },
        "id": "19CdD6jnnxcv",
        "outputId": "e3778b0b-4f5f-45ff-d400-ece32b7dafa3"
      },
      "source": [
        "winston.gm = 'lol'\r\n",
        "\r\n",
        "winston.gm"
      ],
      "execution_count": null,
      "outputs": [
        {
          "output_type": "execute_result",
          "data": {
            "application/vnd.google.colaboratory.intrinsic+json": {
              "type": "string"
            },
            "text/plain": [
              "'lol'"
            ]
          },
          "metadata": {
            "tags": []
          },
          "execution_count": 78
        }
      ]
    },
    {
      "cell_type": "markdown",
      "metadata": {
        "id": "ZxMmlj3wou1k"
      },
      "source": [
        "# BART Example\r\n",
        "[Article Friend link](https://medium.com/future-vision/intro-to-oop-with-python-39ba63967e45?sk=c0120fc17f021096f3cdc4539cf69441)"
      ]
    },
    {
      "cell_type": "code",
      "metadata": {
        "colab": {
          "base_uri": "https://localhost:8080/"
        },
        "id": "E735UXI0oXNN",
        "outputId": "dab0f4f4-ec09-46a5-9b2f-00b8c2aff0f6"
      },
      "source": [
        "stops = ['a', 'b', 'c']\r\n",
        "\r\n",
        "class AntiochToSFO:\r\n",
        "\r\n",
        "    def __init__(self, stops):\r\n",
        "        self.stops = stops\r\n",
        "        self.n_stops = len(self.stops)\r\n",
        "\r\n",
        "\r\n",
        "a = AntiochToSFO(stops)\r\n",
        "\r\n",
        "a"
      ],
      "execution_count": null,
      "outputs": [
        {
          "output_type": "execute_result",
          "data": {
            "text/plain": [
              "<__main__.AntiochToSFO at 0x7f4e61531710>"
            ]
          },
          "metadata": {
            "tags": []
          },
          "execution_count": 82
        }
      ]
    },
    {
      "cell_type": "code",
      "metadata": {
        "colab": {
          "base_uri": "https://localhost:8080/"
        },
        "id": "OCPrYBP6pxUf",
        "outputId": "1b0b8ea8-a030-44af-a057-0ffd4bf565a7"
      },
      "source": [
        "a.stops"
      ],
      "execution_count": null,
      "outputs": [
        {
          "output_type": "execute_result",
          "data": {
            "text/plain": [
              "['a', 'b', 'c']"
            ]
          },
          "metadata": {
            "tags": []
          },
          "execution_count": 83
        }
      ]
    },
    {
      "cell_type": "code",
      "metadata": {
        "colab": {
          "base_uri": "https://localhost:8080/"
        },
        "id": "PbcSIDWNpryG",
        "outputId": "657c5bd2-2508-4cf9-f348-5a565aeff54b"
      },
      "source": [
        "a.n_stops"
      ],
      "execution_count": null,
      "outputs": [
        {
          "output_type": "execute_result",
          "data": {
            "text/plain": [
              "3"
            ]
          },
          "metadata": {
            "tags": []
          },
          "execution_count": 84
        }
      ]
    },
    {
      "cell_type": "code",
      "metadata": {
        "colab": {
          "base_uri": "https://localhost:8080/"
        },
        "id": "zhRep5Oqp6Sd",
        "outputId": "5cb5109e-7d38-49fb-d2b2-ad34d0ca7aeb"
      },
      "source": [
        "stops = ['a', 'b', 'c']\r\n",
        "\r\n",
        "class AntiochToSFO:\r\n",
        "\r\n",
        "    def __init__(self, stops):\r\n",
        "        self.stops = stops\r\n",
        "        self.n_stops = len(self.stops)\r\n",
        "        self.stop_number = 0\r\n",
        "\r\n",
        "    def to_the_next_stop(self):\r\n",
        "        # check where we are, and if we're going forwards or backwards\r\n",
        "        if self.stop_number < self.n_stops:\r\n",
        "            self.forwards = True\r\n",
        "        else:\r\n",
        "            self.forwards = False\r\n",
        "\r\n",
        "        # check if we are moving forwards\r\n",
        "        if self.forwards == True:\r\n",
        "            # move the train to the next stop\r\n",
        "            self.stop_number += 1\r\n",
        "            print(f'moved to stop nubmer {self.stop_number} | {self.stops[self.stop_number]}')\r\n",
        "\r\n",
        "a = AntiochToSFO(stops)\r\n",
        "\r\n",
        "a"
      ],
      "execution_count": null,
      "outputs": [
        {
          "output_type": "execute_result",
          "data": {
            "text/plain": [
              "<__main__.AntiochToSFO at 0x7f4e692c23c8>"
            ]
          },
          "metadata": {
            "tags": []
          },
          "execution_count": 89
        }
      ]
    },
    {
      "cell_type": "code",
      "metadata": {
        "colab": {
          "base_uri": "https://localhost:8080/"
        },
        "id": "uth0Hq3KqMp-",
        "outputId": "efed167b-fbf5-4c57-fde8-4306d3c872c5"
      },
      "source": [
        "a.to_the_next_stop()\r\n",
        "a.to_the_next_stop()"
      ],
      "execution_count": null,
      "outputs": [
        {
          "output_type": "stream",
          "text": [
            "moved to stop nubmer 1 | b\n",
            "moved to stop nubmer 2 | c\n"
          ],
          "name": "stdout"
        }
      ]
    },
    {
      "cell_type": "code",
      "metadata": {
        "colab": {
          "base_uri": "https://localhost:8080/"
        },
        "id": "mw1JP9I6rQTd",
        "outputId": "bfdb58ec-d5b8-4841-82ef-fe8fa8a7ce9a"
      },
      "source": [
        "stops = ['a', 'b', 'c']\r\n",
        "\r\n",
        "class AntiochToSFO:\r\n",
        "\r\n",
        "    def __init__(self, stops):\r\n",
        "        self.stops = stops\r\n",
        "        self.n_stops = len(self.stops)\r\n",
        "        self.stop_number = 0\r\n",
        "\r\n",
        "    def to_the_next_stop(self):\r\n",
        "        # check where we are, and if we're going forwards or backwards\r\n",
        "        if self.stop_number < self.n_stops - 1:\r\n",
        "            self.forwards = True\r\n",
        "        else:\r\n",
        "            self.forwards = False\r\n",
        "\r\n",
        "        # check if we are moving forwards\r\n",
        "        if self.forwards == True:\r\n",
        "            # move the train to the next stop\r\n",
        "            self.stop_number += 1\r\n",
        "            print(f'moved to stop nubmer {self.stop_number} | {self.stops[self.stop_number]}')\r\n",
        "        # we need to go backwards\r\n",
        "        else:\r\n",
        "            # move the train back 1 stop\r\n",
        "            self.stop_number -= 1\r\n",
        "            print(f'moved to stop nubmer {self.stop_number} | {self.stops[self.stop_number]}')\r\n",
        "\r\n",
        "a = AntiochToSFO(stops)\r\n",
        "\r\n",
        "a"
      ],
      "execution_count": 1,
      "outputs": [
        {
          "output_type": "execute_result",
          "data": {
            "text/plain": [
              "<__main__.AntiochToSFO at 0x7fc3ece54dd8>"
            ]
          },
          "metadata": {
            "tags": []
          },
          "execution_count": 1
        }
      ]
    },
    {
      "cell_type": "code",
      "metadata": {
        "colab": {
          "base_uri": "https://localhost:8080/"
        },
        "id": "W7tuTpkQrpFL",
        "outputId": "65d8126a-445b-4710-cc4b-50298c78239c"
      },
      "source": [
        "a.to_the_next_stop()\r\n",
        "a.to_the_next_stop()\r\n",
        "a.to_the_next_stop()\r\n",
        "a.to_the_next_stop()"
      ],
      "execution_count": 2,
      "outputs": [
        {
          "output_type": "stream",
          "text": [
            "moved to stop nubmer 1 | b\n",
            "moved to stop nubmer 2 | c\n",
            "moved to stop nubmer 1 | b\n",
            "moved to stop nubmer 2 | c\n"
          ],
          "name": "stdout"
        }
      ]
    },
    {
      "cell_type": "code",
      "metadata": {
        "id": "EFWbZH0LwqxI",
        "outputId": "b4fcdd59-1520-4098-e3c9-df9eab6f491b",
        "colab": {
          "base_uri": "https://localhost:8080/"
        }
      },
      "source": [
        "# add in IRL list of station names\r\n",
        "stations = ['Antioch','Pittsburg Center','Pittsburg / Bay Point', 'North Concord / Martinex', \r\n",
        "            'Concord', 'Pleasant Hill/ Contra costa Centre', 'Walnut Creek', 'Lafayette', \r\n",
        "            'Orinda', 'Rockridge', 'MacArthur', '19th St/Oakland', '12th St/Oakland City Center', \r\n",
        "            'West Oakland', 'Embarcadero', 'Montgomery St', 'Powell St', 'Civic Center/ UN Plaza', \r\n",
        "            '16th St Mission', '24th St Mission', 'Glen Park', 'Balboa Park', 'Daly City', \r\n",
        "            'Colma', 'South San Francisco', 'San Bruno', 'San Francisco International Airport'] \r\n",
        "\r\n",
        "\r\n",
        "a = AntiochToSFO(stations)\r\n",
        "a"
      ],
      "execution_count": 3,
      "outputs": [
        {
          "output_type": "execute_result",
          "data": {
            "text/plain": [
              "<__main__.AntiochToSFO at 0x7fc3ece54a90>"
            ]
          },
          "metadata": {
            "tags": []
          },
          "execution_count": 3
        }
      ]
    },
    {
      "cell_type": "code",
      "metadata": {
        "id": "Kh4B-n23rsMc",
        "outputId": "e9d422b8-b356-48ce-b965-259240fc6714",
        "colab": {
          "base_uri": "https://localhost:8080/"
        }
      },
      "source": [
        "len(stations)"
      ],
      "execution_count": 4,
      "outputs": [
        {
          "output_type": "execute_result",
          "data": {
            "text/plain": [
              "27"
            ]
          },
          "metadata": {
            "tags": []
          },
          "execution_count": 4
        }
      ]
    },
    {
      "cell_type": "code",
      "metadata": {
        "id": "ND7y7s6Bw2S-",
        "outputId": "194b21ef-8e19-453b-8759-3fca21e44eeb",
        "colab": {
          "base_uri": "https://localhost:8080/"
        }
      },
      "source": [
        "for i in range(30):\r\n",
        "    a.to_the_next_stop()"
      ],
      "execution_count": 5,
      "outputs": [
        {
          "output_type": "stream",
          "text": [
            "moved to stop nubmer 1 | Pittsburg Center\n",
            "moved to stop nubmer 2 | Pittsburg / Bay Point\n",
            "moved to stop nubmer 3 | North Concord / Martinex\n",
            "moved to stop nubmer 4 | Concord\n",
            "moved to stop nubmer 5 | Pleasant Hill/ Contra costa Centre\n",
            "moved to stop nubmer 6 | Walnut Creek\n",
            "moved to stop nubmer 7 | Lafayette\n",
            "moved to stop nubmer 8 | Orinda\n",
            "moved to stop nubmer 9 | Rockridge\n",
            "moved to stop nubmer 10 | MacArthur\n",
            "moved to stop nubmer 11 | 19th St/Oakland\n",
            "moved to stop nubmer 12 | 12th St/Oakland City Center\n",
            "moved to stop nubmer 13 | West Oakland\n",
            "moved to stop nubmer 14 | Embarcadero\n",
            "moved to stop nubmer 15 | Montgomery St\n",
            "moved to stop nubmer 16 | Powell St\n",
            "moved to stop nubmer 17 | Civic Center/ UN Plaza\n",
            "moved to stop nubmer 18 | 16th St Mission\n",
            "moved to stop nubmer 19 | 24th St Mission\n",
            "moved to stop nubmer 20 | Glen Park\n",
            "moved to stop nubmer 21 | Balboa Park\n",
            "moved to stop nubmer 22 | Daly City\n",
            "moved to stop nubmer 23 | Colma\n",
            "moved to stop nubmer 24 | South San Francisco\n",
            "moved to stop nubmer 25 | San Bruno\n",
            "moved to stop nubmer 26 | San Francisco International Airport\n",
            "moved to stop nubmer 25 | San Bruno\n",
            "moved to stop nubmer 26 | San Francisco International Airport\n",
            "moved to stop nubmer 25 | San Bruno\n",
            "moved to stop nubmer 26 | San Francisco International Airport\n"
          ],
          "name": "stdout"
        }
      ]
    },
    {
      "cell_type": "markdown",
      "metadata": {
        "id": "-RStYj3WxANu"
      },
      "source": [
        "We have an issue going in reverse..."
      ]
    },
    {
      "cell_type": "code",
      "metadata": {
        "id": "MZhhxeH0w6HJ",
        "outputId": "a33d22d3-bd78-461f-8b1b-8547889faadc",
        "colab": {
          "base_uri": "https://localhost:8080/"
        }
      },
      "source": [
        "class AntiochToSFO:\r\n",
        "\r\n",
        "    def __init__(self, stops):\r\n",
        "        self.stops = stops\r\n",
        "        self.n_stops = len(self.stops)\r\n",
        "        self.stop_number = 0\r\n",
        "\r\n",
        "    def to_the_next_stop(self):\r\n",
        "        \"\"\"\r\n",
        "        moves the train to the next stop\r\n",
        "        \"\"\"\r\n",
        "        # check where we are, and if we're going forwards or backwards\r\n",
        "        if self.stop_number == 0:\r\n",
        "            self.forwards = True\r\n",
        "        elif self.stop_number == self.n_stops - 1:\r\n",
        "            self.forwards = False\r\n",
        "        else:\r\n",
        "            pass\r\n",
        "\r\n",
        "        # check if we are moving forwards\r\n",
        "        if self.forwards == True:\r\n",
        "            # move the train to the next stop\r\n",
        "            self.stop_number += 1\r\n",
        "        # we need to go backwards\r\n",
        "        else:\r\n",
        "            # move the train back 1 stop\r\n",
        "            self.stop_number -= 1\r\n",
        "        \r\n",
        "        print(f'moved to stop number {self.stop_number} | {self.stops[self.stop_number]}')\r\n",
        "\r\n",
        "\r\n",
        "a = AntiochToSFO(stations)\r\n",
        "a"
      ],
      "execution_count": 8,
      "outputs": [
        {
          "output_type": "execute_result",
          "data": {
            "text/plain": [
              "<__main__.AntiochToSFO at 0x7fc3ec535198>"
            ]
          },
          "metadata": {
            "tags": []
          },
          "execution_count": 8
        }
      ]
    },
    {
      "cell_type": "code",
      "metadata": {
        "id": "HCXIkD3AyR6T",
        "outputId": "bbd7b40b-c397-4016-cb93-14e20e19a449",
        "colab": {
          "base_uri": "https://localhost:8080/"
        }
      },
      "source": [
        "for i in range(30):\r\n",
        "    a.to_the_next_stop()"
      ],
      "execution_count": 9,
      "outputs": [
        {
          "output_type": "stream",
          "text": [
            "moved to stop number 1 | Pittsburg Center\n",
            "moved to stop number 2 | Pittsburg / Bay Point\n",
            "moved to stop number 3 | North Concord / Martinex\n",
            "moved to stop number 4 | Concord\n",
            "moved to stop number 5 | Pleasant Hill/ Contra costa Centre\n",
            "moved to stop number 6 | Walnut Creek\n",
            "moved to stop number 7 | Lafayette\n",
            "moved to stop number 8 | Orinda\n",
            "moved to stop number 9 | Rockridge\n",
            "moved to stop number 10 | MacArthur\n",
            "moved to stop number 11 | 19th St/Oakland\n",
            "moved to stop number 12 | 12th St/Oakland City Center\n",
            "moved to stop number 13 | West Oakland\n",
            "moved to stop number 14 | Embarcadero\n",
            "moved to stop number 15 | Montgomery St\n",
            "moved to stop number 16 | Powell St\n",
            "moved to stop number 17 | Civic Center/ UN Plaza\n",
            "moved to stop number 18 | 16th St Mission\n",
            "moved to stop number 19 | 24th St Mission\n",
            "moved to stop number 20 | Glen Park\n",
            "moved to stop number 21 | Balboa Park\n",
            "moved to stop number 22 | Daly City\n",
            "moved to stop number 23 | Colma\n",
            "moved to stop number 24 | South San Francisco\n",
            "moved to stop number 25 | San Bruno\n",
            "moved to stop number 26 | San Francisco International Airport\n",
            "moved to stop number 25 | San Bruno\n",
            "moved to stop number 24 | South San Francisco\n",
            "moved to stop number 23 | Colma\n",
            "moved to stop number 22 | Daly City\n"
          ],
          "name": "stdout"
        }
      ]
    },
    {
      "cell_type": "code",
      "metadata": {
        "id": "-Lmy88uJyUa-",
        "outputId": "2d00325c-c01f-4e84-e991-798fe57ba3c1",
        "colab": {
          "base_uri": "https://localhost:8080/"
        }
      },
      "source": [
        "# NOTE: we remembered we were going backwards and we were at stop 22\r\n",
        "for i in range(100):\r\n",
        "    a.to_the_next_stop()"
      ],
      "execution_count": 10,
      "outputs": [
        {
          "output_type": "stream",
          "text": [
            "moved to stop number 21 | Balboa Park\n",
            "moved to stop number 20 | Glen Park\n",
            "moved to stop number 19 | 24th St Mission\n",
            "moved to stop number 18 | 16th St Mission\n",
            "moved to stop number 17 | Civic Center/ UN Plaza\n",
            "moved to stop number 16 | Powell St\n",
            "moved to stop number 15 | Montgomery St\n",
            "moved to stop number 14 | Embarcadero\n",
            "moved to stop number 13 | West Oakland\n",
            "moved to stop number 12 | 12th St/Oakland City Center\n",
            "moved to stop number 11 | 19th St/Oakland\n",
            "moved to stop number 10 | MacArthur\n",
            "moved to stop number 9 | Rockridge\n",
            "moved to stop number 8 | Orinda\n",
            "moved to stop number 7 | Lafayette\n",
            "moved to stop number 6 | Walnut Creek\n",
            "moved to stop number 5 | Pleasant Hill/ Contra costa Centre\n",
            "moved to stop number 4 | Concord\n",
            "moved to stop number 3 | North Concord / Martinex\n",
            "moved to stop number 2 | Pittsburg / Bay Point\n",
            "moved to stop number 1 | Pittsburg Center\n",
            "moved to stop number 0 | Antioch\n",
            "moved to stop number 1 | Pittsburg Center\n",
            "moved to stop number 2 | Pittsburg / Bay Point\n",
            "moved to stop number 3 | North Concord / Martinex\n",
            "moved to stop number 4 | Concord\n",
            "moved to stop number 5 | Pleasant Hill/ Contra costa Centre\n",
            "moved to stop number 6 | Walnut Creek\n",
            "moved to stop number 7 | Lafayette\n",
            "moved to stop number 8 | Orinda\n",
            "moved to stop number 9 | Rockridge\n",
            "moved to stop number 10 | MacArthur\n",
            "moved to stop number 11 | 19th St/Oakland\n",
            "moved to stop number 12 | 12th St/Oakland City Center\n",
            "moved to stop number 13 | West Oakland\n",
            "moved to stop number 14 | Embarcadero\n",
            "moved to stop number 15 | Montgomery St\n",
            "moved to stop number 16 | Powell St\n",
            "moved to stop number 17 | Civic Center/ UN Plaza\n",
            "moved to stop number 18 | 16th St Mission\n",
            "moved to stop number 19 | 24th St Mission\n",
            "moved to stop number 20 | Glen Park\n",
            "moved to stop number 21 | Balboa Park\n",
            "moved to stop number 22 | Daly City\n",
            "moved to stop number 23 | Colma\n",
            "moved to stop number 24 | South San Francisco\n",
            "moved to stop number 25 | San Bruno\n",
            "moved to stop number 26 | San Francisco International Airport\n",
            "moved to stop number 25 | San Bruno\n",
            "moved to stop number 24 | South San Francisco\n",
            "moved to stop number 23 | Colma\n",
            "moved to stop number 22 | Daly City\n",
            "moved to stop number 21 | Balboa Park\n",
            "moved to stop number 20 | Glen Park\n",
            "moved to stop number 19 | 24th St Mission\n",
            "moved to stop number 18 | 16th St Mission\n",
            "moved to stop number 17 | Civic Center/ UN Plaza\n",
            "moved to stop number 16 | Powell St\n",
            "moved to stop number 15 | Montgomery St\n",
            "moved to stop number 14 | Embarcadero\n",
            "moved to stop number 13 | West Oakland\n",
            "moved to stop number 12 | 12th St/Oakland City Center\n",
            "moved to stop number 11 | 19th St/Oakland\n",
            "moved to stop number 10 | MacArthur\n",
            "moved to stop number 9 | Rockridge\n",
            "moved to stop number 8 | Orinda\n",
            "moved to stop number 7 | Lafayette\n",
            "moved to stop number 6 | Walnut Creek\n",
            "moved to stop number 5 | Pleasant Hill/ Contra costa Centre\n",
            "moved to stop number 4 | Concord\n",
            "moved to stop number 3 | North Concord / Martinex\n",
            "moved to stop number 2 | Pittsburg / Bay Point\n",
            "moved to stop number 1 | Pittsburg Center\n",
            "moved to stop number 0 | Antioch\n",
            "moved to stop number 1 | Pittsburg Center\n",
            "moved to stop number 2 | Pittsburg / Bay Point\n",
            "moved to stop number 3 | North Concord / Martinex\n",
            "moved to stop number 4 | Concord\n",
            "moved to stop number 5 | Pleasant Hill/ Contra costa Centre\n",
            "moved to stop number 6 | Walnut Creek\n",
            "moved to stop number 7 | Lafayette\n",
            "moved to stop number 8 | Orinda\n",
            "moved to stop number 9 | Rockridge\n",
            "moved to stop number 10 | MacArthur\n",
            "moved to stop number 11 | 19th St/Oakland\n",
            "moved to stop number 12 | 12th St/Oakland City Center\n",
            "moved to stop number 13 | West Oakland\n",
            "moved to stop number 14 | Embarcadero\n",
            "moved to stop number 15 | Montgomery St\n",
            "moved to stop number 16 | Powell St\n",
            "moved to stop number 17 | Civic Center/ UN Plaza\n",
            "moved to stop number 18 | 16th St Mission\n",
            "moved to stop number 19 | 24th St Mission\n",
            "moved to stop number 20 | Glen Park\n",
            "moved to stop number 21 | Balboa Park\n",
            "moved to stop number 22 | Daly City\n",
            "moved to stop number 23 | Colma\n",
            "moved to stop number 24 | South San Francisco\n",
            "moved to stop number 25 | San Bruno\n",
            "moved to stop number 26 | San Francisco International Airport\n"
          ],
          "name": "stdout"
        }
      ]
    }
  ]
}
