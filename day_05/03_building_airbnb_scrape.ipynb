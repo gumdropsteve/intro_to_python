{
  "nbformat": 4,
  "nbformat_minor": 0,
  "metadata": {
    "colab": {
      "name": "03_building_airbnb_scrape.ipynb",
      "provenance": [],
      "authorship_tag": "ABX9TyPIBHkFUhCWlza77zUWGdXZ",
      "include_colab_link": true
    },
    "kernelspec": {
      "name": "python3",
      "display_name": "Python 3"
    }
  },
  "cells": [
    {
      "cell_type": "markdown",
      "metadata": {
        "id": "view-in-github",
        "colab_type": "text"
      },
      "source": [
        "<a href=\"https://colab.research.google.com/github/gumdropsteve/intro_to_python/blob/main/day_05/03_building_airbnb_scrape.ipynb\" target=\"_parent\"><img src=\"https://colab.research.google.com/assets/colab-badge.svg\" alt=\"Open In Colab\"/></a>"
      ]
    },
    {
      "cell_type": "markdown",
      "metadata": {
        "id": "OrM1KvOCtF3q"
      },
      "source": [
        "# Airbnb Scrape"
      ]
    },
    {
      "cell_type": "code",
      "metadata": {
        "id": "L91WWa6rX650"
      },
      "source": [
        "import requests  # https://requests.readthedocs.io/en/master\r\n",
        "from bs4 import BeautifulSoup  # https://www.crummy.com/software/BeautifulSoup/bs4/doc"
      ],
      "execution_count": null,
      "outputs": []
    },
    {
      "cell_type": "code",
      "metadata": {
        "id": "b4Vf5bFGX9sX"
      },
      "source": [
        "def get_page(url):\r\n",
        "    \"\"\"\r\n",
        "    returns a soup object that contains all the information of a given webpage\r\n",
        "    \"\"\"\r\n",
        "    # pull the webpage & focus the content\r\n",
        "    result = requests.get(url)\r\n",
        "    content = result.content\r\n",
        "\r\n",
        "    # make a soup from the content\r\n",
        "    soup = BeautifulSoup(content, features='html.parser')\r\n",
        "    \r\n",
        "    return soup"
      ],
      "execution_count": null,
      "outputs": []
    },
    {
      "cell_type": "code",
      "metadata": {
        "id": "I2goYyhFbcAd"
      },
      "source": [
        "las_vegas = 'https://www.airbnb.com/s/Las-Vegas--Nevada--United-States/homes'\r\n",
        "\r\n",
        "get_page(las_vegas)"
      ],
      "execution_count": 1,
      "outputs": []
    },
    {
      "cell_type": "code",
      "metadata": {
        "id": "Ya5SfM1EbaIc"
      },
      "source": [
        "def get_room_classes(soup_page):\r\n",
        "    \"\"\"\r\n",
        "    returns all the listings that can be found on the page (soup object) in a list\r\n",
        "    \"\"\"\r\n",
        "    # extarct rooms group\r\n",
        "    rooms = soup_page.findAll('div', {'class':'_8ssblpx'})\r\n",
        "    # pull the rooms\r\n",
        "    results = [room for room in rooms]\r\n",
        "\r\n",
        "    return results"
      ],
      "execution_count": null,
      "outputs": []
    },
    {
      "cell_type": "code",
      "metadata": {
        "id": "BK1yt76wbYGI"
      },
      "source": [
        "lv = get_page(las_vegas)\r\n",
        "\r\n",
        "get_room_classes(lv)"
      ],
      "execution_count": 2,
      "outputs": []
    },
    {
      "cell_type": "markdown",
      "metadata": {
        "id": "cCwMoIaRgMVX"
      },
      "source": [
        "#### How to get the link to each listing?"
      ]
    },
    {
      "cell_type": "code",
      "metadata": {
        "colab": {
          "base_uri": "https://localhost:8080/"
        },
        "id": "yucT3fq1gU2P",
        "outputId": "3862ba2f-a2a2-4431-f5ed-fe901644edfc"
      },
      "source": [
        "get_room_classes(lv)[0]"
      ],
      "execution_count": null,
      "outputs": [
        {
          "output_type": "execute_result",
          "data": {
            "text/plain": [
              "<div class=\"_8ssblpx\"><div class=\"_gig1e7\"><div itemprop=\"itemListElement\" itemscope=\"\" itemtype=\"http://schema.org/ListItem\"><meta content=\"Eggeman 8 - null - Las Vegas\" itemprop=\"name\"/><meta content=\"1\" itemprop=\"position\"/><meta content=\"undefined/rooms/44416011?previous_page_section_name=1000\" itemprop=\"url\"/><div><div><div style=\"margin-top:12px;margin-bottom:24px\"><div class=\"_7qp4lh\"></div></div><div class=\"_8s3ctt\"><a aria-label=\"Eggeman 8\" class=\"_gjfol0\" data-check-info-section=\"true\" href=\"/rooms/44416011?previous_page_section_name=1000&amp;federated_search_id=c7ad28b3-132c-47af-8216-d8e805c1b732\" rel=\"noopener noreferrer\" target=\"listing_44416011\"></a><div class=\"_1nz9l7j\"><div class=\"_2n7voam\"><div class=\"_gjw2an\" style=\"padding-top:66.6667%;background:#484848\"><div class=\"_1szwzht\"><div aria-busy=\"false\" aria-label=\"Eggeman 8\" class=\"_hxt6u1e\" role=\"img\" style=\"padding-top:66.6667%\"><div class=\"_4626ulj\"><img alt=\"Eggeman 8\" aria-hidden=\"true\" class=\"_91slf2a\" data-original-uri=\"https://a0.muscache.com/im/pictures/3b9e327e-d594-4f21-91a2-286cb4f22e91.jpg?im_w=720\" src=\"https://a0.muscache.com/im/pictures/3b9e327e-d594-4f21-91a2-286cb4f22e91.jpg?im_w=720\" style=\"object-fit:cover\"/><div class=\"_10xjrv2u\" style=\"background-image:url(https://a0.muscache.com/im/pictures/3b9e327e-d594-4f21-91a2-286cb4f22e91.jpg?im_w=720);background-size:cover\"></div></div></div></div></div><div class=\"_5ogqp7\"><div class=\"_zjunba\" style=\"padding:8px\"><div><div class=\"_snufp9\" style=\"background-color:rgba(255, 255, 255, 0.95);border:0.5px solid rgba(0, 0, 0, 0.2);color:#222222\"><div class=\"_ufoy4t\">SUPERHOST</div></div></div></div><div class=\"_1xzy2\"><div class=\"_hd88sb\"><button aria-label=\"Previous image\" class=\"_177jc1o\" type=\"button\"><span class=\"_3hmsj\"><svg aria-hidden=\"true\" focusable=\"false\" role=\"presentation\" style=\"height:10px;width:10px;display:block;fill:currentColor\" viewbox=\"0 0 16 16\"><path d=\"m10.8 16c-.4 0-.7-.1-.9-.4l-6.8-6.7c-.5-.5-.5-1.3 0-1.8l6.8-6.7c.5-.5 1.2-.5 1.7 0s .5 1.2 0 1.7l-5.8 5.9 5.8 5.9c.5.5.5 1.2 0 1.7-.2.3-.5.4-.8.4\"></path></svg></span></button></div><div class=\"_l9kk1hc\"><button aria-label=\"Next image\" class=\"_177jc1o\" type=\"button\"><span class=\"_3hmsj\"><svg aria-hidden=\"true\" focusable=\"false\" role=\"presentation\" style=\"height:10px;width:10px;display:block;fill:currentColor\" viewbox=\"0 0 16 16\"><path d=\"m5.3 16c .3 0 .6-.1.8-.4l6.8-6.7c.5-.5.5-1.3 0-1.8l-6.8-6.7c-.5-.5-1.2-.5-1.7 0s-.5 1.2 0 1.7l5.8 5.9-5.8 5.9c-.5.5-.5 1.2 0 1.7.2.3.5.4.9.4\"></path></svg></span></button></div></div><div class=\"_1coc2b2\"></div></div></div></div><div class=\"_tmwq9g\"><div class=\"_r6zroz\"><div class=\"_1jzvdu8\"><div class=\"_1tanv1h\" style=\"margin-bottom:4px\"><div class=\"_b14dlit\">Entire condominium in Las Vegas</div></div><div class=\"_bzh5lkq\" style=\"line-height:24px;max-height:24px;overflow:hidden;text-overflow:ellipsis;display:-webkit-box;-webkit-line-clamp:1;-webkit-box-orient:vertical\"> <!-- -->Eggeman 8</div></div></div><div class=\"_12xcxtl\" style=\"margin-top:11px;width:32px\"></div><div class=\"_kqh46o\" style=\"margin-top:9px\">4 guests<span aria-hidden=\"true\"> · </span>2 bedrooms<span aria-hidden=\"true\"> · </span>3 beds<span aria-hidden=\"true\"> · </span>1.5 baths</div><div class=\"_kqh46o\" style=\"margin-top:4px\">Wifi<span aria-hidden=\"true\"> · </span>Free parking<span aria-hidden=\"true\"> · </span>Pool</div><div class=\"_1bbeetd\"><div class=\"_vaj62s\"><span aria-label=\"Rating 4.91 out of 5; 44 reviews\" class=\"_18khxk1\" role=\"img\"><span class=\"_5g1etn\"><svg aria-hidden=\"true\" focusable=\"false\" role=\"presentation\" style=\"height:14px;width:14px;fill:currentColor\" viewbox=\"0 0 1000 1000\"><path d=\"M972 380c9 28 2 50-20 67L725 619l87 280c11 39-18 75-54 75-12 0-23-4-33-12L499 790 273 962a58 58 0 0 1-78-12 50 50 0 0 1-8-51l86-278L46 447c-21-17-28-39-19-67 8-24 29-40 52-40h280l87-279c7-23 28-39 52-39 25 0 47 17 54 41l87 277h280c24 0 45 16 53 40z\"></path></svg></span><span aria-hidden=\"true\" class=\"_10fy1f8\">4.91</span><span aria-hidden=\"true\" class=\"_a7a5sx\"> (<!-- -->44<!-- -->)</span></span></div><div class=\"_ls0e43\"><div class=\"_l2ulkt8\"><div class=\"_1fwiw8gv\"><span><span class=\"_1p7iugi\"><span class=\"_krjbj\">Price:</span>$52</span> / night</span></div></div></div></div></div></div><div></div><div style=\"margin-top:24px;margin-bottom:4px\"><div class=\"_7qp4lh\"></div></div></div></div></div></div></div>"
            ]
          },
          "metadata": {
            "tags": []
          },
          "execution_count": 12
        }
      ]
    },
    {
      "cell_type": "code",
      "metadata": {
        "colab": {
          "base_uri": "https://localhost:8080/"
        },
        "id": "gcE5mvDBgZam",
        "outputId": "c92c1fe8-bd5c-4fbc-b8c7-c55bc0a2011b"
      },
      "source": [
        "type(get_room_classes(lv)[0])"
      ],
      "execution_count": null,
      "outputs": [
        {
          "output_type": "execute_result",
          "data": {
            "text/plain": [
              "bs4.element.Tag"
            ]
          },
          "metadata": {
            "tags": []
          },
          "execution_count": 13
        }
      ]
    },
    {
      "cell_type": "code",
      "metadata": {
        "colab": {
          "base_uri": "https://localhost:8080/"
        },
        "id": "dcEegfkXgdm3",
        "outputId": "3eff0ae8-26a1-4acd-ef71-dd324762647e"
      },
      "source": [
        "get_room_classes(lv)[0].find('a')"
      ],
      "execution_count": null,
      "outputs": [
        {
          "output_type": "execute_result",
          "data": {
            "text/plain": [
              "<a aria-label=\"Eggeman 8\" class=\"_gjfol0\" data-check-info-section=\"true\" href=\"/rooms/44416011?previous_page_section_name=1000&amp;federated_search_id=c7ad28b3-132c-47af-8216-d8e805c1b732\" rel=\"noopener noreferrer\" target=\"listing_44416011\"></a>"
            ]
          },
          "metadata": {
            "tags": []
          },
          "execution_count": 16
        }
      ]
    },
    {
      "cell_type": "code",
      "metadata": {
        "colab": {
          "base_uri": "https://localhost:8080/"
        },
        "id": "aPrzd8M8g4mx",
        "outputId": "e549de69-91cc-411e-9a1a-dd1debfa2fd8"
      },
      "source": [
        "type(get_room_classes(lv)[0].find('a'))"
      ],
      "execution_count": null,
      "outputs": [
        {
          "output_type": "execute_result",
          "data": {
            "text/plain": [
              "bs4.element.Tag"
            ]
          },
          "metadata": {
            "tags": []
          },
          "execution_count": 17
        }
      ]
    },
    {
      "cell_type": "code",
      "metadata": {
        "colab": {
          "base_uri": "https://localhost:8080/",
          "height": 35
        },
        "id": "YFa-LTfKg7iP",
        "outputId": "b2a8eba6-ef85-4dd5-ffc3-e63c81680dce"
      },
      "source": [
        "get_room_classes(lv)[0].find('a')['href']"
      ],
      "execution_count": null,
      "outputs": [
        {
          "output_type": "execute_result",
          "data": {
            "application/vnd.google.colaboratory.intrinsic+json": {
              "type": "string"
            },
            "text/plain": [
              "'/rooms/44416011?previous_page_section_name=1000&federated_search_id=c7ad28b3-132c-47af-8216-d8e805c1b732'"
            ]
          },
          "metadata": {
            "tags": []
          },
          "execution_count": 18
        }
      ]
    },
    {
      "cell_type": "code",
      "metadata": {
        "colab": {
          "base_uri": "https://localhost:8080/",
          "height": 35
        },
        "id": "HOMn431ZhBb9",
        "outputId": "3a30c7cb-e84f-4769-9277-acce6a533886"
      },
      "source": [
        "# build my function outside of a function first\r\n",
        "room = get_room_classes(lv)[0]\r\n",
        "\r\n",
        "def get_listing_link(listing):\r\n",
        "    \"\"\"\r\n",
        "    returns the URL link of given listing\r\n",
        "    \"\"\"\r\n",
        "    room_info = room.find('a')\r\n",
        "\r\n",
        "    room_href = room_info['href']\r\n",
        "\r\n",
        "    room_url = 'https://airbnb.com' + room_href\r\n",
        "\r\n",
        "    room_url = room_url.split('?')[0]\r\n",
        "\r\n",
        "    return room_url\r\n",
        "\r\n",
        "\r\n",
        "get_listing_link(room)"
      ],
      "execution_count": null,
      "outputs": [
        {
          "output_type": "execute_result",
          "data": {
            "application/vnd.google.colaboratory.intrinsic+json": {
              "type": "string"
            },
            "text/plain": [
              "'https://airbnb.com/rooms/44416011'"
            ]
          },
          "metadata": {
            "tags": []
          },
          "execution_count": 26
        }
      ]
    },
    {
      "cell_type": "markdown",
      "metadata": {
        "id": "Bz9G9ZnpibWj"
      },
      "source": [
        "#### Get the price (per night) of a specific listing"
      ]
    },
    {
      "cell_type": "code",
      "metadata": {
        "colab": {
          "base_uri": "https://localhost:8080/"
        },
        "id": "SxXyhNjBit6-",
        "outputId": "b37f8e57-d4e0-4117-8593-2411368d1741"
      },
      "source": [
        "room = get_room_classes(lv)[0]\r\n",
        "\r\n",
        "\r\n",
        "def get_room_price(listing):\r\n",
        "    \"\"\"\r\n",
        "    returns the (float) nightly rate (price) of a given listing\r\n",
        "    \"\"\"\r\n",
        "    price_string = room.find('div', {'class':'_ls0e43'}).text\r\n",
        "\r\n",
        "    price_string = price_string.split('Price:')[1]\r\n",
        "\r\n",
        "    price_string = price_string.split(' ')[0]\r\n",
        "\r\n",
        "    price = float(price_string[1:])\r\n",
        "\r\n",
        "    return price\r\n",
        "\r\n",
        "\r\n",
        "get_room_price(room)"
      ],
      "execution_count": null,
      "outputs": [
        {
          "output_type": "execute_result",
          "data": {
            "text/plain": [
              "52.0"
            ]
          },
          "metadata": {
            "tags": []
          },
          "execution_count": 44
        }
      ]
    }
  ]
}
