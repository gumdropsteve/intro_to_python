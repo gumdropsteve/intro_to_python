{
  "nbformat": 4,
  "nbformat_minor": 0,
  "metadata": {
    "colab": {
      "name": "02_dictionaries.ipynb",
      "provenance": [],
      "authorship_tag": "ABX9TyNeaFB6Ul43/2mU44ZCZWJE",
      "include_colab_link": true
    },
    "kernelspec": {
      "name": "python3",
      "display_name": "Python 3"
    }
  },
  "cells": [
    {
      "cell_type": "markdown",
      "metadata": {
        "id": "view-in-github",
        "colab_type": "text"
      },
      "source": [
        "<a href=\"https://colab.research.google.com/github/gumdropsteve/intro_to_python/blob/day_05/02_dictionaries.ipynb\" target=\"_parent\"><img src=\"https://colab.research.google.com/assets/colab-badge.svg\" alt=\"Open In Colab\"/></a>"
      ]
    },
    {
      "cell_type": "markdown",
      "metadata": {
        "id": "yCKpw3n9NGLh"
      },
      "source": [
        "# Dictionaries in Python"
      ]
    },
    {
      "cell_type": "code",
      "metadata": {
        "colab": {
          "base_uri": "https://localhost:8080/"
        },
        "id": "AXVCEzS8J4IW",
        "outputId": "03a620fc-759b-415e-ff33-66a7f42ae057"
      },
      "source": [
        "city_dct = {}\r\n",
        "\r\n",
        "city_dct"
      ],
      "execution_count": 1,
      "outputs": [
        {
          "output_type": "execute_result",
          "data": {
            "text/plain": [
              "{}"
            ]
          },
          "metadata": {
            "tags": []
          },
          "execution_count": 1
        }
      ]
    },
    {
      "cell_type": "code",
      "metadata": {
        "colab": {
          "base_uri": "https://localhost:8080/"
        },
        "id": "dHgthrapNQ7N",
        "outputId": "2ec189a6-1d38-44ac-ef6d-3d7ab40ea69f"
      },
      "source": [
        "type(city_dct)  # dir(city_dct)"
      ],
      "execution_count": 6,
      "outputs": [
        {
          "output_type": "execute_result",
          "data": {
            "text/plain": [
              "dict"
            ]
          },
          "metadata": {
            "tags": []
          },
          "execution_count": 6
        }
      ]
    },
    {
      "cell_type": "markdown",
      "metadata": {
        "id": "gI07X7FvNyFx"
      },
      "source": [
        "Dictionaries store keys and values."
      ]
    },
    {
      "cell_type": "code",
      "metadata": {
        "colab": {
          "base_uri": "https://localhost:8080/"
        },
        "id": "1OWTCC_gNSl2",
        "outputId": "7782a249-98fa-4b36-a0bf-3a63d214e25f"
      },
      "source": [
        "city_dct['las_vegas'] = 644644\r\n",
        "\r\n",
        "city_dct"
      ],
      "execution_count": 7,
      "outputs": [
        {
          "output_type": "execute_result",
          "data": {
            "text/plain": [
              "{'las_vegas': 644644}"
            ]
          },
          "metadata": {
            "tags": []
          },
          "execution_count": 7
        }
      ]
    },
    {
      "cell_type": "code",
      "metadata": {
        "colab": {
          "base_uri": "https://localhost:8080/"
        },
        "id": "BcT8926bNg-b",
        "outputId": "36c5d79a-a1fb-4d41-a5de-f0819efcc1ec"
      },
      "source": [
        "city_dct['las_vegas']"
      ],
      "execution_count": 10,
      "outputs": [
        {
          "output_type": "execute_result",
          "data": {
            "text/plain": [
              "644644"
            ]
          },
          "metadata": {
            "tags": []
          },
          "execution_count": 10
        }
      ]
    },
    {
      "cell_type": "code",
      "metadata": {
        "id": "nmOt6NLcOoeD"
      },
      "source": [
        "city_dct['san_francisco'] = 883305"
      ],
      "execution_count": 13,
      "outputs": []
    },
    {
      "cell_type": "code",
      "metadata": {
        "colab": {
          "base_uri": "https://localhost:8080/"
        },
        "id": "BgiDx8c_Oz4s",
        "outputId": "eb0401e7-c169-4597-d39d-db1502da13bc"
      },
      "source": [
        "city_dct['san_francisco']"
      ],
      "execution_count": 14,
      "outputs": [
        {
          "output_type": "execute_result",
          "data": {
            "text/plain": [
              "883305"
            ]
          },
          "metadata": {
            "tags": []
          },
          "execution_count": 14
        }
      ]
    },
    {
      "cell_type": "code",
      "metadata": {
        "colab": {
          "base_uri": "https://localhost:8080/"
        },
        "id": "Jr7io3VYO24r",
        "outputId": "3dae61a9-c002-453c-f246-013d201695da"
      },
      "source": [
        "city_dct"
      ],
      "execution_count": 15,
      "outputs": [
        {
          "output_type": "execute_result",
          "data": {
            "text/plain": [
              "{'las_vegas': 644644, 'san_francisco': 883305}"
            ]
          },
          "metadata": {
            "tags": []
          },
          "execution_count": 15
        }
      ]
    },
    {
      "cell_type": "markdown",
      "metadata": {
        "id": "d31V7IkxPjGf"
      },
      "source": [
        "#### Another way to build a dict..."
      ]
    },
    {
      "cell_type": "code",
      "metadata": {
        "colab": {
          "base_uri": "https://localhost:8080/"
        },
        "id": "OG5iRRlQPZbm",
        "outputId": "c2e6c483-ee51-4c86-aa10-a0e701468481"
      },
      "source": [
        "# key:value, key:value, etc...\r\n",
        "city_dct = {'san_francisco':883305, 'las_vegas':644644, 'riyadh':7676654}\r\n",
        "city_dct  # note: auto alphabetical"
      ],
      "execution_count": 18,
      "outputs": [
        {
          "output_type": "execute_result",
          "data": {
            "text/plain": [
              "{'las_vegas': 644644, 'riyadh': 7676654, 'san_francisco': 883305}"
            ]
          },
          "metadata": {
            "tags": []
          },
          "execution_count": 18
        }
      ]
    },
    {
      "cell_type": "markdown",
      "metadata": {
        "id": "LgNups90Qjfv"
      },
      "source": [
        "#### Dictionary of Dictionaries"
      ]
    },
    {
      "cell_type": "code",
      "metadata": {
        "colab": {
          "base_uri": "https://localhost:8080/"
        },
        "id": "IXUE6kbjP6t0",
        "outputId": "784cf87f-9199-49fd-a59a-eac78d4fd437"
      },
      "source": [
        "city_dct = {}\r\n",
        "\r\n",
        "city_dct['las_vegas'] = {'population':644644,\r\n",
        "                             'elevation':2001,\r\n",
        "                             'type':'city'}\r\n",
        "\r\n",
        "\r\n",
        "city_dct"
      ],
      "execution_count": 34,
      "outputs": [
        {
          "output_type": "execute_result",
          "data": {
            "text/plain": [
              "{'las_vegas': {'elevation': 2001, 'population': 644644, 'type': 'city'}}"
            ]
          },
          "metadata": {
            "tags": []
          },
          "execution_count": 34
        }
      ]
    },
    {
      "cell_type": "code",
      "metadata": {
        "colab": {
          "base_uri": "https://localhost:8080/"
        },
        "id": "UXaZL3DNRQLz",
        "outputId": "20dd3cad-8ed5-4759-f7dd-e3dcda9fa015"
      },
      "source": [
        "city_dct['san_francisco'] = {'population':883305,\r\n",
        "                             'elevation':52,\r\n",
        "                             'type':'city'}\r\n",
        "\r\n",
        "city_dct"
      ],
      "execution_count": 35,
      "outputs": [
        {
          "output_type": "execute_result",
          "data": {
            "text/plain": [
              "{'las_vegas': {'elevation': 2001, 'population': 644644, 'type': 'city'},\n",
              " 'san_francisco': {'elevation': 52, 'population': 883305, 'type': 'city'}}"
            ]
          },
          "metadata": {
            "tags": []
          },
          "execution_count": 35
        }
      ]
    },
    {
      "cell_type": "code",
      "metadata": {
        "colab": {
          "base_uri": "https://localhost:8080/"
        },
        "id": "oHsMIF8xSCws",
        "outputId": "85b8f18b-ce8d-41dd-cf13-d49f8f4c0a9c"
      },
      "source": [
        "city_dct['riyadh'] = {'population':7676654,\r\n",
        "                      'elevation':2008,\r\n",
        "                      'type':'metro'}\r\n",
        "\r\n",
        "city_dct"
      ],
      "execution_count": 36,
      "outputs": [
        {
          "output_type": "execute_result",
          "data": {
            "text/plain": [
              "{'las_vegas': {'elevation': 2001, 'population': 644644, 'type': 'city'},\n",
              " 'riyadh': {'elevation': 2008, 'population': 7676654, 'type': 'metro'},\n",
              " 'san_francisco': {'elevation': 52, 'population': 883305, 'type': 'city'}}"
            ]
          },
          "metadata": {
            "tags": []
          },
          "execution_count": 36
        }
      ]
    },
    {
      "cell_type": "code",
      "metadata": {
        "colab": {
          "base_uri": "https://localhost:8080/"
        },
        "id": "iheuB8_gSTUL",
        "outputId": "76a416df-217b-4104-82bc-f6bc7779fc32"
      },
      "source": [
        "city_dct['las_vegas']['elevation']"
      ],
      "execution_count": 37,
      "outputs": [
        {
          "output_type": "execute_result",
          "data": {
            "text/plain": [
              "2001"
            ]
          },
          "metadata": {
            "tags": []
          },
          "execution_count": 37
        }
      ]
    },
    {
      "cell_type": "code",
      "metadata": {
        "colab": {
          "base_uri": "https://localhost:8080/"
        },
        "id": "lNZGiO7_SrKQ",
        "outputId": "422c8e01-8c56-44bd-c143-c88852e3efd2"
      },
      "source": [
        "for a in city_dct:\r\n",
        "    if a in ['las_vegas', 'san_francisco']:\r\n",
        "        print(city_dct[a])"
      ],
      "execution_count": 38,
      "outputs": [
        {
          "output_type": "stream",
          "text": [
            "{'population': 644644, 'elevation': 2001, 'type': 'city'}\n",
            "{'population': 883305, 'elevation': 52, 'type': 'city'}\n"
          ],
          "name": "stdout"
        }
      ]
    },
    {
      "cell_type": "markdown",
      "metadata": {
        "id": "OwTSNyfKSi8g"
      },
      "source": [
        "#### Dictionary Comprehension"
      ]
    },
    {
      "cell_type": "code",
      "metadata": {
        "colab": {
          "base_uri": "https://localhost:8080/"
        },
        "id": "Lp5M_hueTRic",
        "outputId": "22fde565-3419-481b-9766-373b2b3afbff"
      },
      "source": [
        "d = {}\r\n",
        "\r\n",
        "for n in range(5):\r\n",
        "    d[n] = n**2\r\n",
        "\r\n",
        "d"
      ],
      "execution_count": 43,
      "outputs": [
        {
          "output_type": "execute_result",
          "data": {
            "text/plain": [
              "{0: 0, 1: 1, 2: 4, 3: 9, 4: 16}"
            ]
          },
          "metadata": {
            "tags": []
          },
          "execution_count": 43
        }
      ]
    },
    {
      "cell_type": "code",
      "metadata": {
        "colab": {
          "base_uri": "https://localhost:8080/"
        },
        "id": "zfXGp5xOSeDw",
        "outputId": "e1365451-26fc-42bd-fc6d-44f311a79823"
      },
      "source": [
        "d = {n:n**2 for n in range(5)}\r\n",
        "\r\n",
        "d"
      ],
      "execution_count": 41,
      "outputs": [
        {
          "output_type": "execute_result",
          "data": {
            "text/plain": [
              "{0: 0, 1: 1, 2: 4, 3: 9, 4: 16}"
            ]
          },
          "metadata": {
            "tags": []
          },
          "execution_count": 41
        }
      ]
    }
  ]
}
