{
  "nbformat": 4,
  "nbformat_minor": 0,
  "metadata": {
    "colab": {
      "name": "01_list_comprehension.ipynb",
      "provenance": [],
      "collapsed_sections": [],
      "authorship_tag": "ABX9TyNDAv1U7zUpcVu3sXTZkVXZ",
      "include_colab_link": true
    },
    "kernelspec": {
      "name": "python3",
      "display_name": "Python 3"
    }
  },
  "cells": [
    {
      "cell_type": "markdown",
      "metadata": {
        "id": "view-in-github",
        "colab_type": "text"
      },
      "source": [
        "<a href=\"https://colab.research.google.com/github/gumdropsteve/intro_to_python/blob/day_05/day_05/01_list_comprehension.ipynb\" target=\"_parent\"><img src=\"https://colab.research.google.com/assets/colab-badge.svg\" alt=\"Open In Colab\"/></a>"
      ]
    },
    {
      "cell_type": "markdown",
      "metadata": {
        "id": "3rN0n2Di_uH-"
      },
      "source": [
        "# List Comprehension in Python"
      ]
    },
    {
      "cell_type": "markdown",
      "metadata": {
        "id": "aMGRkNWZ_ze9"
      },
      "source": [
        "#### Regular way to make a simple list"
      ]
    },
    {
      "cell_type": "code",
      "metadata": {
        "colab": {
          "base_uri": "https://localhost:8080/"
        },
        "id": "sC_tJfvJ8QlW",
        "outputId": "c504e2c0-a267-4262-e2cc-d1c7c9eede1d"
      },
      "source": [
        "a = []\r\n",
        "\r\n",
        "for _ in range(10):\r\n",
        "    # add it to the list\r\n",
        "    a.append(_)\r\n",
        "\r\n",
        "a"
      ],
      "execution_count": 1,
      "outputs": [
        {
          "output_type": "execute_result",
          "data": {
            "text/plain": [
              "[0, 1, 2, 3, 4, 5, 6, 7, 8, 9]"
            ]
          },
          "metadata": {
            "tags": []
          },
          "execution_count": 1
        }
      ]
    },
    {
      "cell_type": "markdown",
      "metadata": {
        "id": "9WaCEYD7_25b"
      },
      "source": [
        "#### List comprehension way to make a simple list"
      ]
    },
    {
      "cell_type": "code",
      "metadata": {
        "colab": {
          "base_uri": "https://localhost:8080/"
        },
        "id": "SmdWZOko8ZjW",
        "outputId": "3489a371-f8ac-49b5-b27b-2fc64a5d3547"
      },
      "source": [
        "[_ for _ in range(10)]"
      ],
      "execution_count": 2,
      "outputs": [
        {
          "output_type": "execute_result",
          "data": {
            "text/plain": [
              "[0, 1, 2, 3, 4, 5, 6, 7, 8, 9]"
            ]
          },
          "metadata": {
            "tags": []
          },
          "execution_count": 2
        }
      ]
    },
    {
      "cell_type": "markdown",
      "metadata": {
        "id": "SW15ko9U_6Wf"
      },
      "source": [
        "## More examples"
      ]
    },
    {
      "cell_type": "code",
      "metadata": {
        "colab": {
          "base_uri": "https://localhost:8080/"
        },
        "id": "50zwPM1T91X7",
        "outputId": "fb8e12e5-df47-4614-96c8-d977d73c1cd5"
      },
      "source": [
        "years = []\r\n",
        "\r\n",
        "for i in range(3):\r\n",
        "    years.append(i)\r\n",
        "\r\n",
        "years"
      ],
      "execution_count": 3,
      "outputs": [
        {
          "output_type": "execute_result",
          "data": {
            "text/plain": [
              "[0, 1, 2]"
            ]
          },
          "metadata": {
            "tags": []
          },
          "execution_count": 3
        }
      ]
    },
    {
      "cell_type": "code",
      "metadata": {
        "colab": {
          "base_uri": "https://localhost:8080/"
        },
        "id": "iaYHcl-k90lM",
        "outputId": "6bb0fe15-2cd1-4f1c-ff27-67ef3e86304d"
      },
      "source": [
        "years = list(range(0, 3))\r\n",
        "years"
      ],
      "execution_count": 4,
      "outputs": [
        {
          "output_type": "execute_result",
          "data": {
            "text/plain": [
              "[0, 1, 2]"
            ]
          },
          "metadata": {
            "tags": []
          },
          "execution_count": 4
        }
      ]
    },
    {
      "cell_type": "code",
      "metadata": {
        "colab": {
          "base_uri": "https://localhost:8080/"
        },
        "id": "GqMCXoWB-G55",
        "outputId": "3b07fab6-9d9f-4a54-cf97-e60ad17c9329"
      },
      "source": [
        "years = [y for y in range(3)]\r\n",
        "years"
      ],
      "execution_count": 5,
      "outputs": [
        {
          "output_type": "execute_result",
          "data": {
            "text/plain": [
              "[0, 1, 2]"
            ]
          },
          "metadata": {
            "tags": []
          },
          "execution_count": 5
        }
      ]
    },
    {
      "cell_type": "code",
      "metadata": {
        "colab": {
          "base_uri": "https://localhost:8080/"
        },
        "id": "oOkl28Ep-PxK",
        "outputId": "1bd85400-3e1d-4fc7-94d2-ff71d7dead67"
      },
      "source": [
        "base_url = 'https://blazingsql-colab.s3.amazonaws.com/taxi_data/'\r\n",
        "\r\n",
        "years = []\r\n",
        "for i in range(3):\r\n",
        "    years.append(i)\r\n",
        "\r\n",
        "out = []\r\n",
        "for i in years:\r\n",
        "    fn = f'{base_url}taxi_0{i}.csv'\r\n",
        "    out.append(fn)\r\n",
        "\r\n",
        "out"
      ],
      "execution_count": 6,
      "outputs": [
        {
          "output_type": "execute_result",
          "data": {
            "text/plain": [
              "['https://blazingsql-colab.s3.amazonaws.com/taxi_data/taxi_00.csv',\n",
              " 'https://blazingsql-colab.s3.amazonaws.com/taxi_data/taxi_01.csv',\n",
              " 'https://blazingsql-colab.s3.amazonaws.com/taxi_data/taxi_02.csv']"
            ]
          },
          "metadata": {
            "tags": []
          },
          "execution_count": 6
        }
      ]
    },
    {
      "cell_type": "code",
      "metadata": {
        "colab": {
          "base_uri": "https://localhost:8080/"
        },
        "id": "aOtQBpKO-1Vy",
        "outputId": "739088a7-2ad6-459d-f625-48b1b016342d"
      },
      "source": [
        "base_url = 'https://blazingsql-colab.s3.amazonaws.com/taxi_data/'\r\n",
        "\r\n",
        "years = [i for i in range(3)]\r\n",
        "\r\n",
        "out = [f'{base_url}taxi_0{y}.csv' for y in years]\r\n",
        "\r\n",
        "out"
      ],
      "execution_count": 7,
      "outputs": [
        {
          "output_type": "execute_result",
          "data": {
            "text/plain": [
              "['https://blazingsql-colab.s3.amazonaws.com/taxi_data/taxi_00.csv',\n",
              " 'https://blazingsql-colab.s3.amazonaws.com/taxi_data/taxi_01.csv',\n",
              " 'https://blazingsql-colab.s3.amazonaws.com/taxi_data/taxi_02.csv']"
            ]
          },
          "metadata": {
            "tags": []
          },
          "execution_count": 7
        }
      ]
    },
    {
      "cell_type": "markdown",
      "metadata": {
        "id": "G8wBvEW6BHVr"
      },
      "source": [
        "#### Example Actually Using It"
      ]
    },
    {
      "cell_type": "code",
      "metadata": {
        "colab": {
          "base_uri": "https://localhost:8080/",
          "height": 626
        },
        "id": "VC8sd0lFA8-9",
        "outputId": "6134eafa-fffd-4683-cd5b-a5f5c80c2e69"
      },
      "source": [
        "import pandas as pd\r\n",
        "\r\n",
        "base_url = 'https://blazingsql-colab.s3.amazonaws.com/taxi_data/'\r\n",
        "\r\n",
        "for url in [f'{base_url}taxi_0{y}.csv' for y in [i for i in range(3)]]:\r\n",
        "    try:\r\n",
        "        # add the new url data to the existing dataframe\r\n",
        "        df = pd.concat([df, pd.read_csv(url)])\r\n",
        "    # the dataframe doesn't exist yet\r\n",
        "    except:\r\n",
        "        # read in the url to a new dataframe (make the dataframe exist)\r\n",
        "        df = pd.read_csv(url)\r\n",
        "\r\n",
        "\r\n",
        "df"
      ],
      "execution_count": 1,
      "outputs": [
        {
          "output_type": "execute_result",
          "data": {
            "text/html": [
              "<div>\n",
              "<style scoped>\n",
              "    .dataframe tbody tr th:only-of-type {\n",
              "        vertical-align: middle;\n",
              "    }\n",
              "\n",
              "    .dataframe tbody tr th {\n",
              "        vertical-align: top;\n",
              "    }\n",
              "\n",
              "    .dataframe thead th {\n",
              "        text-align: right;\n",
              "    }\n",
              "</style>\n",
              "<table border=\"1\" class=\"dataframe\">\n",
              "  <thead>\n",
              "    <tr style=\"text-align: right;\">\n",
              "      <th></th>\n",
              "      <th>2012-02-02 22:30:19.0000002</th>\n",
              "      <th>8.9</th>\n",
              "      <th>-73.988703</th>\n",
              "      <th>40.758803</th>\n",
              "      <th>-73.986517</th>\n",
              "      <th>40.737205</th>\n",
              "      <th>1</th>\n",
              "      <th>2011-04-04 20:34:19.0000006</th>\n",
              "      <th>-73.984138</th>\n",
              "      <th>40.756717</th>\n",
              "      <th>-73.987008</th>\n",
              "      <th>40.731458</th>\n",
              "      <th>2009-07-03 00:41:00.000000132</th>\n",
              "      <th>4.5</th>\n",
              "      <th>-73.920725</th>\n",
              "      <th>40.756808</th>\n",
              "      <th>-73.9115</th>\n",
              "      <th>40.766828</th>\n",
              "      <th>5</th>\n",
              "    </tr>\n",
              "  </thead>\n",
              "  <tbody>\n",
              "    <tr>\n",
              "      <th>0</th>\n",
              "      <td>2014-09-20 07:19:24.0000001</td>\n",
              "      <td>4.0</td>\n",
              "      <td>-73.990208</td>\n",
              "      <td>40.746703</td>\n",
              "      <td>-73.994729</td>\n",
              "      <td>40.750512</td>\n",
              "      <td>1.0</td>\n",
              "      <td>NaN</td>\n",
              "      <td>NaN</td>\n",
              "      <td>NaN</td>\n",
              "      <td>NaN</td>\n",
              "      <td>NaN</td>\n",
              "      <td>NaN</td>\n",
              "      <td>NaN</td>\n",
              "      <td>NaN</td>\n",
              "      <td>NaN</td>\n",
              "      <td>NaN</td>\n",
              "      <td>NaN</td>\n",
              "      <td>NaN</td>\n",
              "    </tr>\n",
              "    <tr>\n",
              "      <th>1</th>\n",
              "      <td>2013-02-23 07:18:05.0000001</td>\n",
              "      <td>5.5</td>\n",
              "      <td>-74.016757</td>\n",
              "      <td>40.709438</td>\n",
              "      <td>-74.009000</td>\n",
              "      <td>40.719496</td>\n",
              "      <td>3.0</td>\n",
              "      <td>NaN</td>\n",
              "      <td>NaN</td>\n",
              "      <td>NaN</td>\n",
              "      <td>NaN</td>\n",
              "      <td>NaN</td>\n",
              "      <td>NaN</td>\n",
              "      <td>NaN</td>\n",
              "      <td>NaN</td>\n",
              "      <td>NaN</td>\n",
              "      <td>NaN</td>\n",
              "      <td>NaN</td>\n",
              "      <td>NaN</td>\n",
              "    </tr>\n",
              "    <tr>\n",
              "      <th>2</th>\n",
              "      <td>2015-04-18 23:49:27.0000009</td>\n",
              "      <td>13.5</td>\n",
              "      <td>-74.002708</td>\n",
              "      <td>40.733730</td>\n",
              "      <td>-73.986099</td>\n",
              "      <td>40.734776</td>\n",
              "      <td>1.0</td>\n",
              "      <td>NaN</td>\n",
              "      <td>NaN</td>\n",
              "      <td>NaN</td>\n",
              "      <td>NaN</td>\n",
              "      <td>NaN</td>\n",
              "      <td>NaN</td>\n",
              "      <td>NaN</td>\n",
              "      <td>NaN</td>\n",
              "      <td>NaN</td>\n",
              "      <td>NaN</td>\n",
              "      <td>NaN</td>\n",
              "      <td>NaN</td>\n",
              "    </tr>\n",
              "    <tr>\n",
              "      <th>3</th>\n",
              "      <td>2010-03-04 08:15:59.0000001</td>\n",
              "      <td>10.5</td>\n",
              "      <td>-73.988356</td>\n",
              "      <td>40.737665</td>\n",
              "      <td>-74.012459</td>\n",
              "      <td>40.713934</td>\n",
              "      <td>1.0</td>\n",
              "      <td>NaN</td>\n",
              "      <td>NaN</td>\n",
              "      <td>NaN</td>\n",
              "      <td>NaN</td>\n",
              "      <td>NaN</td>\n",
              "      <td>NaN</td>\n",
              "      <td>NaN</td>\n",
              "      <td>NaN</td>\n",
              "      <td>NaN</td>\n",
              "      <td>NaN</td>\n",
              "      <td>NaN</td>\n",
              "      <td>NaN</td>\n",
              "    </tr>\n",
              "    <tr>\n",
              "      <th>4</th>\n",
              "      <td>2011-06-07 22:32:43.0000001</td>\n",
              "      <td>6.5</td>\n",
              "      <td>-73.951904</td>\n",
              "      <td>40.777766</td>\n",
              "      <td>-73.968636</td>\n",
              "      <td>40.754830</td>\n",
              "      <td>1.0</td>\n",
              "      <td>NaN</td>\n",
              "      <td>NaN</td>\n",
              "      <td>NaN</td>\n",
              "      <td>NaN</td>\n",
              "      <td>NaN</td>\n",
              "      <td>NaN</td>\n",
              "      <td>NaN</td>\n",
              "      <td>NaN</td>\n",
              "      <td>NaN</td>\n",
              "      <td>NaN</td>\n",
              "      <td>NaN</td>\n",
              "      <td>NaN</td>\n",
              "    </tr>\n",
              "    <tr>\n",
              "      <th>...</th>\n",
              "      <td>...</td>\n",
              "      <td>...</td>\n",
              "      <td>...</td>\n",
              "      <td>...</td>\n",
              "      <td>...</td>\n",
              "      <td>...</td>\n",
              "      <td>...</td>\n",
              "      <td>...</td>\n",
              "      <td>...</td>\n",
              "      <td>...</td>\n",
              "      <td>...</td>\n",
              "      <td>...</td>\n",
              "      <td>...</td>\n",
              "      <td>...</td>\n",
              "      <td>...</td>\n",
              "      <td>...</td>\n",
              "      <td>...</td>\n",
              "      <td>...</td>\n",
              "      <td>...</td>\n",
              "    </tr>\n",
              "    <tr>\n",
              "      <th>4999994</th>\n",
              "      <td>NaN</td>\n",
              "      <td>NaN</td>\n",
              "      <td>NaN</td>\n",
              "      <td>NaN</td>\n",
              "      <td>NaN</td>\n",
              "      <td>NaN</td>\n",
              "      <td>NaN</td>\n",
              "      <td>NaN</td>\n",
              "      <td>NaN</td>\n",
              "      <td>NaN</td>\n",
              "      <td>NaN</td>\n",
              "      <td>NaN</td>\n",
              "      <td>2013-10-26 10:54:17.0000004</td>\n",
              "      <td>10.5</td>\n",
              "      <td>-73.992631</td>\n",
              "      <td>40.743162</td>\n",
              "      <td>-73.982149</td>\n",
              "      <td>40.768728</td>\n",
              "      <td>4.0</td>\n",
              "    </tr>\n",
              "    <tr>\n",
              "      <th>4999995</th>\n",
              "      <td>NaN</td>\n",
              "      <td>NaN</td>\n",
              "      <td>NaN</td>\n",
              "      <td>NaN</td>\n",
              "      <td>NaN</td>\n",
              "      <td>NaN</td>\n",
              "      <td>NaN</td>\n",
              "      <td>NaN</td>\n",
              "      <td>NaN</td>\n",
              "      <td>NaN</td>\n",
              "      <td>NaN</td>\n",
              "      <td>NaN</td>\n",
              "      <td>2010-05-05 21:15:00.000000216</td>\n",
              "      <td>16.5</td>\n",
              "      <td>-74.000467</td>\n",
              "      <td>40.677618</td>\n",
              "      <td>-73.936235</td>\n",
              "      <td>40.710738</td>\n",
              "      <td>1.0</td>\n",
              "    </tr>\n",
              "    <tr>\n",
              "      <th>4999996</th>\n",
              "      <td>NaN</td>\n",
              "      <td>NaN</td>\n",
              "      <td>NaN</td>\n",
              "      <td>NaN</td>\n",
              "      <td>NaN</td>\n",
              "      <td>NaN</td>\n",
              "      <td>NaN</td>\n",
              "      <td>NaN</td>\n",
              "      <td>NaN</td>\n",
              "      <td>NaN</td>\n",
              "      <td>NaN</td>\n",
              "      <td>NaN</td>\n",
              "      <td>2012-08-30 09:26:04.0000004</td>\n",
              "      <td>14.5</td>\n",
              "      <td>-73.946918</td>\n",
              "      <td>40.776505</td>\n",
              "      <td>-73.984272</td>\n",
              "      <td>40.754930</td>\n",
              "      <td>1.0</td>\n",
              "    </tr>\n",
              "    <tr>\n",
              "      <th>4999997</th>\n",
              "      <td>NaN</td>\n",
              "      <td>NaN</td>\n",
              "      <td>NaN</td>\n",
              "      <td>NaN</td>\n",
              "      <td>NaN</td>\n",
              "      <td>NaN</td>\n",
              "      <td>NaN</td>\n",
              "      <td>NaN</td>\n",
              "      <td>NaN</td>\n",
              "      <td>NaN</td>\n",
              "      <td>NaN</td>\n",
              "      <td>NaN</td>\n",
              "      <td>2013-09-09 16:46:00.00000049</td>\n",
              "      <td>5.0</td>\n",
              "      <td>-73.982235</td>\n",
              "      <td>40.751630</td>\n",
              "      <td>-73.987487</td>\n",
              "      <td>40.739817</td>\n",
              "      <td>1.0</td>\n",
              "    </tr>\n",
              "    <tr>\n",
              "      <th>4999998</th>\n",
              "      <td>NaN</td>\n",
              "      <td>NaN</td>\n",
              "      <td>NaN</td>\n",
              "      <td>NaN</td>\n",
              "      <td>NaN</td>\n",
              "      <td>NaN</td>\n",
              "      <td>NaN</td>\n",
              "      <td>NaN</td>\n",
              "      <td>NaN</td>\n",
              "      <td>NaN</td>\n",
              "      <td>NaN</td>\n",
              "      <td>NaN</td>\n",
              "      <td>2010-04-19 07:48:00.000000164</td>\n",
              "      <td>4.9</td>\n",
              "      <td>0.000000</td>\n",
              "      <td>0.000000</td>\n",
              "      <td>0.000000</td>\n",
              "      <td>0.000000</td>\n",
              "      <td>1.0</td>\n",
              "    </tr>\n",
              "  </tbody>\n",
              "</table>\n",
              "<p>14999997 rows × 19 columns</p>\n",
              "</div>"
            ],
            "text/plain": [
              "         2012-02-02 22:30:19.0000002   8.9  ...  40.766828    5\n",
              "0        2014-09-20 07:19:24.0000001   4.0  ...        NaN  NaN\n",
              "1        2013-02-23 07:18:05.0000001   5.5  ...        NaN  NaN\n",
              "2        2015-04-18 23:49:27.0000009  13.5  ...        NaN  NaN\n",
              "3        2010-03-04 08:15:59.0000001  10.5  ...        NaN  NaN\n",
              "4        2011-06-07 22:32:43.0000001   6.5  ...        NaN  NaN\n",
              "...                              ...   ...  ...        ...  ...\n",
              "4999994                          NaN   NaN  ...  40.768728  4.0\n",
              "4999995                          NaN   NaN  ...  40.710738  1.0\n",
              "4999996                          NaN   NaN  ...  40.754930  1.0\n",
              "4999997                          NaN   NaN  ...  40.739817  1.0\n",
              "4999998                          NaN   NaN  ...   0.000000  1.0\n",
              "\n",
              "[14999997 rows x 19 columns]"
            ]
          },
          "metadata": {
            "tags": []
          },
          "execution_count": 1
        }
      ]
    },
    {
      "cell_type": "markdown",
      "metadata": {
        "id": "DOl-w8WAAKaW"
      },
      "source": [
        "## List Comprehension with...\r\n",
        "- if, else\r\n",
        "- a and b\r\n",
        "\r\n",
        "\r\n",
        "#### If Else"
      ]
    },
    {
      "cell_type": "code",
      "metadata": {
        "colab": {
          "base_uri": "https://localhost:8080/"
        },
        "id": "c0gf5P0hE1_8",
        "outputId": "d71d23fc-fe8e-4d70-888e-5c52c811f222"
      },
      "source": [
        "a = []\r\n",
        "\r\n",
        "for i in range(10):\r\n",
        "    if i % 2 == 0:\r\n",
        "        # the number does divide by 2 evenly\r\n",
        "        a.append(True)\r\n",
        "    else:\r\n",
        "        # the number does not divide by 2 evenly\r\n",
        "        a.append(False)\r\n",
        "\r\n",
        "a"
      ],
      "execution_count": 8,
      "outputs": [
        {
          "output_type": "execute_result",
          "data": {
            "text/plain": [
              "[True, False, True, False, True, False, True, False, True, False]"
            ]
          },
          "metadata": {
            "tags": []
          },
          "execution_count": 8
        }
      ]
    },
    {
      "cell_type": "markdown",
      "metadata": {
        "id": "Z8ZUqPSbFqiH"
      },
      "source": [
        "https://stackoverflow.com/questions/4260280/if-else-in-a-list-comprehension"
      ]
    },
    {
      "cell_type": "code",
      "metadata": {
        "colab": {
          "base_uri": "https://localhost:8080/"
        },
        "id": "wixkllvUARxG",
        "outputId": "18005c5d-fcc9-412f-d279-f88eb1221e68"
      },
      "source": [
        "a = [True if i % 2 == 0 else False for i in range(10)]\r\n",
        "#    result > condition > alternative > what's going on \r\n",
        "a"
      ],
      "execution_count": 11,
      "outputs": [
        {
          "output_type": "execute_result",
          "data": {
            "text/plain": [
              "[True, False, True, False, True, False, True, False, True, False]"
            ]
          },
          "metadata": {
            "tags": []
          },
          "execution_count": 11
        }
      ]
    },
    {
      "cell_type": "code",
      "metadata": {
        "colab": {
          "base_uri": "https://localhost:8080/"
        },
        "id": "GRMuNhY7FTTp",
        "outputId": "9c9d9fbb-f2e3-4c7a-ea75-fff0a1df98aa"
      },
      "source": [
        "[letter if letter in 'abc' else False for letter in 'dbvfaasdvf']"
      ],
      "execution_count": 12,
      "outputs": [
        {
          "output_type": "execute_result",
          "data": {
            "text/plain": [
              "[False, 'b', False, False, 'a', 'a', False, False, False, False]"
            ]
          },
          "metadata": {
            "tags": []
          },
          "execution_count": 12
        }
      ]
    },
    {
      "cell_type": "markdown",
      "metadata": {
        "id": "Z5C4eCRYGsdH"
      },
      "source": [
        "#### Multiple For Loops in List Comprehension\r\n",
        "https://stackoverflow.com/questions/32530840/order-of-for-statements-in-a-list-comprehension"
      ]
    },
    {
      "cell_type": "code",
      "metadata": {
        "colab": {
          "base_uri": "https://localhost:8080/"
        },
        "id": "RK9IKl9wHOwm",
        "outputId": "a40a32a5-8c57-4776-d64c-eeeeccf2de09"
      },
      "source": [
        "out = []\r\n",
        "\r\n",
        "for x in ['b', 'c']:\r\n",
        "    for i in ['a', x]:\r\n",
        "        out.append(i)  # added to the final list\r\n",
        "\r\n",
        "out"
      ],
      "execution_count": 15,
      "outputs": [
        {
          "output_type": "execute_result",
          "data": {
            "text/plain": [
              "['a', 'b', 'a', 'c']"
            ]
          },
          "metadata": {
            "tags": []
          },
          "execution_count": 15
        }
      ]
    },
    {
      "cell_type": "code",
      "metadata": {
        "colab": {
          "base_uri": "https://localhost:8080/"
        },
        "id": "3sfyIfthHKnd",
        "outputId": "26e40dc4-b24b-469e-abfd-f39dc055bd62"
      },
      "source": [
        "[i for x in ['b', 'c'] for i in ['a', x]]"
      ],
      "execution_count": 14,
      "outputs": [
        {
          "output_type": "execute_result",
          "data": {
            "text/plain": [
              "['a', 'b', 'a', 'c']"
            ]
          },
          "metadata": {
            "tags": []
          },
          "execution_count": 14
        }
      ]
    },
    {
      "cell_type": "code",
      "metadata": {
        "colab": {
          "base_uri": "https://localhost:8080/"
        },
        "id": "i5_8fEr5H84H",
        "outputId": "6dd955b0-3910-4d2a-ff88-70840a82b72b"
      },
      "source": [
        "# don't get lost in the sauce.. what's this doing? idk\r\n",
        "[a for b in [i for i in range(2)] for c in [0, 'a']]"
      ],
      "execution_count": 20,
      "outputs": [
        {
          "output_type": "execute_result",
          "data": {
            "text/plain": [
              "[[True, False, True, False, True, False, True, False, True, False],\n",
              " [True, False, True, False, True, False, True, False, True, False],\n",
              " [True, False, True, False, True, False, True, False, True, False],\n",
              " [True, False, True, False, True, False, True, False, True, False]]"
            ]
          },
          "metadata": {
            "tags": []
          },
          "execution_count": 20
        }
      ]
    }
  ]
}