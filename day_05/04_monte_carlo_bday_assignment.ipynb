{
  "nbformat": 4,
  "nbformat_minor": 0,
  "metadata": {
    "colab": {
      "name": "05_monte_carlo_bday.ipynb",
      "provenance": [],
      "include_colab_link": true
    },
    "kernelspec": {
      "name": "python3",
      "display_name": "Python 3"
    }
  },
  "cells": [
    {
      "cell_type": "markdown",
      "metadata": {
        "id": "view-in-github",
        "colab_type": "text"
      },
      "source": [
        "<a href=\"https://colab.research.google.com/github/gumdropsteve/intro_to_python/blob/day_05/day_05/04_monte_carlo_bday_assignment.ipynb\" target=\"_parent\"><img src=\"https://colab.research.google.com/assets/colab-badge.svg\" alt=\"Open In Colab\"/></a>"
      ]
    },
    {
      "cell_type": "markdown",
      "metadata": {
        "id": "rnj0wuNtHt8E"
      },
      "source": [
        "##Project P5\n",
        "\n",
        "**There is a famous problem in statistics that concerns a room full of people: Same Birthday!**\n",
        "\n",
        "An instructor offers a prize of $20.00 to anyone who thinks that two people in the room have the same birthday.\n",
        "\n",
        "Your assignment is to build a Monte Carlo simulation to tell the instructor how many people need to be in the room to give him/her a better than 50% chance of winning the $20.\n",
        "\n",
        "That is to say how many people need to be in a room in order for the probability of two of them having the same birthday is greater than 50%. Do the same for 95% and 99%."
      ]
    },
    {
      "cell_type": "code",
      "metadata": {
        "id": "yrzJvKsEHhda"
      },
      "source": [
        "import numpy as np"
      ],
      "execution_count": null,
      "outputs": []
    },
    {
      "cell_type": "code",
      "metadata": {
        "id": "Og5IlcBIH-J0"
      },
      "source": [
        "# Create funtion to run simulations"
      ],
      "execution_count": null,
      "outputs": []
    },
    {
      "cell_type": "code",
      "metadata": {
        "id": "sfvmgj26IA6o"
      },
      "source": [
        "# Run simulations"
      ],
      "execution_count": null,
      "outputs": []
    },
    {
      "cell_type": "code",
      "metadata": {
        "id": "lzPJHmdaICpW"
      },
      "source": [
        "# Communicate results"
      ],
      "execution_count": null,
      "outputs": []
    }
  ]
}