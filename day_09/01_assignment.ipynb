{
  "nbformat": 4,
  "nbformat_minor": 0,
  "metadata": {
    "kernelspec": {
      "display_name": "Python 3",
      "language": "python",
      "name": "python3"
    },
    "language_info": {
      "codemirror_mode": {
        "name": "ipython",
        "version": 3
      },
      "file_extension": ".py",
      "mimetype": "text/x-python",
      "name": "python",
      "nbconvert_exporter": "python",
      "pygments_lexer": "ipython3",
      "version": "3.5.6"
    },
    "colab": {
      "name": "01_assignment.ipynb",
      "provenance": [],
      "include_colab_link": true
    }
  },
  "cells": [
    {
      "cell_type": "markdown",
      "metadata": {
        "id": "view-in-github",
        "colab_type": "text"
      },
      "source": [
        "<a href=\"https://colab.research.google.com/github/gumdropsteve/intro_to_python/blob/main/day_09/01_assignment.ipynb\" target=\"_parent\"><img src=\"https://colab.research.google.com/assets/colab-badge.svg\" alt=\"Open In Colab\"/></a>"
      ]
    },
    {
      "cell_type": "markdown",
      "metadata": {
        "id": "E1tXHvO3VPk7"
      },
      "source": [
        "### In each cell complete the task using pandas"
      ]
    },
    {
      "cell_type": "code",
      "metadata": {
        "id": "3qf00GG8VPl3"
      },
      "source": [
        "import pandas as pd\n",
        "import numpy as np"
      ],
      "execution_count": null,
      "outputs": []
    },
    {
      "cell_type": "markdown",
      "metadata": {
        "id": "Zxd1G9WlVPl5"
      },
      "source": [
        "Read in the titanic.csv file in the `~/data` directory as a pandas dataframe called **df**"
      ]
    },
    {
      "cell_type": "code",
      "metadata": {
        "id": "7KPANtFIVPl8"
      },
      "source": [
        ""
      ],
      "execution_count": null,
      "outputs": []
    },
    {
      "cell_type": "markdown",
      "metadata": {
        "id": "4K26BrMOVPmG"
      },
      "source": [
        "Display the head of the dataframe"
      ]
    },
    {
      "cell_type": "code",
      "metadata": {
        "id": "0RT4iE8JVPmH"
      },
      "source": [
        ""
      ],
      "execution_count": null,
      "outputs": []
    },
    {
      "cell_type": "markdown",
      "metadata": {
        "id": "5m5219zDVPmI"
      },
      "source": [
        "What is the percentage of people who survived? (hint find the mean of the survival column)"
      ]
    },
    {
      "cell_type": "code",
      "metadata": {
        "id": "6pRaLCFjVPmO"
      },
      "source": [
        ""
      ],
      "execution_count": null,
      "outputs": []
    },
    {
      "cell_type": "markdown",
      "metadata": {
        "id": "CRIRsColVPmP"
      },
      "source": [
        "How many women and how many men survived?"
      ]
    },
    {
      "cell_type": "code",
      "metadata": {
        "id": "XV3244zHVPmQ"
      },
      "source": [
        ""
      ],
      "execution_count": null,
      "outputs": []
    },
    {
      "cell_type": "markdown",
      "metadata": {
        "id": "OhwuXGsoVPmT"
      },
      "source": [
        "What is the percentage of people that survied who paid a fare less than 10?"
      ]
    },
    {
      "cell_type": "code",
      "metadata": {
        "id": "VYW7oYAtVPmU"
      },
      "source": [
        ""
      ],
      "execution_count": null,
      "outputs": []
    },
    {
      "cell_type": "markdown",
      "metadata": {
        "id": "X_qxOiZJVPmU"
      },
      "source": [
        "What is the average age of those who didn't survive?"
      ]
    },
    {
      "cell_type": "code",
      "metadata": {
        "id": "SyGn-ajpVPmW"
      },
      "source": [
        ""
      ],
      "execution_count": null,
      "outputs": []
    },
    {
      "cell_type": "markdown",
      "metadata": {
        "id": "IlgBWXgmVPmW"
      },
      "source": [
        "What is the average age of those who did survive?"
      ]
    },
    {
      "cell_type": "code",
      "metadata": {
        "id": "p-xplqoLVPmX"
      },
      "source": [
        ""
      ],
      "execution_count": null,
      "outputs": []
    },
    {
      "cell_type": "markdown",
      "metadata": {
        "id": "iRHMX7OOVPma"
      },
      "source": [
        "What is the average age of those who did and didn't survive grouped by gender?"
      ]
    },
    {
      "cell_type": "code",
      "metadata": {
        "id": "87JigNheVPma"
      },
      "source": [
        ""
      ],
      "execution_count": null,
      "outputs": []
    },
    {
      "cell_type": "markdown",
      "metadata": {
        "id": "ENrm_Js4VPm6"
      },
      "source": [
        "## Tidy GDP"
      ]
    },
    {
      "cell_type": "markdown",
      "metadata": {
        "id": "HiUkGFVaVPm7"
      },
      "source": [
        "Manipulate the GDP.csv file and make it tidy, the result should be a pandas dataframe with the following columns:\n",
        "* Country Name\n",
        "* Country Code\n",
        "* Year\n",
        "* GDP"
      ]
    },
    {
      "cell_type": "code",
      "metadata": {
        "id": "t2JQU8bxVPm-"
      },
      "source": [
        ""
      ],
      "execution_count": null,
      "outputs": []
    }
  ]
}