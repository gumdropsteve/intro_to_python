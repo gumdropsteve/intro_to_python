{
  "nbformat": 4,
  "nbformat_minor": 0,
  "metadata": {
    "colab": {
      "name": "01_numpy_linear_algebra.ipynb",
      "provenance": [],
      "authorship_tag": "ABX9TyMJpBGJ5YGCumQmZs7tBgCV",
      "include_colab_link": true
    },
    "kernelspec": {
      "name": "python3",
      "display_name": "Python 3"
    }
  },
  "cells": [
    {
      "cell_type": "markdown",
      "metadata": {
        "id": "view-in-github",
        "colab_type": "text"
      },
      "source": [
        "<a href=\"https://colab.research.google.com/github/gumdropsteve/intro_to_python/blob/main/day_04/01_numpy_linear_algebra.ipynb\" target=\"_parent\"><img src=\"https://colab.research.google.com/assets/colab-badge.svg\" alt=\"Open In Colab\"/></a>"
      ]
    },
    {
      "cell_type": "code",
      "metadata": {
        "id": "TLbxSC5y9stQ"
      },
      "source": [
        "import numpy as np"
      ],
      "execution_count": 9,
      "outputs": []
    },
    {
      "cell_type": "code",
      "metadata": {
        "colab": {
          "base_uri": "https://localhost:8080/"
        },
        "id": "x65oi3tO-gcN",
        "outputId": "b39c9a70-1c2f-4210-c62c-4e703c87bb13"
      },
      "source": [
        "np.random"
      ],
      "execution_count": 10,
      "outputs": [
        {
          "output_type": "execute_result",
          "data": {
            "text/plain": [
              "<module 'numpy.random' from '/usr/local/lib/python3.6/dist-packages/numpy/random/__init__.py'>"
            ]
          },
          "metadata": {
            "tags": []
          },
          "execution_count": 10
        }
      ]
    },
    {
      "cell_type": "code",
      "metadata": {
        "colab": {
          "base_uri": "https://localhost:8080/"
        },
        "id": "swsqtIp_-4LN",
        "outputId": "db80dda4-d649-4b50-87f5-4f25580be65a"
      },
      "source": [
        "# random array 3x3\r\n",
        "np.random.rand(3, 3)"
      ],
      "execution_count": 11,
      "outputs": [
        {
          "output_type": "execute_result",
          "data": {
            "text/plain": [
              "array([[0.89357444, 0.68223078, 0.90056958],\n",
              "       [0.61821118, 0.18866134, 0.02322307],\n",
              "       [0.59293357, 0.52425738, 0.09050618]])"
            ]
          },
          "metadata": {
            "tags": []
          },
          "execution_count": 11
        }
      ]
    },
    {
      "cell_type": "code",
      "metadata": {
        "colab": {
          "base_uri": "https://localhost:8080/"
        },
        "id": "J23ZEel4-mWs",
        "outputId": "ca7dd824-1a09-4af1-922d-600eef3ce6e8"
      },
      "source": [
        "np.random.rand(3, 3).shape"
      ],
      "execution_count": 12,
      "outputs": [
        {
          "output_type": "execute_result",
          "data": {
            "text/plain": [
              "(3, 3)"
            ]
          },
          "metadata": {
            "tags": []
          },
          "execution_count": 12
        }
      ]
    },
    {
      "cell_type": "code",
      "metadata": {
        "colab": {
          "base_uri": "https://localhost:8080/"
        },
        "id": "qGcFfJG-_JBE",
        "outputId": "a7986eaf-c5bb-4748-e525-7e26de73246e"
      },
      "source": [
        "np.random.rand(3, 3).size"
      ],
      "execution_count": 13,
      "outputs": [
        {
          "output_type": "execute_result",
          "data": {
            "text/plain": [
              "9"
            ]
          },
          "metadata": {
            "tags": []
          },
          "execution_count": 13
        }
      ]
    },
    {
      "cell_type": "code",
      "metadata": {
        "colab": {
          "base_uri": "https://localhost:8080/"
        },
        "id": "LSV11Ee0_LUS",
        "outputId": "0a05a467-8c00-4eb5-8224-f9d987453509"
      },
      "source": [
        "np.random.randint(4, 10, (3))"
      ],
      "execution_count": 33,
      "outputs": [
        {
          "output_type": "execute_result",
          "data": {
            "text/plain": [
              "array([7, 9, 4])"
            ]
          },
          "metadata": {
            "tags": []
          },
          "execution_count": 33
        }
      ]
    },
    {
      "cell_type": "code",
      "metadata": {
        "colab": {
          "base_uri": "https://localhost:8080/"
        },
        "id": "XOOWdkbJ_hqr",
        "outputId": "985343a9-5b4a-490d-f382-84d7c9dd2331"
      },
      "source": [
        "a = np.random.rand(3, 3)\r\n",
        "\r\n",
        "b = np.random.randint(4, 10, (3))\r\n",
        "\r\n",
        "a * b"
      ],
      "execution_count": 82,
      "outputs": [
        {
          "output_type": "execute_result",
          "data": {
            "text/plain": [
              "array([[2.72161968, 2.82252525, 2.20245098],\n",
              "       [0.3143866 , 5.98382915, 3.35964078],\n",
              "       [1.37356232, 5.10890076, 3.74621384]])"
            ]
          },
          "metadata": {
            "tags": []
          },
          "execution_count": 82
        }
      ]
    },
    {
      "cell_type": "markdown",
      "metadata": {
        "id": "0bLe975hBe6F"
      },
      "source": [
        "## Matrix Multiplication with Numpy"
      ]
    },
    {
      "cell_type": "code",
      "metadata": {
        "colab": {
          "base_uri": "https://localhost:8080/"
        },
        "id": "XdledL19AFgt",
        "outputId": "e549d96f-ac07-4b24-db87-fbdc661c4769"
      },
      "source": [
        "a = np.matrix(np.random.rand(3, 3))\r\n",
        "\r\n",
        "a"
      ],
      "execution_count": 85,
      "outputs": [
        {
          "output_type": "execute_result",
          "data": {
            "text/plain": [
              "matrix([[0.80436609, 0.50589295, 0.08563389],\n",
              "        [0.07043579, 0.24028082, 0.17489134],\n",
              "        [0.48508186, 0.55265002, 0.51160052]])"
            ]
          },
          "metadata": {
            "tags": []
          },
          "execution_count": 85
        }
      ]
    },
    {
      "cell_type": "code",
      "metadata": {
        "colab": {
          "base_uri": "https://localhost:8080/"
        },
        "id": "oAdgxPmXBREj",
        "outputId": "cff52a08-3c63-4288-df5e-1a46becf5f8d"
      },
      "source": [
        "b = np.matrix(np.random.rand(3, 1))\r\n",
        "\r\n",
        "b"
      ],
      "execution_count": 86,
      "outputs": [
        {
          "output_type": "execute_result",
          "data": {
            "text/plain": [
              "matrix([[0.81300779],\n",
              "        [0.54448784],\n",
              "        [0.90595459]])"
            ]
          },
          "metadata": {
            "tags": []
          },
          "execution_count": 86
        }
      ]
    },
    {
      "cell_type": "code",
      "metadata": {
        "colab": {
          "base_uri": "https://localhost:8080/"
        },
        "id": "KIhhbEhaBZAj",
        "outputId": "083739ad-794e-42cb-a5f5-369cfa6e8ebb"
      },
      "source": [
        "a * b"
      ],
      "execution_count": 87,
      "outputs": [
        {
          "output_type": "execute_result",
          "data": {
            "text/plain": [
              "matrix([[1.00698887],\n",
              "        [0.34653844],\n",
              "        [1.15877339]])"
            ]
          },
          "metadata": {
            "tags": []
          },
          "execution_count": 87
        }
      ]
    },
    {
      "cell_type": "code",
      "metadata": {
        "colab": {
          "base_uri": "https://localhost:8080/"
        },
        "id": "y3TqUDBMBZ3K",
        "outputId": "c5a48c72-2fb2-4211-ef40-b4eb7d9d3444"
      },
      "source": [
        "c = [np.random.rand(3, 1) for i in range(10)]\r\n",
        "\r\n",
        "c = np.array(c)\r\n",
        "\r\n",
        "c = np.matrix(c)  # note: matrix must be 2D\r\n",
        "\r\n",
        "c.shape"
      ],
      "execution_count": 124,
      "outputs": [
        {
          "output_type": "execute_result",
          "data": {
            "text/plain": [
              "(10, 3)"
            ]
          },
          "metadata": {
            "tags": []
          },
          "execution_count": 124
        }
      ]
    },
    {
      "cell_type": "code",
      "metadata": {
        "colab": {
          "base_uri": "https://localhost:8080/"
        },
        "id": "jmXOwNZNMDmw",
        "outputId": "e8bbee5b-2dab-4e6d-fbe6-3137c7677a7f"
      },
      "source": [
        "c.shape"
      ],
      "execution_count": 125,
      "outputs": [
        {
          "output_type": "execute_result",
          "data": {
            "text/plain": [
              "(10, 3)"
            ]
          },
          "metadata": {
            "tags": []
          },
          "execution_count": 125
        }
      ]
    },
    {
      "cell_type": "code",
      "metadata": {
        "colab": {
          "base_uri": "https://localhost:8080/"
        },
        "id": "-ge3LeEjMFK3",
        "outputId": "e2afe229-49b5-4063-e4f4-bbf1f4c5c986"
      },
      "source": [
        "d = np.matrix([[i for i in range(10)] for i in range(3)])\r\n",
        "\r\n",
        "d.shape"
      ],
      "execution_count": 126,
      "outputs": [
        {
          "output_type": "execute_result",
          "data": {
            "text/plain": [
              "(3, 10)"
            ]
          },
          "metadata": {
            "tags": []
          },
          "execution_count": 126
        }
      ]
    },
    {
      "cell_type": "code",
      "metadata": {
        "colab": {
          "base_uri": "https://localhost:8080/"
        },
        "id": "cd3xKpoYNOoR",
        "outputId": "e70a7a76-b626-4719-c024-d487b38d6f0f"
      },
      "source": [
        "c*d"
      ],
      "execution_count": 127,
      "outputs": [
        {
          "output_type": "execute_result",
          "data": {
            "text/plain": [
              "matrix([[ 0.        ,  1.89396809,  3.78793618,  5.68190426,  7.57587235,\n",
              "          9.46984044, 11.36380853, 13.25777662, 15.1517447 , 17.04571279],\n",
              "        [ 0.        ,  2.3009145 ,  4.601829  ,  6.9027435 ,  9.203658  ,\n",
              "         11.5045725 , 13.805487  , 16.1064015 , 18.407316  , 20.7082305 ],\n",
              "        [ 0.        ,  1.75764858,  3.51529717,  5.27294575,  7.03059433,\n",
              "          8.78824291, 10.5458915 , 12.30354008, 14.06118866, 15.81883724],\n",
              "        [ 0.        ,  1.65549006,  3.31098012,  4.96647018,  6.62196024,\n",
              "          8.2774503 ,  9.93294036, 11.58843042, 13.24392048, 14.89941054],\n",
              "        [ 0.        ,  2.40590581,  4.81181163,  7.21771744,  9.62362326,\n",
              "         12.02952907, 14.43543489, 16.8413407 , 19.24724652, 21.65315233],\n",
              "        [ 0.        ,  2.31119236,  4.62238472,  6.93357708,  9.24476944,\n",
              "         11.5559618 , 13.86715416, 16.17834652, 18.48953888, 20.80073124],\n",
              "        [ 0.        ,  0.78781259,  1.57562517,  2.36343776,  3.15125034,\n",
              "          3.93906293,  4.72687552,  5.5146881 ,  6.30250069,  7.09031327],\n",
              "        [ 0.        ,  1.28805713,  2.57611426,  3.86417139,  5.15222852,\n",
              "          6.44028565,  7.72834278,  9.0163999 , 10.30445703, 11.59251416],\n",
              "        [ 0.        ,  1.81987696,  3.63975391,  5.45963087,  7.27950783,\n",
              "          9.09938478, 10.91926174, 12.73913869, 14.55901565, 16.37889261],\n",
              "        [ 0.        ,  1.43625715,  2.8725143 ,  4.30877146,  5.74502861,\n",
              "          7.18128576,  8.61754291, 10.05380006, 11.49005722, 12.92631437]])"
            ]
          },
          "metadata": {
            "tags": []
          },
          "execution_count": 127
        }
      ]
    },
    {
      "cell_type": "code",
      "metadata": {
        "colab": {
          "base_uri": "https://localhost:8080/"
        },
        "id": "NxddLq0bMXWM",
        "outputId": "6399a3e7-6a9c-4788-b469-d7adaea93df7"
      },
      "source": [
        "d"
      ],
      "execution_count": 128,
      "outputs": [
        {
          "output_type": "execute_result",
          "data": {
            "text/plain": [
              "matrix([[0, 1, 2, 3, 4, 5, 6, 7, 8, 9],\n",
              "        [0, 1, 2, 3, 4, 5, 6, 7, 8, 9],\n",
              "        [0, 1, 2, 3, 4, 5, 6, 7, 8, 9]])"
            ]
          },
          "metadata": {
            "tags": []
          },
          "execution_count": 128
        }
      ]
    },
    {
      "cell_type": "markdown",
      "metadata": {
        "id": "igowkdYIMZRj"
      },
      "source": [
        "Aside on list comprehension."
      ]
    },
    {
      "cell_type": "code",
      "metadata": {
        "colab": {
          "base_uri": "https://localhost:8080/"
        },
        "id": "ypFJBSXkMbTi",
        "outputId": "e2bcf542-2017-4973-a207-a74f0a705d47"
      },
      "source": [
        "l = []\r\n",
        "\r\n",
        "for i in range(10):\r\n",
        "    l.append(i)\r\n",
        "\r\n",
        "l"
      ],
      "execution_count": 103,
      "outputs": [
        {
          "output_type": "execute_result",
          "data": {
            "text/plain": [
              "[0, 1, 2, 3, 4, 5, 6, 7, 8, 9]"
            ]
          },
          "metadata": {
            "tags": []
          },
          "execution_count": 103
        }
      ]
    },
    {
      "cell_type": "code",
      "metadata": {
        "colab": {
          "base_uri": "https://localhost:8080/"
        },
        "id": "epwQ_O9NMbYD",
        "outputId": "7dd538ec-77ab-462a-f30b-d2855514713d"
      },
      "source": [
        "l = [i for i in range(10)]\r\n",
        "\r\n",
        "l"
      ],
      "execution_count": 105,
      "outputs": [
        {
          "output_type": "execute_result",
          "data": {
            "text/plain": [
              "[0, 1, 2, 3, 4, 5, 6, 7, 8, 9]"
            ]
          },
          "metadata": {
            "tags": []
          },
          "execution_count": 105
        }
      ]
    },
    {
      "cell_type": "markdown",
      "metadata": {
        "id": "aiC2LO0LCtpw"
      },
      "source": [
        "### Computation on NumPy Arrays"
      ]
    },
    {
      "cell_type": "code",
      "metadata": {
        "colab": {
          "base_uri": "https://localhost:8080/"
        },
        "id": "A9yQ96A7C_Q7",
        "outputId": "27a6626e-1ba7-4d34-f6b6-f722bfa6868e"
      },
      "source": [
        "w = np.random.randint(1, 10, size=(2, 3))\r\n",
        "w"
      ],
      "execution_count": 130,
      "outputs": [
        {
          "output_type": "execute_result",
          "data": {
            "text/plain": [
              "array([[2, 6, 4],\n",
              "       [3, 3, 9]])"
            ]
          },
          "metadata": {
            "tags": []
          },
          "execution_count": 130
        }
      ]
    },
    {
      "cell_type": "code",
      "metadata": {
        "colab": {
          "base_uri": "https://localhost:8080/"
        },
        "id": "c0cF5FReC_UE",
        "outputId": "30629ed3-7cb5-48ed-dbfe-f41610ee3e4c"
      },
      "source": [
        "np.add.reduce(w)"
      ],
      "execution_count": 131,
      "outputs": [
        {
          "output_type": "execute_result",
          "data": {
            "text/plain": [
              "array([ 5,  9, 13])"
            ]
          },
          "metadata": {
            "tags": []
          },
          "execution_count": 131
        }
      ]
    },
    {
      "cell_type": "code",
      "metadata": {
        "colab": {
          "base_uri": "https://localhost:8080/"
        },
        "id": "m6sDL1IgDVok",
        "outputId": "1b32f88c-beae-4b59-b948-7a28d90d036c"
      },
      "source": [
        "np.multiply.reduce(w)"
      ],
      "execution_count": 132,
      "outputs": [
        {
          "output_type": "execute_result",
          "data": {
            "text/plain": [
              "array([ 6, 18, 36])"
            ]
          },
          "metadata": {
            "tags": []
          },
          "execution_count": 132
        }
      ]
    },
    {
      "cell_type": "code",
      "metadata": {
        "colab": {
          "base_uri": "https://localhost:8080/"
        },
        "id": "q2jcI51yE0Vu",
        "outputId": "49ee1839-801f-4cbe-cc1c-4467dee1fb5b"
      },
      "source": [
        "w * 5"
      ],
      "execution_count": 133,
      "outputs": [
        {
          "output_type": "execute_result",
          "data": {
            "text/plain": [
              "array([[10, 30, 20],\n",
              "       [15, 15, 45]])"
            ]
          },
          "metadata": {
            "tags": []
          },
          "execution_count": 133
        }
      ]
    },
    {
      "cell_type": "code",
      "metadata": {
        "colab": {
          "base_uri": "https://localhost:8080/"
        },
        "id": "4fI3ubY7E1tg",
        "outputId": "a1e867bd-8a0c-4077-fe84-6736365e8e21"
      },
      "source": [
        "w ** 5"
      ],
      "execution_count": 134,
      "outputs": [
        {
          "output_type": "execute_result",
          "data": {
            "text/plain": [
              "array([[   32,  7776,  1024],\n",
              "       [  243,   243, 59049]])"
            ]
          },
          "metadata": {
            "tags": []
          },
          "execution_count": 134
        }
      ]
    },
    {
      "cell_type": "code",
      "metadata": {
        "colab": {
          "base_uri": "https://localhost:8080/"
        },
        "id": "in8QLfSpE49S",
        "outputId": "7db82705-6cec-4c90-bba2-486d47413ed7"
      },
      "source": [
        "w // 5"
      ],
      "execution_count": 137,
      "outputs": [
        {
          "output_type": "execute_result",
          "data": {
            "text/plain": [
              "array([[0, 1, 0],\n",
              "       [0, 0, 1]])"
            ]
          },
          "metadata": {
            "tags": []
          },
          "execution_count": 137
        }
      ]
    },
    {
      "cell_type": "code",
      "metadata": {
        "colab": {
          "base_uri": "https://localhost:8080/"
        },
        "id": "EG3qdiFSE8lE",
        "outputId": "ec1dee40-d023-4d63-ae65-af7f6d07e538"
      },
      "source": [
        "w ** 5 // 5"
      ],
      "execution_count": 138,
      "outputs": [
        {
          "output_type": "execute_result",
          "data": {
            "text/plain": [
              "array([[    6,  1555,   204],\n",
              "       [   48,    48, 11809]])"
            ]
          },
          "metadata": {
            "tags": []
          },
          "execution_count": 138
        }
      ]
    },
    {
      "cell_type": "code",
      "metadata": {
        "colab": {
          "base_uri": "https://localhost:8080/"
        },
        "id": "FYyNcaVNFCFG",
        "outputId": "e4a378c5-4c26-4dde-c5de-4114d739bc49"
      },
      "source": [
        "w + 0.001"
      ],
      "execution_count": 139,
      "outputs": [
        {
          "output_type": "execute_result",
          "data": {
            "text/plain": [
              "array([[2.001, 6.001, 4.001],\n",
              "       [3.001, 3.001, 9.001]])"
            ]
          },
          "metadata": {
            "tags": []
          },
          "execution_count": 139
        }
      ]
    },
    {
      "cell_type": "markdown",
      "metadata": {
        "id": "av-aDUcCDnx5"
      },
      "source": [
        "### Compairsons "
      ]
    },
    {
      "cell_type": "code",
      "metadata": {
        "colab": {
          "base_uri": "https://localhost:8080/"
        },
        "id": "PUEl53C4Cooj",
        "outputId": "64ae1b56-a23c-4ca1-e252-2462d6b50bea"
      },
      "source": [
        "np.random.rand(3, 3) > np.random.rand(3, 3)"
      ],
      "execution_count": 142,
      "outputs": [
        {
          "output_type": "execute_result",
          "data": {
            "text/plain": [
              "array([[False, False,  True],\n",
              "       [ True,  True,  True],\n",
              "       [False,  True,  True]])"
            ]
          },
          "metadata": {
            "tags": []
          },
          "execution_count": 142
        }
      ]
    },
    {
      "cell_type": "code",
      "metadata": {
        "colab": {
          "base_uri": "https://localhost:8080/"
        },
        "id": "jZIruabODnIq",
        "outputId": "d61e3c26-599a-4e41-b969-842c0138c78a"
      },
      "source": [
        "np.random.rand(3, 3) <= np.random.rand(3, 3)"
      ],
      "execution_count": 143,
      "outputs": [
        {
          "output_type": "execute_result",
          "data": {
            "text/plain": [
              "array([[False, False,  True],\n",
              "       [ True,  True,  True],\n",
              "       [False,  True, False]])"
            ]
          },
          "metadata": {
            "tags": []
          },
          "execution_count": 143
        }
      ]
    },
    {
      "cell_type": "code",
      "metadata": {
        "colab": {
          "base_uri": "https://localhost:8080/"
        },
        "id": "DTrDiNKUDrn7",
        "outputId": "fa55f4b3-1df2-4f8b-fb47-ddaf005a8b98"
      },
      "source": [
        "np.random.rand(3, 3) != np.random.rand(3, 3)"
      ],
      "execution_count": 144,
      "outputs": [
        {
          "output_type": "execute_result",
          "data": {
            "text/plain": [
              "array([[ True,  True,  True],\n",
              "       [ True,  True,  True],\n",
              "       [ True,  True,  True]])"
            ]
          },
          "metadata": {
            "tags": []
          },
          "execution_count": 144
        }
      ]
    },
    {
      "cell_type": "code",
      "metadata": {
        "colab": {
          "base_uri": "https://localhost:8080/"
        },
        "id": "IVkCpZl4DtbD",
        "outputId": "8169962a-5b9d-452e-e0ff-5efe84814af2"
      },
      "source": [
        "np.random.rand(3, 3) == np.random.rand(3, 3)"
      ],
      "execution_count": 145,
      "outputs": [
        {
          "output_type": "execute_result",
          "data": {
            "text/plain": [
              "array([[False, False, False],\n",
              "       [False, False, False],\n",
              "       [False, False, False]])"
            ]
          },
          "metadata": {
            "tags": []
          },
          "execution_count": 145
        }
      ]
    },
    {
      "cell_type": "code",
      "metadata": {
        "colab": {
          "base_uri": "https://localhost:8080/"
        },
        "id": "CWILpHBwDu6S",
        "outputId": "5fd98703-41fd-4cf7-a182-0c191a7efe03"
      },
      "source": [
        "# reduce possible outcomes to integers 1 & 2\r\n",
        "np.random.randint(1, 3, size=(3, 3)) == np.random.randint(1, 3, size=(3, 3))"
      ],
      "execution_count": 150,
      "outputs": [
        {
          "output_type": "execute_result",
          "data": {
            "text/plain": [
              "array([[ True,  True,  True],\n",
              "       [ True,  True,  True],\n",
              "       [ True,  True,  True]])"
            ]
          },
          "metadata": {
            "tags": []
          },
          "execution_count": 150
        }
      ]
    },
    {
      "cell_type": "code",
      "metadata": {
        "colab": {
          "base_uri": "https://localhost:8080/"
        },
        "id": "0VuxO73gD14b",
        "outputId": "9999c009-ff3f-4583-c4bc-7f6c2e7e5a30"
      },
      "source": [
        "np.random.randint(1, 3, size=(3, 3))"
      ],
      "execution_count": 146,
      "outputs": [
        {
          "output_type": "execute_result",
          "data": {
            "text/plain": [
              "array([[1, 2, 2],\n",
              "       [1, 1, 2],\n",
              "       [1, 1, 2]])"
            ]
          },
          "metadata": {
            "tags": []
          },
          "execution_count": 146
        }
      ]
    },
    {
      "cell_type": "code",
      "metadata": {
        "colab": {
          "base_uri": "https://localhost:8080/"
        },
        "id": "Rt0KRSCuO0wx",
        "outputId": "5d373587-74c1-4a5e-ae1d-b22604538dc4"
      },
      "source": [
        "# about 50%?\r\n",
        "outcomes = []\r\n",
        "\r\n",
        "for _ in range(1000):\r\n",
        "    score = np.sum(np.random.randint(1, 3, size=(3, 3)) == np.random.randint(1, 3, size=(3, 3)))\r\n",
        "    outcomes.append(score)\r\n",
        "\r\n",
        "\r\n",
        "# np.mean(outcomes) / 9  # take mean of list\r\n",
        "np.mean(np.array(outcomes)) / 9  # take mean of array"
      ],
      "execution_count": 162,
      "outputs": [
        {
          "output_type": "execute_result",
          "data": {
            "text/plain": [
              "0.5006666666666667"
            ]
          },
          "metadata": {
            "tags": []
          },
          "execution_count": 162
        }
      ]
    },
    {
      "cell_type": "code",
      "metadata": {
        "colab": {
          "base_uri": "https://localhost:8080/"
        },
        "id": "d6Qg5YykO9Kr",
        "outputId": "89e7aa1a-029e-46bc-d291-d9a2f106677d"
      },
      "source": [
        "# exact same thing with list comprehension\r\n",
        "outcomes = [np.sum(np.random.randint(1, 3, size=(3, 3)) == np.random.randint(1, 3, size=(3, 3))) \r\n",
        "            for s in range(1000)]\r\n",
        "\r\n",
        "np.mean(outcomes) / 9"
      ],
      "execution_count": 168,
      "outputs": [
        {
          "output_type": "execute_result",
          "data": {
            "text/plain": [
              "0.4998888888888888"
            ]
          },
          "metadata": {
            "tags": []
          },
          "execution_count": 168
        }
      ]
    }
  ]
}
