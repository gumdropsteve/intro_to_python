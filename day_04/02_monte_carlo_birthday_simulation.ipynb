{
  "nbformat": 4,
  "nbformat_minor": 0,
  "metadata": {
    "kernelspec": {
      "display_name": "Python 3",
      "language": "python",
      "name": "python3"
    },
    "language_info": {
      "codemirror_mode": {
        "name": "ipython",
        "version": 3
      },
      "file_extension": ".py",
      "mimetype": "text/x-python",
      "name": "python",
      "nbconvert_exporter": "python",
      "pygments_lexer": "ipython3",
      "version": "3.7.0"
    },
    "colab": {
      "name": "Copy of Birthday Problem - Monte Carlo Simulation.ipynb",
      "provenance": [],
      "include_colab_link": true
    }
  },
  "cells": [
    {
      "cell_type": "markdown",
      "metadata": {
        "id": "view-in-github",
        "colab_type": "text"
      },
      "source": [
        "<a href=\"https://colab.research.google.com/github/gumdropsteve/intro_to_python/blob/main/day_04/02_monte_carlo_birthday_simulation.ipynb\" target=\"_parent\"><img src=\"https://colab.research.google.com/assets/colab-badge.svg\" alt=\"Open In Colab\"/></a>"
      ]
    },
    {
      "cell_type": "markdown",
      "metadata": {
        "id": "E69zsqfJJZFI"
      },
      "source": [
        "### First let's examine the algorithm for solving this problem\n",
        "\n",
        "    1. Pick a number of random numbers that represent the different days in a range from 1 to 365, if I have 30 people, then I need 30 numbers that represent their birthdays.\n",
        "    2. While \"selecting\" the numbers, check and see if there are any that match. If there is a match, record it.\n",
        "    3. Do the first step a number of times. The more trials that we run, the better or more accurate answer will be produced. We'll call this ntrials."
      ]
    },
    {
      "cell_type": "code",
      "metadata": {
        "id": "SM0oBltxJZFV"
      },
      "source": [
        "import random\n",
        "\n",
        "# set up variables\n",
        "people = 21\n",
        "trials = 10000\n",
        "\n",
        "# set up variable for storing matches\n",
        "matches = 0"
      ],
      "execution_count": null,
      "outputs": []
    },
    {
      "cell_type": "code",
      "metadata": {
        "id": "YPjdoy5EJZFV"
      },
      "source": [
        "# conduct the number of trials\n",
        "for trial in range(trials):\n",
        "    # make a dictionary to hold the outcome (1 for match, 0 for no match)\n",
        "    taken = {}\n",
        "    # give each person a birthday\n",
        "    for person in range(people):\n",
        "        # 365 days in the year\n",
        "        day = random.randint(0, 365)\n",
        "        # if someone else already has this birthday\n",
        "        if day in taken:\n",
        "            # we have a match\n",
        "            matches += 1\n",
        "            # end the trial\n",
        "            break\n",
        "        # show that this day is taken\n",
        "        taken[day] = 1\n",
        "\n",
        "\n",
        "print(\"The fraction of trials that have matching b-days is\", float(matches/trials))"
      ],
      "execution_count": null,
      "outputs": []
    },
    {
      "cell_type": "markdown",
      "metadata": {
        "id": "dOckRlx1V5tU"
      },
      "source": [
        "#### Put that into a loop"
      ]
    },
    {
      "cell_type": "code",
      "metadata": {
        "id": "X3dd6f0fTjf9",
        "colab": {
          "base_uri": "https://localhost:8080/"
        },
        "outputId": "50eb06d2-c030-4fdf-e7c2-9d6593aa92bf"
      },
      "source": [
        "for i in range(10):\r\n",
        "    # set up variables\r\n",
        "    people = 21\r\n",
        "    trials = 10000\r\n",
        "\r\n",
        "    # set up variable for storing matches\r\n",
        "    matches = 0\r\n",
        "\r\n",
        "    # conduct the number of trials\r\n",
        "    for trial in range(trials):\r\n",
        "        # make a dictionary to hold the outcome (1 for match, 0 for no match)\r\n",
        "        taken = {}\r\n",
        "        # give each person a birthday\r\n",
        "        for person in range(people):\r\n",
        "            # 365 days in the year\r\n",
        "            day = random.randint(0, 365)\r\n",
        "            # if someone else already has this birthday\r\n",
        "            if day in taken:\r\n",
        "                # we have a match\r\n",
        "                matches += 1\r\n",
        "                # end the trial\r\n",
        "                break\r\n",
        "            # show that this day is taken\r\n",
        "            taken[day] = 1\r\n",
        "\r\n",
        "\r\n",
        "    print(\"The fraction of trials that have matching b-days is\", float(matches/trials))"
      ],
      "execution_count": null,
      "outputs": [
        {
          "output_type": "stream",
          "text": [
            "The fraction of trials that have matching b-days is 0.4427\n",
            "The fraction of trials that have matching b-days is 0.4423\n",
            "The fraction of trials that have matching b-days is 0.4494\n",
            "The fraction of trials that have matching b-days is 0.4387\n",
            "The fraction of trials that have matching b-days is 0.4443\n",
            "The fraction of trials that have matching b-days is 0.4358\n",
            "The fraction of trials that have matching b-days is 0.4444\n",
            "The fraction of trials that have matching b-days is 0.4356\n",
            "The fraction of trials that have matching b-days is 0.4416\n",
            "The fraction of trials that have matching b-days is 0.4504\n"
          ],
          "name": "stdout"
        }
      ]
    },
    {
      "cell_type": "markdown",
      "metadata": {
        "id": "oMVvGSYmTjtt"
      },
      "source": [
        "# Aside on dictionaries."
      ]
    },
    {
      "cell_type": "code",
      "metadata": {
        "id": "rfB-BwS4ToZb",
        "colab": {
          "base_uri": "https://localhost:8080/"
        },
        "outputId": "7920bfde-9e99-4a3e-e3c3-c5525a384541"
      },
      "source": [
        "d = {}\r\n",
        "\r\n",
        "d"
      ],
      "execution_count": null,
      "outputs": [
        {
          "output_type": "execute_result",
          "data": {
            "text/plain": [
              "{}"
            ]
          },
          "metadata": {
            "tags": []
          },
          "execution_count": 4
        }
      ]
    },
    {
      "cell_type": "code",
      "metadata": {
        "id": "s2GH6KkATocZ",
        "colab": {
          "base_uri": "https://localhost:8080/"
        },
        "outputId": "9c1e0ecd-4635-4950-91dd-81dbff5c4376"
      },
      "source": [
        "# dictionaries hold keys and values\r\n",
        "d['a'] = 5  # key here is 'a', value here is 5\r\n",
        "\r\n",
        "d"
      ],
      "execution_count": null,
      "outputs": [
        {
          "output_type": "execute_result",
          "data": {
            "text/plain": [
              "{'a': 5}"
            ]
          },
          "metadata": {
            "tags": []
          },
          "execution_count": 5
        }
      ]
    },
    {
      "cell_type": "code",
      "metadata": {
        "id": "b5MFflgwT6Ak",
        "colab": {
          "base_uri": "https://localhost:8080/"
        },
        "outputId": "a978e792-dead-4a2d-d56b-d5816507cf6b"
      },
      "source": [
        "d['a']"
      ],
      "execution_count": null,
      "outputs": [
        {
          "output_type": "execute_result",
          "data": {
            "text/plain": [
              "5"
            ]
          },
          "metadata": {
            "tags": []
          },
          "execution_count": 6
        }
      ]
    },
    {
      "cell_type": "code",
      "metadata": {
        "id": "d91J6wknT8Ps",
        "colab": {
          "base_uri": "https://localhost:8080/"
        },
        "outputId": "2d626445-9d6c-4296-f18a-e4fce68789fd"
      },
      "source": [
        "d['b'] = 1\r\n",
        "\r\n",
        "d"
      ],
      "execution_count": null,
      "outputs": [
        {
          "output_type": "execute_result",
          "data": {
            "text/plain": [
              "{'a': 5, 'b': 1}"
            ]
          },
          "metadata": {
            "tags": []
          },
          "execution_count": 7
        }
      ]
    },
    {
      "cell_type": "code",
      "metadata": {
        "id": "yv7lVMGhT8SI",
        "colab": {
          "base_uri": "https://localhost:8080/"
        },
        "outputId": "a069dcfd-6045-464d-8622-d48588284079"
      },
      "source": [
        "# you can use numbers as keys\r\n",
        "d[1] = 2\r\n",
        "\r\n",
        "# even floats\r\n",
        "d[1.1] = 2\r\n",
        "\r\n",
        "d"
      ],
      "execution_count": null,
      "outputs": [
        {
          "output_type": "execute_result",
          "data": {
            "text/plain": [
              "{1: 2, 1.1: 2, 'a': 5, 'b': 1}"
            ]
          },
          "metadata": {
            "tags": []
          },
          "execution_count": 11
        }
      ]
    },
    {
      "cell_type": "code",
      "metadata": {
        "id": "po_kPVjdUMcD",
        "colab": {
          "base_uri": "https://localhost:8080/"
        },
        "outputId": "f75dc74e-334b-4262-e523-c52fdb165594"
      },
      "source": [
        "# update the key's value \r\n",
        "d['b'] = 'a different value'\r\n",
        "\r\n",
        "d"
      ],
      "execution_count": null,
      "outputs": [
        {
          "output_type": "execute_result",
          "data": {
            "text/plain": [
              "{1: 2, 1.1: 2, 'a': 5, 'b': 'a different value'}"
            ]
          },
          "metadata": {
            "tags": []
          },
          "execution_count": 13
        }
      ]
    }
  ]
}
