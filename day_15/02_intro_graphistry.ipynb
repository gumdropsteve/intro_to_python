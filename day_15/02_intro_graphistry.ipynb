{
  "nbformat": 4,
  "nbformat_minor": 0,
  "metadata": {
    "colab": {
      "name": "02_intro_graphistry.ipynb",
      "provenance": [],
      "authorship_tag": "ABX9TyMGWV8Aodly8PKcDUBmzEcE",
      "include_colab_link": true
    },
    "kernelspec": {
      "name": "python3",
      "display_name": "Python 3"
    }
  },
  "cells": [
    {
      "cell_type": "markdown",
      "metadata": {
        "id": "view-in-github",
        "colab_type": "text"
      },
      "source": [
        "<a href=\"https://colab.research.google.com/github/gumdropsteve/intro_to_python/blob/main/day_15/02_intro_graphistry.ipynb\" target=\"_parent\"><img src=\"https://colab.research.google.com/assets/colab-badge.svg\" alt=\"Open In Colab\"/></a>"
      ]
    },
    {
      "cell_type": "markdown",
      "metadata": {
        "id": "d9eUhYKVdarg"
      },
      "source": [
        " # Intro to Graphistry"
      ]
    },
    {
      "cell_type": "code",
      "metadata": {
        "id": "OVWgL4Mybm07"
      },
      "source": [
        "# ! pip install --user graphistry"
      ],
      "execution_count": null,
      "outputs": []
    },
    {
      "cell_type": "code",
      "metadata": {
        "id": "As8iOsjWbozG"
      },
      "source": [
        "import graphistry\r\n",
        "    \r\n",
        "graphistry.register(api=3, protocol=\"https\", server=\"hub.graphistry.com\", \r\n",
        "                    username=\"gumdropsteve\", password=\"\")"
      ],
      "execution_count": null,
      "outputs": []
    },
    {
      "cell_type": "code",
      "metadata": {
        "colab": {
          "base_uri": "https://localhost:8080/",
          "height": 543
        },
        "id": "eZTkpLodbxJF",
        "outputId": "8321e76b-6bca-4636-c223-5e7b50031420"
      },
      "source": [
        "import pandas as pd\r\n",
        "\r\n",
        "g = graphistry.edges(pd.read_csv('https://github.com/gumdropsteve/datasets/raw/master/iris.csv')).bind(source='target', destination='petal_width')\r\n",
        "\r\n",
        "g.plot()"
      ],
      "execution_count": null,
      "outputs": [
        {
          "output_type": "execute_result",
          "data": {
            "text/html": [
              "\n",
              "            <iframe id=\"cfe0e66f-2724-47c2-864e-053ed53e668f\" src=\"https://hub.graphistry.com/graph/graph.html?dataset=95a6dcd8353e46c49152407f530f9937&type=arrow&viztoken=48995c52-4576-466e-b4cb-31a7c43632ec&usertag=87fce5b3-pygraphistry-0.15.0&splashAfter=1611224097&info=true\"\n",
              "                    allowfullscreen=\"true\" webkitallowfullscreen=\"true\" mozallowfullscreen=\"true\"\n",
              "                    oallowfullscreen=\"true\" msallowfullscreen=\"true\"\n",
              "                    style=\"width:100%; height:500px; border: 1px solid #DDD; overflow: hidden\">\n",
              "            </iframe>\n",
              "        \n",
              "            <script>\n",
              "                try {\n",
              "                  $(\"#cfe0e66f-2724-47c2-864e-053ed53e668f\").bind('mousewheel', function(e) { e.preventDefault(); });\n",
              "                } catch (e) { console.error('exn catching scroll', e); }\n",
              "            </script>\n",
              "        "
            ],
            "text/plain": [
              "<IPython.core.display.HTML object>"
            ]
          },
          "metadata": {
            "tags": []
          },
          "execution_count": 3
        }
      ]
    }
  ]
}