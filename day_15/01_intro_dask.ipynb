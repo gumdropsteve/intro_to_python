{
  "nbformat": 4,
  "nbformat_minor": 0,
  "metadata": {
    "colab": {
      "name": "01_intro_dask.ipynb",
      "provenance": [],
      "authorship_tag": "ABX9TyOkip/jPKANIdmhdkT7IEkI",
      "include_colab_link": true
    },
    "kernelspec": {
      "name": "python3",
      "display_name": "Python 3"
    }
  },
  "cells": [
    {
      "cell_type": "markdown",
      "metadata": {
        "id": "view-in-github",
        "colab_type": "text"
      },
      "source": [
        "<a href=\"https://colab.research.google.com/github/gumdropsteve/intro_to_python/blob/main/day_15/01_intro_dask.ipynb\" target=\"_parent\"><img src=\"https://colab.research.google.com/assets/colab-badge.svg\" alt=\"Open In Colab\"/></a>"
      ]
    },
    {
      "cell_type": "markdown",
      "metadata": {
        "id": "QNfNnN2gFb8q"
      },
      "source": [
        " # Intro to Dask\r\n",
        "[GitHub](https://github.com/dask/dask) | [Why Dask?](https://docs.dask.org/en/latest/why.html)\r\n",
        "\r\n",
        "## Dask DataFrame\r\n",
        "Basically if you're using Dask for Pandas | [Docs](https://docs.dask.org/en/latest/dataframe.html)"
      ]
    },
    {
      "cell_type": "code",
      "metadata": {
        "colab": {
          "base_uri": "https://localhost:8080/",
          "height": 111
        },
        "id": "LSru-CSWEcJ9",
        "outputId": "03d883f7-e470-44fc-bb62-4b190fe741bf"
      },
      "source": [
        "import pandas as pd\r\n",
        "\r\n",
        "df = pd.DataFrame()\r\n",
        "\r\n",
        "df['a'] = [1, 2]\r\n",
        "df['b'] = [5, 9]\r\n",
        "\r\n",
        "df"
      ],
      "execution_count": null,
      "outputs": [
        {
          "output_type": "execute_result",
          "data": {
            "text/html": [
              "<div>\n",
              "<style scoped>\n",
              "    .dataframe tbody tr th:only-of-type {\n",
              "        vertical-align: middle;\n",
              "    }\n",
              "\n",
              "    .dataframe tbody tr th {\n",
              "        vertical-align: top;\n",
              "    }\n",
              "\n",
              "    .dataframe thead th {\n",
              "        text-align: right;\n",
              "    }\n",
              "</style>\n",
              "<table border=\"1\" class=\"dataframe\">\n",
              "  <thead>\n",
              "    <tr style=\"text-align: right;\">\n",
              "      <th></th>\n",
              "      <th>a</th>\n",
              "      <th>b</th>\n",
              "    </tr>\n",
              "  </thead>\n",
              "  <tbody>\n",
              "    <tr>\n",
              "      <th>0</th>\n",
              "      <td>1</td>\n",
              "      <td>5</td>\n",
              "    </tr>\n",
              "    <tr>\n",
              "      <th>1</th>\n",
              "      <td>2</td>\n",
              "      <td>9</td>\n",
              "    </tr>\n",
              "  </tbody>\n",
              "</table>\n",
              "</div>"
            ],
            "text/plain": [
              "   a  b\n",
              "0  1  5\n",
              "1  2  9"
            ]
          },
          "metadata": {
            "tags": []
          },
          "execution_count": 1
        }
      ]
    },
    {
      "cell_type": "code",
      "metadata": {
        "id": "o362rLE6HOlm"
      },
      "source": [
        "df.to_csv('small.csv', index=False)"
      ],
      "execution_count": null,
      "outputs": []
    },
    {
      "cell_type": "code",
      "metadata": {
        "colab": {
          "base_uri": "https://localhost:8080/"
        },
        "id": "Z297jE8-HfYX",
        "outputId": "f6f7243b-35a0-4067-8c42-9d128462e206"
      },
      "source": [
        "!python -m pip install \"dask[dataframe]\""
      ],
      "execution_count": null,
      "outputs": [
        {
          "output_type": "stream",
          "text": [
            "Requirement already satisfied: dask[dataframe] in /usr/local/lib/python3.6/dist-packages (2.12.0)\n",
            "Collecting partd>=0.3.10; extra == \"dataframe\"\n",
            "  Downloading https://files.pythonhosted.org/packages/44/e1/68dbe731c9c067655bff1eca5b7d40c20ca4b23fd5ec9f3d17e201a6f36b/partd-1.1.0-py3-none-any.whl\n",
            "Collecting fsspec>=0.6.0; extra == \"dataframe\"\n",
            "\u001b[?25l  Downloading https://files.pythonhosted.org/packages/ec/80/72ac0982cc833945fada4b76c52f0f65435ba4d53bc9317d1c70b5f7e7d5/fsspec-0.8.5-py3-none-any.whl (98kB)\n",
            "\u001b[K     |████████████████████████████████| 102kB 6.1MB/s \n",
            "\u001b[?25hRequirement already satisfied: toolz>=0.7.3; extra == \"dataframe\" in /usr/local/lib/python3.6/dist-packages (from dask[dataframe]) (0.11.1)\n",
            "Requirement already satisfied: pandas>=0.23.0; extra == \"dataframe\" in /usr/local/lib/python3.6/dist-packages (from dask[dataframe]) (1.1.5)\n",
            "Requirement already satisfied: numpy>=1.13.0; extra == \"dataframe\" in /usr/local/lib/python3.6/dist-packages (from dask[dataframe]) (1.19.5)\n",
            "Collecting locket\n",
            "  Downloading https://files.pythonhosted.org/packages/50/b8/e789e45b9b9c2db75e9d9e6ceb022c8d1d7e49b2c085ce8c05600f90a96b/locket-0.2.1-py2.py3-none-any.whl\n",
            "Requirement already satisfied: python-dateutil>=2.7.3 in /usr/local/lib/python3.6/dist-packages (from pandas>=0.23.0; extra == \"dataframe\"->dask[dataframe]) (2.8.1)\n",
            "Requirement already satisfied: pytz>=2017.2 in /usr/local/lib/python3.6/dist-packages (from pandas>=0.23.0; extra == \"dataframe\"->dask[dataframe]) (2018.9)\n",
            "Requirement already satisfied: six>=1.5 in /usr/local/lib/python3.6/dist-packages (from python-dateutil>=2.7.3->pandas>=0.23.0; extra == \"dataframe\"->dask[dataframe]) (1.15.0)\n",
            "Installing collected packages: locket, partd, fsspec\n",
            "Successfully installed fsspec-0.8.5 locket-0.2.1 partd-1.1.0\n"
          ],
          "name": "stdout"
        }
      ]
    },
    {
      "cell_type": "code",
      "metadata": {
        "colab": {
          "base_uri": "https://localhost:8080/",
          "height": 176
        },
        "id": "b-vl8Yg1FhWn",
        "outputId": "75234ef4-4ce7-4e2b-af03-028b73e46c4e"
      },
      "source": [
        "from dask import dataframe as dd\r\n",
        "\r\n",
        "dd.read_csv('small.csv')"
      ],
      "execution_count": null,
      "outputs": [
        {
          "output_type": "execute_result",
          "data": {
            "text/html": [
              "<div><strong>Dask DataFrame Structure:</strong></div>\n",
              "<div>\n",
              "<style scoped>\n",
              "    .dataframe tbody tr th:only-of-type {\n",
              "        vertical-align: middle;\n",
              "    }\n",
              "\n",
              "    .dataframe tbody tr th {\n",
              "        vertical-align: top;\n",
              "    }\n",
              "\n",
              "    .dataframe thead th {\n",
              "        text-align: right;\n",
              "    }\n",
              "</style>\n",
              "<table border=\"1\" class=\"dataframe\">\n",
              "  <thead>\n",
              "    <tr style=\"text-align: right;\">\n",
              "      <th></th>\n",
              "      <th>a</th>\n",
              "      <th>b</th>\n",
              "    </tr>\n",
              "    <tr>\n",
              "      <th>npartitions=1</th>\n",
              "      <th></th>\n",
              "      <th></th>\n",
              "    </tr>\n",
              "  </thead>\n",
              "  <tbody>\n",
              "    <tr>\n",
              "      <th></th>\n",
              "      <td>int64</td>\n",
              "      <td>int64</td>\n",
              "    </tr>\n",
              "    <tr>\n",
              "      <th></th>\n",
              "      <td>...</td>\n",
              "      <td>...</td>\n",
              "    </tr>\n",
              "  </tbody>\n",
              "</table>\n",
              "</div>\n",
              "<div>Dask Name: from-delayed, 3 tasks</div>"
            ],
            "text/plain": [
              "Dask DataFrame Structure:\n",
              "                   a      b\n",
              "npartitions=1              \n",
              "               int64  int64\n",
              "                 ...    ...\n",
              "Dask Name: from-delayed, 3 tasks"
            ]
          },
          "metadata": {
            "tags": []
          },
          "execution_count": 5
        }
      ]
    },
    {
      "cell_type": "markdown",
      "metadata": {
        "id": "7QD4FKMJIFEI"
      },
      "source": [
        "Use `.compute()` to go from Dask DataFrame to Pandas DataFrame."
      ]
    },
    {
      "cell_type": "code",
      "metadata": {
        "colab": {
          "base_uri": "https://localhost:8080/",
          "height": 111
        },
        "id": "JW5WIy1sHSbe",
        "outputId": "a7453220-f7c6-42e2-993d-c7073de46ef2"
      },
      "source": [
        "dd.read_csv('small.csv').compute()"
      ],
      "execution_count": null,
      "outputs": [
        {
          "output_type": "execute_result",
          "data": {
            "text/html": [
              "<div>\n",
              "<style scoped>\n",
              "    .dataframe tbody tr th:only-of-type {\n",
              "        vertical-align: middle;\n",
              "    }\n",
              "\n",
              "    .dataframe tbody tr th {\n",
              "        vertical-align: top;\n",
              "    }\n",
              "\n",
              "    .dataframe thead th {\n",
              "        text-align: right;\n",
              "    }\n",
              "</style>\n",
              "<table border=\"1\" class=\"dataframe\">\n",
              "  <thead>\n",
              "    <tr style=\"text-align: right;\">\n",
              "      <th></th>\n",
              "      <th>a</th>\n",
              "      <th>b</th>\n",
              "    </tr>\n",
              "  </thead>\n",
              "  <tbody>\n",
              "    <tr>\n",
              "      <th>0</th>\n",
              "      <td>1</td>\n",
              "      <td>5</td>\n",
              "    </tr>\n",
              "    <tr>\n",
              "      <th>1</th>\n",
              "      <td>2</td>\n",
              "      <td>9</td>\n",
              "    </tr>\n",
              "  </tbody>\n",
              "</table>\n",
              "</div>"
            ],
            "text/plain": [
              "   a  b\n",
              "0  1  5\n",
              "1  2  9"
            ]
          },
          "metadata": {
            "tags": []
          },
          "execution_count": 6
        }
      ]
    },
    {
      "cell_type": "code",
      "metadata": {
        "colab": {
          "base_uri": "https://localhost:8080/"
        },
        "id": "IzS6xtvsIBwh",
        "outputId": "10991142-535b-4631-cc06-83d7b7fa3eed"
      },
      "source": [
        "type(dd.read_csv('small.csv').compute())"
      ],
      "execution_count": null,
      "outputs": [
        {
          "output_type": "execute_result",
          "data": {
            "text/plain": [
              "pandas.core.frame.DataFrame"
            ]
          },
          "metadata": {
            "tags": []
          },
          "execution_count": 7
        }
      ]
    },
    {
      "cell_type": "code",
      "metadata": {
        "colab": {
          "base_uri": "https://localhost:8080/",
          "height": 176
        },
        "id": "Ez16WCHTIEFu",
        "outputId": "4609b44a-ba32-48b0-f7c3-6361c6b2751a"
      },
      "source": [
        "df = dd.read_csv('small.csv')\r\n",
        "\r\n",
        "df.describe()"
      ],
      "execution_count": null,
      "outputs": [
        {
          "output_type": "execute_result",
          "data": {
            "text/html": [
              "<div><strong>Dask DataFrame Structure:</strong></div>\n",
              "<div>\n",
              "<style scoped>\n",
              "    .dataframe tbody tr th:only-of-type {\n",
              "        vertical-align: middle;\n",
              "    }\n",
              "\n",
              "    .dataframe tbody tr th {\n",
              "        vertical-align: top;\n",
              "    }\n",
              "\n",
              "    .dataframe thead th {\n",
              "        text-align: right;\n",
              "    }\n",
              "</style>\n",
              "<table border=\"1\" class=\"dataframe\">\n",
              "  <thead>\n",
              "    <tr style=\"text-align: right;\">\n",
              "      <th></th>\n",
              "      <th>a</th>\n",
              "      <th>b</th>\n",
              "    </tr>\n",
              "    <tr>\n",
              "      <th>npartitions=1</th>\n",
              "      <th></th>\n",
              "      <th></th>\n",
              "    </tr>\n",
              "  </thead>\n",
              "  <tbody>\n",
              "    <tr>\n",
              "      <th></th>\n",
              "      <td>float64</td>\n",
              "      <td>float64</td>\n",
              "    </tr>\n",
              "    <tr>\n",
              "      <th></th>\n",
              "      <td>...</td>\n",
              "      <td>...</td>\n",
              "    </tr>\n",
              "  </tbody>\n",
              "</table>\n",
              "</div>\n",
              "<div>Dask Name: describe-numeric, 28 tasks</div>"
            ],
            "text/plain": [
              "Dask DataFrame Structure:\n",
              "                     a        b\n",
              "npartitions=1                  \n",
              "               float64  float64\n",
              "                   ...      ...\n",
              "Dask Name: describe-numeric, 28 tasks"
            ]
          },
          "metadata": {
            "tags": []
          },
          "execution_count": 12
        }
      ]
    },
    {
      "cell_type": "code",
      "metadata": {
        "colab": {
          "base_uri": "https://localhost:8080/",
          "height": 297
        },
        "id": "6FI7qkZyJl7F",
        "outputId": "a12bcbee-11d2-4737-a3b0-9de24c4531c7"
      },
      "source": [
        "df.describe().compute()"
      ],
      "execution_count": null,
      "outputs": [
        {
          "output_type": "execute_result",
          "data": {
            "text/html": [
              "<div>\n",
              "<style scoped>\n",
              "    .dataframe tbody tr th:only-of-type {\n",
              "        vertical-align: middle;\n",
              "    }\n",
              "\n",
              "    .dataframe tbody tr th {\n",
              "        vertical-align: top;\n",
              "    }\n",
              "\n",
              "    .dataframe thead th {\n",
              "        text-align: right;\n",
              "    }\n",
              "</style>\n",
              "<table border=\"1\" class=\"dataframe\">\n",
              "  <thead>\n",
              "    <tr style=\"text-align: right;\">\n",
              "      <th></th>\n",
              "      <th>a</th>\n",
              "      <th>b</th>\n",
              "    </tr>\n",
              "  </thead>\n",
              "  <tbody>\n",
              "    <tr>\n",
              "      <th>count</th>\n",
              "      <td>2.000000</td>\n",
              "      <td>2.000000</td>\n",
              "    </tr>\n",
              "    <tr>\n",
              "      <th>mean</th>\n",
              "      <td>1.500000</td>\n",
              "      <td>7.000000</td>\n",
              "    </tr>\n",
              "    <tr>\n",
              "      <th>std</th>\n",
              "      <td>0.707107</td>\n",
              "      <td>2.828427</td>\n",
              "    </tr>\n",
              "    <tr>\n",
              "      <th>min</th>\n",
              "      <td>1.000000</td>\n",
              "      <td>5.000000</td>\n",
              "    </tr>\n",
              "    <tr>\n",
              "      <th>25%</th>\n",
              "      <td>1.250000</td>\n",
              "      <td>6.000000</td>\n",
              "    </tr>\n",
              "    <tr>\n",
              "      <th>50%</th>\n",
              "      <td>1.500000</td>\n",
              "      <td>7.000000</td>\n",
              "    </tr>\n",
              "    <tr>\n",
              "      <th>75%</th>\n",
              "      <td>1.750000</td>\n",
              "      <td>8.000000</td>\n",
              "    </tr>\n",
              "    <tr>\n",
              "      <th>max</th>\n",
              "      <td>2.000000</td>\n",
              "      <td>9.000000</td>\n",
              "    </tr>\n",
              "  </tbody>\n",
              "</table>\n",
              "</div>"
            ],
            "text/plain": [
              "              a         b\n",
              "count  2.000000  2.000000\n",
              "mean   1.500000  7.000000\n",
              "std    0.707107  2.828427\n",
              "min    1.000000  5.000000\n",
              "25%    1.250000  6.000000\n",
              "50%    1.500000  7.000000\n",
              "75%    1.750000  8.000000\n",
              "max    2.000000  9.000000"
            ]
          },
          "metadata": {
            "tags": []
          },
          "execution_count": 13
        }
      ]
    },
    {
      "cell_type": "markdown",
      "metadata": {
        "id": "nvgmDqXbL0Dx"
      },
      "source": [
        "How it's working..."
      ]
    },
    {
      "cell_type": "code",
      "metadata": {
        "colab": {
          "base_uri": "https://localhost:8080/"
        },
        "id": "iALR2xthL2gr",
        "outputId": "6a4e52f0-b3fb-4051-d700-84b63582b52c"
      },
      "source": [
        "df = dd.read_csv('small.csv')\r\n",
        "\r\n",
        "df = df + 100\r\n",
        "df = df.loc[df['a'] > 1]\r\n",
        "\r\n",
        "graph = df.__dask_graph__()\r\n",
        "graph.layers"
      ],
      "execution_count": null,
      "outputs": [
        {
          "output_type": "execute_result",
          "data": {
            "text/plain": [
              "{'add-1128d6c863f4db7522fa1826bb583a23': Blockwise<(('from-delayed-26f042f4697c2a1e92b68e18b24a476d', ('.0',)), (100, None)) -> add-1128d6c863f4db7522fa1826bb583a23>,\n",
              " 'from-delayed-26f042f4697c2a1e92b68e18b24a476d': {('from-delayed-26f042f4697c2a1e92b68e18b24a476d',\n",
              "   0): (<function dask.dataframe.utils.check_meta>,\n",
              "   'pandas_read_text-a59503a2d7953c3f7f7ab5d7d70769ee',\n",
              "   Empty DataFrame\n",
              "   Columns: [a, b]\n",
              "   Index: [],\n",
              "   'from_delayed'),\n",
              "  'pandas_read_text-a59503a2d7953c3f7f7ab5d7d70769ee': (<function dask.utils.apply>,\n",
              "   <function dask.dataframe.io.csv.pandas_read_text>,\n",
              "   [<function pandas.io.parsers.read_csv>,\n",
              "    'read-block-0-8a8d9aca7932d0c0d7f2440697c2d616',\n",
              "    b'a,b\\n',\n",
              "    (dict, []),\n",
              "    (dict, [['a', dtype('int64')], ['b', dtype('int64')]]),\n",
              "    ['a', 'b']],\n",
              "   (dict, [['write_header', False], ['enforce', False], ['path', None]])),\n",
              "  'read-block-0-8a8d9aca7932d0c0d7f2440697c2d616': (<function dask.bytes.core.read_block_from_file>,\n",
              "   <OpenFile '/content/small.csv'>,\n",
              "   0,\n",
              "   64000000,\n",
              "   b'\\n')},\n",
              " 'getitem-db307c951b503cab9b9a5410cd629e77': Blockwise<(('add-1128d6c863f4db7522fa1826bb583a23', ('.0',)), ('a', None)) -> getitem-db307c951b503cab9b9a5410cd629e77>,\n",
              " 'gt-048fada9ef8025dc47f3e8444d3fb19e': Blockwise<(('getitem-db307c951b503cab9b9a5410cd629e77', ('.0',)), (1, None)) -> gt-048fada9ef8025dc47f3e8444d3fb19e>,\n",
              " 'loc-series-6b9635d5856d65fd0ca13678543da87a': Blockwise<(('add-1128d6c863f4db7522fa1826bb583a23', ('.0',)), ('gt-048fada9ef8025dc47f3e8444d3fb19e', ('.0',)), (None, None), ('gt-048fada9ef8025dc47f3e8444d3fb19e', None), ('add-1128d6c863f4db7522fa1826bb583a23', None)) -> loc-series-6b9635d5856d65fd0ca13678543da87a>}"
            ]
          },
          "metadata": {
            "tags": []
          },
          "execution_count": 18
        }
      ]
    },
    {
      "cell_type": "markdown",
      "metadata": {
        "id": "dZS8XdsJMobA"
      },
      "source": [
        "Note the difference in number of tasks..."
      ]
    },
    {
      "cell_type": "code",
      "metadata": {
        "colab": {
          "base_uri": "https://localhost:8080/",
          "height": 176
        },
        "id": "Ee7bFcgCLqsv",
        "outputId": "cfbe36b8-38a8-4d4e-8fdc-4fdb0dc3ac9f"
      },
      "source": [
        "# dataframe as is now\r\n",
        "df"
      ],
      "execution_count": null,
      "outputs": [
        {
          "output_type": "execute_result",
          "data": {
            "text/html": [
              "<div><strong>Dask DataFrame Structure:</strong></div>\n",
              "<div>\n",
              "<style scoped>\n",
              "    .dataframe tbody tr th:only-of-type {\n",
              "        vertical-align: middle;\n",
              "    }\n",
              "\n",
              "    .dataframe tbody tr th {\n",
              "        vertical-align: top;\n",
              "    }\n",
              "\n",
              "    .dataframe thead th {\n",
              "        text-align: right;\n",
              "    }\n",
              "</style>\n",
              "<table border=\"1\" class=\"dataframe\">\n",
              "  <thead>\n",
              "    <tr style=\"text-align: right;\">\n",
              "      <th></th>\n",
              "      <th>a</th>\n",
              "      <th>b</th>\n",
              "    </tr>\n",
              "    <tr>\n",
              "      <th>npartitions=1</th>\n",
              "      <th></th>\n",
              "      <th></th>\n",
              "    </tr>\n",
              "  </thead>\n",
              "  <tbody>\n",
              "    <tr>\n",
              "      <th></th>\n",
              "      <td>int64</td>\n",
              "      <td>int64</td>\n",
              "    </tr>\n",
              "    <tr>\n",
              "      <th></th>\n",
              "      <td>...</td>\n",
              "      <td>...</td>\n",
              "    </tr>\n",
              "  </tbody>\n",
              "</table>\n",
              "</div>\n",
              "<div>Dask Name: loc-series, 7 tasks</div>"
            ],
            "text/plain": [
              "Dask DataFrame Structure:\n",
              "                   a      b\n",
              "npartitions=1              \n",
              "               int64  int64\n",
              "                 ...    ...\n",
              "Dask Name: loc-series, 7 tasks"
            ]
          },
          "metadata": {
            "tags": []
          },
          "execution_count": 19
        }
      ]
    },
    {
      "cell_type": "code",
      "metadata": {
        "colab": {
          "base_uri": "https://localhost:8080/",
          "height": 176
        },
        "id": "4QlIKlZQMibQ",
        "outputId": "24a4148f-ef70-40da-f5db-765897fc4a36"
      },
      "source": [
        "# just reading\r\n",
        "dd.read_csv('small.csv')"
      ],
      "execution_count": null,
      "outputs": [
        {
          "output_type": "execute_result",
          "data": {
            "text/html": [
              "<div><strong>Dask DataFrame Structure:</strong></div>\n",
              "<div>\n",
              "<style scoped>\n",
              "    .dataframe tbody tr th:only-of-type {\n",
              "        vertical-align: middle;\n",
              "    }\n",
              "\n",
              "    .dataframe tbody tr th {\n",
              "        vertical-align: top;\n",
              "    }\n",
              "\n",
              "    .dataframe thead th {\n",
              "        text-align: right;\n",
              "    }\n",
              "</style>\n",
              "<table border=\"1\" class=\"dataframe\">\n",
              "  <thead>\n",
              "    <tr style=\"text-align: right;\">\n",
              "      <th></th>\n",
              "      <th>a</th>\n",
              "      <th>b</th>\n",
              "    </tr>\n",
              "    <tr>\n",
              "      <th>npartitions=1</th>\n",
              "      <th></th>\n",
              "      <th></th>\n",
              "    </tr>\n",
              "  </thead>\n",
              "  <tbody>\n",
              "    <tr>\n",
              "      <th></th>\n",
              "      <td>int64</td>\n",
              "      <td>int64</td>\n",
              "    </tr>\n",
              "    <tr>\n",
              "      <th></th>\n",
              "      <td>...</td>\n",
              "      <td>...</td>\n",
              "    </tr>\n",
              "  </tbody>\n",
              "</table>\n",
              "</div>\n",
              "<div>Dask Name: from-delayed, 3 tasks</div>"
            ],
            "text/plain": [
              "Dask DataFrame Structure:\n",
              "                   a      b\n",
              "npartitions=1              \n",
              "               int64  int64\n",
              "                 ...    ...\n",
              "Dask Name: from-delayed, 3 tasks"
            ]
          },
          "metadata": {
            "tags": []
          },
          "execution_count": 20
        }
      ]
    },
    {
      "cell_type": "markdown",
      "metadata": {
        "id": "kZOm_EHxMuxH"
      },
      "source": [
        "`.compute()` to make it happen..."
      ]
    },
    {
      "cell_type": "code",
      "metadata": {
        "colab": {
          "base_uri": "https://localhost:8080/",
          "height": 111
        },
        "id": "-QxzhjRkMmHI",
        "outputId": "ddc656e0-95da-4cad-9b40-40446d598ca8"
      },
      "source": [
        "df.compute()"
      ],
      "execution_count": null,
      "outputs": [
        {
          "output_type": "execute_result",
          "data": {
            "text/html": [
              "<div>\n",
              "<style scoped>\n",
              "    .dataframe tbody tr th:only-of-type {\n",
              "        vertical-align: middle;\n",
              "    }\n",
              "\n",
              "    .dataframe tbody tr th {\n",
              "        vertical-align: top;\n",
              "    }\n",
              "\n",
              "    .dataframe thead th {\n",
              "        text-align: right;\n",
              "    }\n",
              "</style>\n",
              "<table border=\"1\" class=\"dataframe\">\n",
              "  <thead>\n",
              "    <tr style=\"text-align: right;\">\n",
              "      <th></th>\n",
              "      <th>a</th>\n",
              "      <th>b</th>\n",
              "    </tr>\n",
              "  </thead>\n",
              "  <tbody>\n",
              "    <tr>\n",
              "      <th>0</th>\n",
              "      <td>101</td>\n",
              "      <td>105</td>\n",
              "    </tr>\n",
              "    <tr>\n",
              "      <th>1</th>\n",
              "      <td>102</td>\n",
              "      <td>109</td>\n",
              "    </tr>\n",
              "  </tbody>\n",
              "</table>\n",
              "</div>"
            ],
            "text/plain": [
              "     a    b\n",
              "0  101  105\n",
              "1  102  109"
            ]
          },
          "metadata": {
            "tags": []
          },
          "execution_count": 21
        }
      ]
    },
    {
      "cell_type": "markdown",
      "metadata": {
        "id": "EtVZYZjtNHFy"
      },
      "source": [
        "#### Pandas vs Dask"
      ]
    },
    {
      "cell_type": "code",
      "metadata": {
        "colab": {
          "base_uri": "https://localhost:8080/"
        },
        "id": "71kGjMJaNLrG",
        "outputId": "aa1c5f49-1177-4034-cc89-7abe90217989"
      },
      "source": [
        "import pandas as pd\r\n",
        "from dask import dataframe as dd\r\n",
        "\r\n",
        "!wget \"https://github.com/gumdropsteve/datasets/raw/master/airlines.parquet\""
      ],
      "execution_count": null,
      "outputs": [
        {
          "output_type": "stream",
          "text": [
            "--2021-01-21 09:11:13--  https://github.com/gumdropsteve/datasets/raw/master/airlines.parquet\n",
            "Resolving github.com (github.com)... 140.82.121.3\n",
            "Connecting to github.com (github.com)|140.82.121.3|:443... connected.\n",
            "HTTP request sent, awaiting response... 302 Found\n",
            "Location: https://raw.githubusercontent.com/gumdropsteve/datasets/master/airlines.parquet [following]\n",
            "--2021-01-21 09:11:13--  https://raw.githubusercontent.com/gumdropsteve/datasets/master/airlines.parquet\n",
            "Resolving raw.githubusercontent.com (raw.githubusercontent.com)... 151.101.0.133, 151.101.64.133, 151.101.128.133, ...\n",
            "Connecting to raw.githubusercontent.com (raw.githubusercontent.com)|151.101.0.133|:443... connected.\n",
            "HTTP request sent, awaiting response... 200 OK\n",
            "Length: 50729965 (48M) [application/octet-stream]\n",
            "Saving to: ‘airlines.parquet’\n",
            "\n",
            "airlines.parquet    100%[===================>]  48.38M   153MB/s    in 0.3s    \n",
            "\n",
            "2021-01-21 09:11:13 (153 MB/s) - ‘airlines.parquet’ saved [50729965/50729965]\n",
            "\n"
          ],
          "name": "stdout"
        }
      ]
    },
    {
      "cell_type": "code",
      "metadata": {
        "colab": {
          "base_uri": "https://localhost:8080/",
          "height": 473
        },
        "id": "bqoCU6iLNKHM",
        "outputId": "4ca68ba2-e036-44e2-edbb-2e2b016ced55"
      },
      "source": [
        "%%time\r\n",
        "pd.read_parquet('airlines.parquet')"
      ],
      "execution_count": null,
      "outputs": [
        {
          "output_type": "stream",
          "text": [
            "CPU times: user 191 ms, sys: 134 ms, total: 325 ms\n",
            "Wall time: 181 ms\n"
          ],
          "name": "stdout"
        },
        {
          "output_type": "execute_result",
          "data": {
            "text/html": [
              "<div>\n",
              "<style scoped>\n",
              "    .dataframe tbody tr th:only-of-type {\n",
              "        vertical-align: middle;\n",
              "    }\n",
              "\n",
              "    .dataframe tbody tr th {\n",
              "        vertical-align: top;\n",
              "    }\n",
              "\n",
              "    .dataframe thead th {\n",
              "        text-align: right;\n",
              "    }\n",
              "</style>\n",
              "<table border=\"1\" class=\"dataframe\">\n",
              "  <thead>\n",
              "    <tr style=\"text-align: right;\">\n",
              "      <th></th>\n",
              "      <th>ArrDelayBinary</th>\n",
              "      <th>t_Year</th>\n",
              "      <th>t_Month</th>\n",
              "      <th>DayofMonth</th>\n",
              "      <th>DayofWeek</th>\n",
              "      <th>CRSDepTime</th>\n",
              "      <th>CRSArrTime</th>\n",
              "      <th>UniqueCarrier</th>\n",
              "      <th>FlightNum</th>\n",
              "      <th>ActualElapsedTime</th>\n",
              "      <th>Origin</th>\n",
              "      <th>Dest</th>\n",
              "      <th>Distance</th>\n",
              "      <th>Diverted</th>\n",
              "    </tr>\n",
              "  </thead>\n",
              "  <tbody>\n",
              "    <tr>\n",
              "      <th>0</th>\n",
              "      <td>0</td>\n",
              "      <td>1991.0</td>\n",
              "      <td>8.0</td>\n",
              "      <td>6.0</td>\n",
              "      <td>2.0</td>\n",
              "      <td>655.0</td>\n",
              "      <td>735.0</td>\n",
              "      <td>5.0</td>\n",
              "      <td>430.0</td>\n",
              "      <td>49.0</td>\n",
              "      <td>185.0</td>\n",
              "      <td>244.0</td>\n",
              "      <td>110.0</td>\n",
              "      <td>0.0</td>\n",
              "    </tr>\n",
              "    <tr>\n",
              "      <th>1</th>\n",
              "      <td>0</td>\n",
              "      <td>1990.0</td>\n",
              "      <td>11.0</td>\n",
              "      <td>19.0</td>\n",
              "      <td>1.0</td>\n",
              "      <td>1654.0</td>\n",
              "      <td>1847.0</td>\n",
              "      <td>4.0</td>\n",
              "      <td>262.0</td>\n",
              "      <td>117.0</td>\n",
              "      <td>156.0</td>\n",
              "      <td>11.0</td>\n",
              "      <td>595.0</td>\n",
              "      <td>0.0</td>\n",
              "    </tr>\n",
              "    <tr>\n",
              "      <th>2</th>\n",
              "      <td>0</td>\n",
              "      <td>1991.0</td>\n",
              "      <td>1.0</td>\n",
              "      <td>20.0</td>\n",
              "      <td>7.0</td>\n",
              "      <td>1700.0</td>\n",
              "      <td>1751.0</td>\n",
              "      <td>12.0</td>\n",
              "      <td>683.0</td>\n",
              "      <td>116.0</td>\n",
              "      <td>189.0</td>\n",
              "      <td>175.0</td>\n",
              "      <td>412.0</td>\n",
              "      <td>0.0</td>\n",
              "    </tr>\n",
              "    <tr>\n",
              "      <th>3</th>\n",
              "      <td>0</td>\n",
              "      <td>1991.0</td>\n",
              "      <td>6.0</td>\n",
              "      <td>25.0</td>\n",
              "      <td>2.0</td>\n",
              "      <td>2130.0</td>\n",
              "      <td>2303.0</td>\n",
              "      <td>3.0</td>\n",
              "      <td>618.0</td>\n",
              "      <td>96.0</td>\n",
              "      <td>180.0</td>\n",
              "      <td>11.0</td>\n",
              "      <td>545.0</td>\n",
              "      <td>0.0</td>\n",
              "    </tr>\n",
              "    <tr>\n",
              "      <th>4</th>\n",
              "      <td>0</td>\n",
              "      <td>1988.0</td>\n",
              "      <td>10.0</td>\n",
              "      <td>1.0</td>\n",
              "      <td>6.0</td>\n",
              "      <td>1611.0</td>\n",
              "      <td>1920.0</td>\n",
              "      <td>3.0</td>\n",
              "      <td>1630.0</td>\n",
              "      <td>126.0</td>\n",
              "      <td>226.0</td>\n",
              "      <td>171.0</td>\n",
              "      <td>866.0</td>\n",
              "      <td>0.0</td>\n",
              "    </tr>\n",
              "    <tr>\n",
              "      <th>...</th>\n",
              "      <td>...</td>\n",
              "      <td>...</td>\n",
              "      <td>...</td>\n",
              "      <td>...</td>\n",
              "      <td>...</td>\n",
              "      <td>...</td>\n",
              "      <td>...</td>\n",
              "      <td>...</td>\n",
              "      <td>...</td>\n",
              "      <td>...</td>\n",
              "      <td>...</td>\n",
              "      <td>...</td>\n",
              "      <td>...</td>\n",
              "      <td>...</td>\n",
              "    </tr>\n",
              "    <tr>\n",
              "      <th>3999995</th>\n",
              "      <td>0</td>\n",
              "      <td>1987.0</td>\n",
              "      <td>10.0</td>\n",
              "      <td>5.0</td>\n",
              "      <td>1.0</td>\n",
              "      <td>740.0</td>\n",
              "      <td>747.0</td>\n",
              "      <td>7.0</td>\n",
              "      <td>821.0</td>\n",
              "      <td>71.0</td>\n",
              "      <td>11.0</td>\n",
              "      <td>150.0</td>\n",
              "      <td>332.0</td>\n",
              "      <td>0.0</td>\n",
              "    </tr>\n",
              "    <tr>\n",
              "      <th>3999996</th>\n",
              "      <td>0</td>\n",
              "      <td>1990.0</td>\n",
              "      <td>7.0</td>\n",
              "      <td>28.0</td>\n",
              "      <td>6.0</td>\n",
              "      <td>955.0</td>\n",
              "      <td>1055.0</td>\n",
              "      <td>14.0</td>\n",
              "      <td>103.0</td>\n",
              "      <td>54.0</td>\n",
              "      <td>167.0</td>\n",
              "      <td>22.0</td>\n",
              "      <td>321.0</td>\n",
              "      <td>0.0</td>\n",
              "    </tr>\n",
              "    <tr>\n",
              "      <th>3999997</th>\n",
              "      <td>0</td>\n",
              "      <td>1987.0</td>\n",
              "      <td>11.0</td>\n",
              "      <td>28.0</td>\n",
              "      <td>6.0</td>\n",
              "      <td>1715.0</td>\n",
              "      <td>1741.0</td>\n",
              "      <td>3.0</td>\n",
              "      <td>1098.0</td>\n",
              "      <td>32.0</td>\n",
              "      <td>133.0</td>\n",
              "      <td>8.0</td>\n",
              "      <td>108.0</td>\n",
              "      <td>0.0</td>\n",
              "    </tr>\n",
              "    <tr>\n",
              "      <th>3999998</th>\n",
              "      <td>0</td>\n",
              "      <td>1991.0</td>\n",
              "      <td>8.0</td>\n",
              "      <td>26.0</td>\n",
              "      <td>1.0</td>\n",
              "      <td>1215.0</td>\n",
              "      <td>1335.0</td>\n",
              "      <td>14.0</td>\n",
              "      <td>103.0</td>\n",
              "      <td>66.0</td>\n",
              "      <td>27.0</td>\n",
              "      <td>149.0</td>\n",
              "      <td>395.0</td>\n",
              "      <td>0.0</td>\n",
              "    </tr>\n",
              "    <tr>\n",
              "      <th>3999999</th>\n",
              "      <td>0</td>\n",
              "      <td>1990.0</td>\n",
              "      <td>7.0</td>\n",
              "      <td>26.0</td>\n",
              "      <td>4.0</td>\n",
              "      <td>925.0</td>\n",
              "      <td>934.0</td>\n",
              "      <td>7.0</td>\n",
              "      <td>1051.0</td>\n",
              "      <td>80.0</td>\n",
              "      <td>69.0</td>\n",
              "      <td>96.0</td>\n",
              "      <td>288.0</td>\n",
              "      <td>0.0</td>\n",
              "    </tr>\n",
              "  </tbody>\n",
              "</table>\n",
              "<p>4000000 rows × 14 columns</p>\n",
              "</div>"
            ],
            "text/plain": [
              "         ArrDelayBinary  t_Year  t_Month  ...   Dest  Distance  Diverted\n",
              "0                     0  1991.0      8.0  ...  244.0     110.0       0.0\n",
              "1                     0  1990.0     11.0  ...   11.0     595.0       0.0\n",
              "2                     0  1991.0      1.0  ...  175.0     412.0       0.0\n",
              "3                     0  1991.0      6.0  ...   11.0     545.0       0.0\n",
              "4                     0  1988.0     10.0  ...  171.0     866.0       0.0\n",
              "...                 ...     ...      ...  ...    ...       ...       ...\n",
              "3999995               0  1987.0     10.0  ...  150.0     332.0       0.0\n",
              "3999996               0  1990.0      7.0  ...   22.0     321.0       0.0\n",
              "3999997               0  1987.0     11.0  ...    8.0     108.0       0.0\n",
              "3999998               0  1991.0      8.0  ...  149.0     395.0       0.0\n",
              "3999999               0  1990.0      7.0  ...   96.0     288.0       0.0\n",
              "\n",
              "[4000000 rows x 14 columns]"
            ]
          },
          "metadata": {
            "tags": []
          },
          "execution_count": 28
        }
      ]
    },
    {
      "cell_type": "code",
      "metadata": {
        "colab": {
          "base_uri": "https://localhost:8080/",
          "height": 230
        },
        "id": "6tQgBHLnNZwP",
        "outputId": "13e9d9ec-b4b8-4ae1-d40c-2e839392f4f7"
      },
      "source": [
        "%%time\r\n",
        "dd.read_parquet('airlines.parquet')"
      ],
      "execution_count": null,
      "outputs": [
        {
          "output_type": "stream",
          "text": [
            "CPU times: user 14.6 ms, sys: 784 µs, total: 15.4 ms\n",
            "Wall time: 16.4 ms\n"
          ],
          "name": "stdout"
        },
        {
          "output_type": "execute_result",
          "data": {
            "text/html": [
              "<div><strong>Dask DataFrame Structure:</strong></div>\n",
              "<div>\n",
              "<style scoped>\n",
              "    .dataframe tbody tr th:only-of-type {\n",
              "        vertical-align: middle;\n",
              "    }\n",
              "\n",
              "    .dataframe tbody tr th {\n",
              "        vertical-align: top;\n",
              "    }\n",
              "\n",
              "    .dataframe thead th {\n",
              "        text-align: right;\n",
              "    }\n",
              "</style>\n",
              "<table border=\"1\" class=\"dataframe\">\n",
              "  <thead>\n",
              "    <tr style=\"text-align: right;\">\n",
              "      <th></th>\n",
              "      <th>ArrDelayBinary</th>\n",
              "      <th>t_Year</th>\n",
              "      <th>t_Month</th>\n",
              "      <th>DayofMonth</th>\n",
              "      <th>DayofWeek</th>\n",
              "      <th>CRSDepTime</th>\n",
              "      <th>CRSArrTime</th>\n",
              "      <th>UniqueCarrier</th>\n",
              "      <th>FlightNum</th>\n",
              "      <th>ActualElapsedTime</th>\n",
              "      <th>Origin</th>\n",
              "      <th>Dest</th>\n",
              "      <th>Distance</th>\n",
              "      <th>Diverted</th>\n",
              "    </tr>\n",
              "    <tr>\n",
              "      <th>npartitions=1</th>\n",
              "      <th></th>\n",
              "      <th></th>\n",
              "      <th></th>\n",
              "      <th></th>\n",
              "      <th></th>\n",
              "      <th></th>\n",
              "      <th></th>\n",
              "      <th></th>\n",
              "      <th></th>\n",
              "      <th></th>\n",
              "      <th></th>\n",
              "      <th></th>\n",
              "      <th></th>\n",
              "      <th></th>\n",
              "    </tr>\n",
              "  </thead>\n",
              "  <tbody>\n",
              "    <tr>\n",
              "      <th></th>\n",
              "      <td>int32</td>\n",
              "      <td>float32</td>\n",
              "      <td>float32</td>\n",
              "      <td>float32</td>\n",
              "      <td>float32</td>\n",
              "      <td>float32</td>\n",
              "      <td>float32</td>\n",
              "      <td>float32</td>\n",
              "      <td>float32</td>\n",
              "      <td>float32</td>\n",
              "      <td>float32</td>\n",
              "      <td>float32</td>\n",
              "      <td>float32</td>\n",
              "      <td>float32</td>\n",
              "    </tr>\n",
              "    <tr>\n",
              "      <th></th>\n",
              "      <td>...</td>\n",
              "      <td>...</td>\n",
              "      <td>...</td>\n",
              "      <td>...</td>\n",
              "      <td>...</td>\n",
              "      <td>...</td>\n",
              "      <td>...</td>\n",
              "      <td>...</td>\n",
              "      <td>...</td>\n",
              "      <td>...</td>\n",
              "      <td>...</td>\n",
              "      <td>...</td>\n",
              "      <td>...</td>\n",
              "      <td>...</td>\n",
              "    </tr>\n",
              "  </tbody>\n",
              "</table>\n",
              "</div>\n",
              "<div>Dask Name: read-parquet, 1 tasks</div>"
            ],
            "text/plain": [
              "Dask DataFrame Structure:\n",
              "              ArrDelayBinary   t_Year  t_Month DayofMonth DayofWeek CRSDepTime CRSArrTime UniqueCarrier FlightNum ActualElapsedTime   Origin     Dest Distance Diverted\n",
              "npartitions=1                                                                                                                                                          \n",
              "                       int32  float32  float32    float32   float32    float32    float32       float32   float32           float32  float32  float32  float32  float32\n",
              "                         ...      ...      ...        ...       ...        ...        ...           ...       ...               ...      ...      ...      ...      ...\n",
              "Dask Name: read-parquet, 1 tasks"
            ]
          },
          "metadata": {
            "tags": []
          },
          "execution_count": 29
        }
      ]
    },
    {
      "cell_type": "code",
      "metadata": {
        "colab": {
          "base_uri": "https://localhost:8080/",
          "height": 473
        },
        "id": "O7lcJCYmNcnw",
        "outputId": "c1d437be-41f6-4b09-d336-de7546d8d65b"
      },
      "source": [
        "%%time\r\n",
        "dd.read_parquet('airlines.parquet').compute()"
      ],
      "execution_count": null,
      "outputs": [
        {
          "output_type": "stream",
          "text": [
            "CPU times: user 266 ms, sys: 128 ms, total: 394 ms\n",
            "Wall time: 403 ms\n"
          ],
          "name": "stdout"
        },
        {
          "output_type": "execute_result",
          "data": {
            "text/html": [
              "<div>\n",
              "<style scoped>\n",
              "    .dataframe tbody tr th:only-of-type {\n",
              "        vertical-align: middle;\n",
              "    }\n",
              "\n",
              "    .dataframe tbody tr th {\n",
              "        vertical-align: top;\n",
              "    }\n",
              "\n",
              "    .dataframe thead th {\n",
              "        text-align: right;\n",
              "    }\n",
              "</style>\n",
              "<table border=\"1\" class=\"dataframe\">\n",
              "  <thead>\n",
              "    <tr style=\"text-align: right;\">\n",
              "      <th></th>\n",
              "      <th>ArrDelayBinary</th>\n",
              "      <th>t_Year</th>\n",
              "      <th>t_Month</th>\n",
              "      <th>DayofMonth</th>\n",
              "      <th>DayofWeek</th>\n",
              "      <th>CRSDepTime</th>\n",
              "      <th>CRSArrTime</th>\n",
              "      <th>UniqueCarrier</th>\n",
              "      <th>FlightNum</th>\n",
              "      <th>ActualElapsedTime</th>\n",
              "      <th>Origin</th>\n",
              "      <th>Dest</th>\n",
              "      <th>Distance</th>\n",
              "      <th>Diverted</th>\n",
              "    </tr>\n",
              "  </thead>\n",
              "  <tbody>\n",
              "    <tr>\n",
              "      <th>0</th>\n",
              "      <td>0</td>\n",
              "      <td>1991.0</td>\n",
              "      <td>8.0</td>\n",
              "      <td>6.0</td>\n",
              "      <td>2.0</td>\n",
              "      <td>655.0</td>\n",
              "      <td>735.0</td>\n",
              "      <td>5.0</td>\n",
              "      <td>430.0</td>\n",
              "      <td>49.0</td>\n",
              "      <td>185.0</td>\n",
              "      <td>244.0</td>\n",
              "      <td>110.0</td>\n",
              "      <td>0.0</td>\n",
              "    </tr>\n",
              "    <tr>\n",
              "      <th>1</th>\n",
              "      <td>0</td>\n",
              "      <td>1990.0</td>\n",
              "      <td>11.0</td>\n",
              "      <td>19.0</td>\n",
              "      <td>1.0</td>\n",
              "      <td>1654.0</td>\n",
              "      <td>1847.0</td>\n",
              "      <td>4.0</td>\n",
              "      <td>262.0</td>\n",
              "      <td>117.0</td>\n",
              "      <td>156.0</td>\n",
              "      <td>11.0</td>\n",
              "      <td>595.0</td>\n",
              "      <td>0.0</td>\n",
              "    </tr>\n",
              "    <tr>\n",
              "      <th>2</th>\n",
              "      <td>0</td>\n",
              "      <td>1991.0</td>\n",
              "      <td>1.0</td>\n",
              "      <td>20.0</td>\n",
              "      <td>7.0</td>\n",
              "      <td>1700.0</td>\n",
              "      <td>1751.0</td>\n",
              "      <td>12.0</td>\n",
              "      <td>683.0</td>\n",
              "      <td>116.0</td>\n",
              "      <td>189.0</td>\n",
              "      <td>175.0</td>\n",
              "      <td>412.0</td>\n",
              "      <td>0.0</td>\n",
              "    </tr>\n",
              "    <tr>\n",
              "      <th>3</th>\n",
              "      <td>0</td>\n",
              "      <td>1991.0</td>\n",
              "      <td>6.0</td>\n",
              "      <td>25.0</td>\n",
              "      <td>2.0</td>\n",
              "      <td>2130.0</td>\n",
              "      <td>2303.0</td>\n",
              "      <td>3.0</td>\n",
              "      <td>618.0</td>\n",
              "      <td>96.0</td>\n",
              "      <td>180.0</td>\n",
              "      <td>11.0</td>\n",
              "      <td>545.0</td>\n",
              "      <td>0.0</td>\n",
              "    </tr>\n",
              "    <tr>\n",
              "      <th>4</th>\n",
              "      <td>0</td>\n",
              "      <td>1988.0</td>\n",
              "      <td>10.0</td>\n",
              "      <td>1.0</td>\n",
              "      <td>6.0</td>\n",
              "      <td>1611.0</td>\n",
              "      <td>1920.0</td>\n",
              "      <td>3.0</td>\n",
              "      <td>1630.0</td>\n",
              "      <td>126.0</td>\n",
              "      <td>226.0</td>\n",
              "      <td>171.0</td>\n",
              "      <td>866.0</td>\n",
              "      <td>0.0</td>\n",
              "    </tr>\n",
              "    <tr>\n",
              "      <th>...</th>\n",
              "      <td>...</td>\n",
              "      <td>...</td>\n",
              "      <td>...</td>\n",
              "      <td>...</td>\n",
              "      <td>...</td>\n",
              "      <td>...</td>\n",
              "      <td>...</td>\n",
              "      <td>...</td>\n",
              "      <td>...</td>\n",
              "      <td>...</td>\n",
              "      <td>...</td>\n",
              "      <td>...</td>\n",
              "      <td>...</td>\n",
              "      <td>...</td>\n",
              "    </tr>\n",
              "    <tr>\n",
              "      <th>3999995</th>\n",
              "      <td>0</td>\n",
              "      <td>1987.0</td>\n",
              "      <td>10.0</td>\n",
              "      <td>5.0</td>\n",
              "      <td>1.0</td>\n",
              "      <td>740.0</td>\n",
              "      <td>747.0</td>\n",
              "      <td>7.0</td>\n",
              "      <td>821.0</td>\n",
              "      <td>71.0</td>\n",
              "      <td>11.0</td>\n",
              "      <td>150.0</td>\n",
              "      <td>332.0</td>\n",
              "      <td>0.0</td>\n",
              "    </tr>\n",
              "    <tr>\n",
              "      <th>3999996</th>\n",
              "      <td>0</td>\n",
              "      <td>1990.0</td>\n",
              "      <td>7.0</td>\n",
              "      <td>28.0</td>\n",
              "      <td>6.0</td>\n",
              "      <td>955.0</td>\n",
              "      <td>1055.0</td>\n",
              "      <td>14.0</td>\n",
              "      <td>103.0</td>\n",
              "      <td>54.0</td>\n",
              "      <td>167.0</td>\n",
              "      <td>22.0</td>\n",
              "      <td>321.0</td>\n",
              "      <td>0.0</td>\n",
              "    </tr>\n",
              "    <tr>\n",
              "      <th>3999997</th>\n",
              "      <td>0</td>\n",
              "      <td>1987.0</td>\n",
              "      <td>11.0</td>\n",
              "      <td>28.0</td>\n",
              "      <td>6.0</td>\n",
              "      <td>1715.0</td>\n",
              "      <td>1741.0</td>\n",
              "      <td>3.0</td>\n",
              "      <td>1098.0</td>\n",
              "      <td>32.0</td>\n",
              "      <td>133.0</td>\n",
              "      <td>8.0</td>\n",
              "      <td>108.0</td>\n",
              "      <td>0.0</td>\n",
              "    </tr>\n",
              "    <tr>\n",
              "      <th>3999998</th>\n",
              "      <td>0</td>\n",
              "      <td>1991.0</td>\n",
              "      <td>8.0</td>\n",
              "      <td>26.0</td>\n",
              "      <td>1.0</td>\n",
              "      <td>1215.0</td>\n",
              "      <td>1335.0</td>\n",
              "      <td>14.0</td>\n",
              "      <td>103.0</td>\n",
              "      <td>66.0</td>\n",
              "      <td>27.0</td>\n",
              "      <td>149.0</td>\n",
              "      <td>395.0</td>\n",
              "      <td>0.0</td>\n",
              "    </tr>\n",
              "    <tr>\n",
              "      <th>3999999</th>\n",
              "      <td>0</td>\n",
              "      <td>1990.0</td>\n",
              "      <td>7.0</td>\n",
              "      <td>26.0</td>\n",
              "      <td>4.0</td>\n",
              "      <td>925.0</td>\n",
              "      <td>934.0</td>\n",
              "      <td>7.0</td>\n",
              "      <td>1051.0</td>\n",
              "      <td>80.0</td>\n",
              "      <td>69.0</td>\n",
              "      <td>96.0</td>\n",
              "      <td>288.0</td>\n",
              "      <td>0.0</td>\n",
              "    </tr>\n",
              "  </tbody>\n",
              "</table>\n",
              "<p>4000000 rows × 14 columns</p>\n",
              "</div>"
            ],
            "text/plain": [
              "         ArrDelayBinary  t_Year  t_Month  ...   Dest  Distance  Diverted\n",
              "0                     0  1991.0      8.0  ...  244.0     110.0       0.0\n",
              "1                     0  1990.0     11.0  ...   11.0     595.0       0.0\n",
              "2                     0  1991.0      1.0  ...  175.0     412.0       0.0\n",
              "3                     0  1991.0      6.0  ...   11.0     545.0       0.0\n",
              "4                     0  1988.0     10.0  ...  171.0     866.0       0.0\n",
              "...                 ...     ...      ...  ...    ...       ...       ...\n",
              "3999995               0  1987.0     10.0  ...  150.0     332.0       0.0\n",
              "3999996               0  1990.0      7.0  ...   22.0     321.0       0.0\n",
              "3999997               0  1987.0     11.0  ...    8.0     108.0       0.0\n",
              "3999998               0  1991.0      8.0  ...  149.0     395.0       0.0\n",
              "3999999               0  1990.0      7.0  ...   96.0     288.0       0.0\n",
              "\n",
              "[4000000 rows x 14 columns]"
            ]
          },
          "metadata": {
            "tags": []
          },
          "execution_count": 33
        }
      ]
    },
    {
      "cell_type": "code",
      "metadata": {
        "colab": {
          "base_uri": "https://localhost:8080/"
        },
        "id": "jOMfn1FiN0qx",
        "outputId": "e99f5fc8-634a-4e7d-d4ce-d77fd09b0f1e"
      },
      "source": [
        "%%time\r\n",
        "df = dd.read_parquet('airlines.parquet')\r\n",
        "\r\n",
        "df = df.loc[(df['CRSDepTime'] < 1000) & (df['DayofWeek']!=7)]\r\n",
        "\r\n",
        "df.compute()"
      ],
      "execution_count": null,
      "outputs": [
        {
          "output_type": "stream",
          "text": [
            "CPU times: user 307 ms, sys: 61.2 ms, total: 368 ms\n",
            "Wall time: 375 ms\n"
          ],
          "name": "stdout"
        }
      ]
    },
    {
      "cell_type": "code",
      "metadata": {
        "colab": {
          "base_uri": "https://localhost:8080/"
        },
        "id": "44Nk6aJkOOyt",
        "outputId": "79c720e5-9f98-477b-9a4b-5dae87287115"
      },
      "source": [
        "%%time\r\n",
        "df = pd.read_parquet('airlines.parquet')\r\n",
        "\r\n",
        "df = df.loc[(df['CRSDepTime'] < 1000) & (df['DayofWeek']!=7)]\r\n",
        "\r\n",
        "df"
      ],
      "execution_count": null,
      "outputs": [
        {
          "output_type": "stream",
          "text": [
            "CPU times: user 261 ms, sys: 76.3 ms, total: 337 ms\n",
            "Wall time: 235 ms\n"
          ],
          "name": "stdout"
        }
      ]
    },
    {
      "cell_type": "markdown",
      "metadata": {
        "id": "l-EjaVjURa04"
      },
      "source": [
        "## Dask Delayed\r\n",
        "[Docs](https://docs.dask.org/en/latest/delayed.html)"
      ]
    },
    {
      "cell_type": "code",
      "metadata": {
        "colab": {
          "base_uri": "https://localhost:8080/"
        },
        "id": "TPwvXXt0TdM1",
        "outputId": "95421edf-2b11-4319-da7e-0e3699565b3b"
      },
      "source": [
        "def inc(x):\r\n",
        "    return x + 1\r\n",
        "\r\n",
        "def double(x):\r\n",
        "    return x * 2\r\n",
        "\r\n",
        "def add(x, y):\r\n",
        "    return x + y\r\n",
        "\r\n",
        "data = [1, 2, 3, 4, 5]\r\n",
        "\r\n",
        "output = []\r\n",
        "for x in data:\r\n",
        "    a = inc(x)\r\n",
        "    b = double(x)\r\n",
        "    c = add(a, b)\r\n",
        "    output.append(c)\r\n",
        "\r\n",
        "total = sum(output)\r\n",
        "total"
      ],
      "execution_count": null,
      "outputs": [
        {
          "output_type": "execute_result",
          "data": {
            "text/plain": [
              "50"
            ]
          },
          "metadata": {
            "tags": []
          },
          "execution_count": 7
        }
      ]
    },
    {
      "cell_type": "code",
      "metadata": {
        "colab": {
          "base_uri": "https://localhost:8080/",
          "height": 538
        },
        "id": "Ed4xIPNuTcgZ",
        "outputId": "e958dd00-ba76-4687-edf2-ce7773b3289f"
      },
      "source": [
        "import dask\r\n",
        "\r\n",
        "output = []\r\n",
        "for x in data:\r\n",
        "    a = dask.delayed(inc)(x)\r\n",
        "    b = dask.delayed(double)(x)\r\n",
        "    c = dask.delayed(add)(a, b)\r\n",
        "    output.append(c)\r\n",
        "\r\n",
        "total = dask.delayed(sum)(output)\r\n",
        "\r\n",
        "total.visualize()"
      ],
      "execution_count": null,
      "outputs": [
        {
          "output_type": "execute_result",
          "data": {
            "image/png": "[encoded data removed]",
            "text/plain": [
              "<IPython.core.display.Image object>"
            ]
          },
          "metadata": {
            "tags": []
          },
          "execution_count": 10
        }
      ]
    },
    {
      "cell_type": "code",
      "metadata": {
        "colab": {
          "base_uri": "https://localhost:8080/"
        },
        "id": "U29k80yUTclT",
        "outputId": "83ef79c7-14f0-4b2b-e190-d3c170f64a61"
      },
      "source": [
        "total.compute()"
      ],
      "execution_count": null,
      "outputs": [
        {
          "output_type": "execute_result",
          "data": {
            "text/plain": [
              "50"
            ]
          },
          "metadata": {
            "tags": []
          },
          "execution_count": 11
        }
      ]
    },
    {
      "cell_type": "markdown",
      "metadata": {
        "id": "j1eYXyfWXQXJ"
      },
      "source": [
        "What if multiple computes?"
      ]
    },
    {
      "cell_type": "code",
      "metadata": {
        "colab": {
          "base_uri": "https://localhost:8080/"
        },
        "id": "b3a19WMMTO61",
        "outputId": "0121b032-4545-411a-8bb6-e867ac1857f0"
      },
      "source": [
        "from dask import compute\r\n",
        "\r\n",
        "compute(*[total, total])"
      ],
      "execution_count": null,
      "outputs": [
        {
          "output_type": "execute_result",
          "data": {
            "text/plain": [
              "(50, 50)"
            ]
          },
          "metadata": {
            "tags": []
          },
          "execution_count": 12
        }
      ]
    },
    {
      "cell_type": "code",
      "metadata": {
        "id": "V8p_LiUCXpTK"
      },
      "source": [
        "!wget https://github.com/gumdropsteve/datasets/raw/master/iris.csv"
      ],
      "execution_count": null,
      "outputs": []
    },
    {
      "cell_type": "code",
      "metadata": {
        "id": "cGF6t8wHTQ5U"
      },
      "source": [
        "from dask import dataframe as dd\r\n",
        "\r\n",
        "df = dd.read_csv('iris.csv')"
      ],
      "execution_count": null,
      "outputs": []
    },
    {
      "cell_type": "code",
      "metadata": {
        "colab": {
          "base_uri": "https://localhost:8080/"
        },
        "id": "9Ckl9f3yXTnJ",
        "outputId": "5c187495-0eac-4628-f9c5-233b8391bb13"
      },
      "source": [
        "compute([df])"
      ],
      "execution_count": null,
      "outputs": [
        {
          "output_type": "execute_result",
          "data": {
            "text/plain": [
              "([     sepal_length  sepal_width  petal_length  petal_width    species  target\n",
              "  0             5.1          3.5           1.4          0.2     setosa       0\n",
              "  1             4.9          3.0           1.4          0.2     setosa       0\n",
              "  2             4.7          3.2           1.3          0.2     setosa       0\n",
              "  3             4.6          3.1           1.5          0.2     setosa       0\n",
              "  4             5.0          3.6           1.4          0.2     setosa       0\n",
              "  ..            ...          ...           ...          ...        ...     ...\n",
              "  145           6.7          3.0           5.2          2.3  virginica       2\n",
              "  146           6.3          2.5           5.0          1.9  virginica       2\n",
              "  147           6.5          3.0           5.2          2.0  virginica       2\n",
              "  148           6.2          3.4           5.4          2.3  virginica       2\n",
              "  149           5.9          3.0           5.1          1.8  virginica       2\n",
              "  \n",
              "  [150 rows x 6 columns]],)"
            ]
          },
          "metadata": {
            "tags": []
          },
          "execution_count": 18
        }
      ]
    },
    {
      "cell_type": "code",
      "metadata": {
        "colab": {
          "base_uri": "https://localhost:8080/"
        },
        "id": "VGq0UGFdXxNY",
        "outputId": "449192ec-89cb-496a-f926-f0a5a71ba15c"
      },
      "source": [
        "compute(*[total, total, df])"
      ],
      "execution_count": null,
      "outputs": [
        {
          "output_type": "execute_result",
          "data": {
            "text/plain": [
              "(50,\n",
              " 50,\n",
              "      sepal_length  sepal_width  petal_length  petal_width    species  target\n",
              " 0             5.1          3.5           1.4          0.2     setosa       0\n",
              " 1             4.9          3.0           1.4          0.2     setosa       0\n",
              " 2             4.7          3.2           1.3          0.2     setosa       0\n",
              " 3             4.6          3.1           1.5          0.2     setosa       0\n",
              " 4             5.0          3.6           1.4          0.2     setosa       0\n",
              " ..            ...          ...           ...          ...        ...     ...\n",
              " 145           6.7          3.0           5.2          2.3  virginica       2\n",
              " 146           6.3          2.5           5.0          1.9  virginica       2\n",
              " 147           6.5          3.0           5.2          2.0  virginica       2\n",
              " 148           6.2          3.4           5.4          2.3  virginica       2\n",
              " 149           5.9          3.0           5.1          1.8  virginica       2\n",
              " \n",
              " [150 rows x 6 columns])"
            ]
          },
          "metadata": {
            "tags": []
          },
          "execution_count": 19
        }
      ]
    },
    {
      "cell_type": "code",
      "metadata": {
        "colab": {
          "base_uri": "https://localhost:8080/"
        },
        "id": "7QYCLUtpX0-N",
        "outputId": "bfc1c577-8b0c-4c92-e956-72b6cdf64e07"
      },
      "source": [
        "compute(*[total, df, total])"
      ],
      "execution_count": null,
      "outputs": [
        {
          "output_type": "execute_result",
          "data": {
            "text/plain": [
              "(50,\n",
              "      sepal_length  sepal_width  petal_length  petal_width    species  target\n",
              " 0             5.1          3.5           1.4          0.2     setosa       0\n",
              " 1             4.9          3.0           1.4          0.2     setosa       0\n",
              " 2             4.7          3.2           1.3          0.2     setosa       0\n",
              " 3             4.6          3.1           1.5          0.2     setosa       0\n",
              " 4             5.0          3.6           1.4          0.2     setosa       0\n",
              " ..            ...          ...           ...          ...        ...     ...\n",
              " 145           6.7          3.0           5.2          2.3  virginica       2\n",
              " 146           6.3          2.5           5.0          1.9  virginica       2\n",
              " 147           6.5          3.0           5.2          2.0  virginica       2\n",
              " 148           6.2          3.4           5.4          2.3  virginica       2\n",
              " 149           5.9          3.0           5.1          1.8  virginica       2\n",
              " \n",
              " [150 rows x 6 columns],\n",
              " 50)"
            ]
          },
          "metadata": {
            "tags": []
          },
          "execution_count": 20
        }
      ]
    },
    {
      "cell_type": "markdown",
      "metadata": {
        "id": "U2EJW0NlYc01"
      },
      "source": [
        "[IRL example using Delayed](https://gist.github.com/gumdropsteve/284bc99ee5d21026e80450b3b35a494e)"
      ]
    }
  ]
}